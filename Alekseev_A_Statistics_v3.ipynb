{
 "cells": [
  {
   "cell_type": "markdown",
   "id": "f828903c",
   "metadata": {},
   "source": [
    "<div style=\"border:solid lightblue 3px; background:#f7faf8; padding: 20px\">\n",
    "<b>Андрей, привет!</b>\n",
    "\n",
    "Меня зовут Владимир Бердников, и я буду проверять твой проект. Предлагаю общаться на «ты», но если это не совсем удобно для тебя — дай знать, и мы перейдем на \"вы\". Моя цель не указать на совершённые тобой ошибки, а поделиться своим опытом и помочь улучшить навыки. \n",
    "    \n",
    "Пожалуйста, не перемещай, не удаляй и не правь мои комментарии. Всё это поможет выполнить повторную проверку твоего проекта оперативнее.\n",
    "\n",
    "При проверке работы я буду отмечать комментарии цветом и примечанием. В конце заголовка комментария указан номер итерации проверки.\n",
    "\n",
    "<div class=\"alert alert-block alert-danger\" style=\"border-radius: 15px; box-shadow: 4px 4px 4px; border: 1px solid \">\n",
    "<h2> Комментарий ревьюера v_1: <a class=\"tocSkip\"></h2>\n",
    "    \n",
    "❌ Комментарии такого цвета нужно исправить, иначе проект не будет принят. \n",
    "</div>\n",
    "\n",
    "<div class=\"alert alert-warning\" style=\"border-radius: 15px; box-shadow: 4px 4px 4px; border: 1px solid \">\n",
    "<h2> Комментарий ревьюера v_1: <a class=\"tocSkip\"> </h2>\n",
    "    \n",
    "⚠️ Такой комментарий является рекомендацией или советом. Mожешь учесть их при выполнении задания.\n",
    "</div>\n",
    "\n",
    "<div class=\"alert alert-success\" style=\"border-radius: 15px; box-shadow: 4px 4px 4px; border: 1px solid \">\n",
    "<h2> Комментарий ревьюера v_1: <a class=\"tocSkip\"> </h2>\n",
    "    \n",
    "✅ Так выделены все остальные комментарии, включая позитивные моменты, пояснения и рассуждения.\n",
    "</div>  \n",
    "    \n",
    "Давай работать над проектом в диалоге: если ты что-то меняешь вс проекте — пиши об этом в комментариях, например, с помощью такого кода в markdown ячейке:"
   ]
  },
  {
   "cell_type": "markdown",
   "id": "adef2ca5",
   "metadata": {},
   "source": [
    "<div class=\"alert alert-info\"  style=\"border-radius: 15px; box-shadow: 4px 4px 4px; border: 1px solid \">\n",
    "    \n",
    "<h2>Комментарий студента v_1: <a class=\"tocSkip\"> </h2>\n",
    "\n",
    "Ок.   "
   ]
  },
  {
   "cell_type": "markdown",
   "id": "be32bedf",
   "metadata": {},
   "source": []
  },
  {
   "cell_type": "markdown",
   "id": "7a020313",
   "metadata": {},
   "source": [
    "<div class=\"alert alert-block alert-danger\" style=\"border-radius: 15px; box-shadow: 4px 4px 4px; border: 1px solid \">\n",
    "<h2> Комментарий ревьюера v_1: <a class=\"tocSkip\"></h2>\n",
    "    \n",
    "❌ Необходимо добавить вступление (этот пункт есть в блоке курса: Полезные инструкции для учёбы - Оформление проекта - Рекомендации по выполнению проектов):\n",
    "    \t\n",
    "* заголовок\n",
    "* краткое описание проекта (желательно своими словами, не копируя из имеющегося описания)\n",
    "* цель проекта\n",
    "* описание данных (на усмотрение, данные можно описать в самой работе)\n",
    "* план работы.\n",
    "\n",
    "Со вступлением получатель отчета сможет получить общее представление о том, что будет в проекте\n"
   ]
  },
  {
   "cell_type": "markdown",
   "id": "3b565775-ffae-4daf-99d6-b2801b0742a7",
   "metadata": {},
   "source": [
    "# Проект: Статистический анализ данных "
   ]
  },
  {
   "cell_type": "markdown",
   "id": "7221ea8e-002a-4a01-b7f8-596446d53ba1",
   "metadata": {},
   "source": [
    "Проект по статистическому анализу данных в котором я представляю аналитика популярного сервиса аренды самокатов. Получены данные о пользователях из нескольких городов и их поездках. Требуется проанализировать данные и проверить гипотезы."
   ]
  },
  {
   "cell_type": "markdown",
   "id": "fbc2aa61-6070-4722-a859-cb8117740cf5",
   "metadata": {},
   "source": [
    "План работы: \n",
    "- Загрузка данных\n",
    "- Предобработка данных\n",
    "- Исследовательский анализ данных\n",
    "- Объединение данных\n",
    "- Подсчет выручки\n",
    "- Проверка гипотез\n",
    "- Работа с распределениями\n",
    "- Вывод"
   ]
  },
  {
   "cell_type": "markdown",
   "id": "ba25145c-3855-4e8a-81f6-86807f137fb4",
   "metadata": {},
   "source": [
    "<div class=\"alert alert-info\"  style=\"border-radius: 15px; box-shadow: 4px 4px 4px; border: 1px solid \">\n",
    "    \n",
    "<h2>Комментарий студента v_1: <a class=\"tocSkip\"> </h2>\n",
    "\n",
    "Выше добавил заголовок, краткое описание и план работы"
   ]
  },
  {
   "cell_type": "markdown",
   "id": "491849c5",
   "metadata": {},
   "source": [
    "<div class=\"alert alert-success\" style=\"border-radius: 15px; box-shadow: 4px 4px 4px; border: 1px solid \">\n",
    "<h2> Комментарий ревьюера v_2: <a class=\"tocSkip\"> </h2>\n",
    "    \n",
    "✅ Хорошо"
   ]
  },
  {
   "cell_type": "code",
   "execution_count": 2,
   "id": "72576667",
   "metadata": {},
   "outputs": [],
   "source": [
    "import pandas as pd\n",
    "import numpy as np\n",
    "from scipy.stats import uniform, norm\n",
    "from scipy import stats as st\n",
    "import matplotlib.pyplot as plt\n",
    "from scipy.stats import binom"
   ]
  },
  {
   "cell_type": "code",
   "execution_count": 3,
   "id": "4c080160-143b-4c74-8510-ac2f5d32d781",
   "metadata": {},
   "outputs": [],
   "source": [
    "pd.options.mode.chained_assignment = None"
   ]
  },
  {
   "cell_type": "markdown",
   "id": "c42cbe00",
   "metadata": {},
   "source": [
    "## Шаг 1. Загрузка данных"
   ]
  },
  {
   "cell_type": "code",
   "execution_count": 4,
   "id": "aa61f040-8425-4643-82ba-2895fbde10f9",
   "metadata": {},
   "outputs": [
    {
     "ename": "FileNotFoundError",
     "evalue": "[Errno 2] No such file or directory: '/datasets/users_go.csv'",
     "output_type": "error",
     "traceback": [
      "\u001b[0;31m---------------------------------------------------------------------------\u001b[0m",
      "\u001b[0;31mFileNotFoundError\u001b[0m                         Traceback (most recent call last)",
      "Cell \u001b[0;32mIn[4], line 2\u001b[0m\n\u001b[1;32m      1\u001b[0m \u001b[38;5;28;01mtry\u001b[39;00m:\n\u001b[0;32m----> 2\u001b[0m     users \u001b[38;5;241m=\u001b[39m \u001b[43mpd\u001b[49m\u001b[38;5;241;43m.\u001b[39;49m\u001b[43mread_csv\u001b[49m\u001b[43m(\u001b[49m\u001b[38;5;124;43m'\u001b[39;49m\u001b[38;5;124;43m/Users/andreyalekseev/Документы(не облако)/Практикум/4. Статистический анализ/users_go.csv\u001b[39;49m\u001b[38;5;124;43m'\u001b[39;49m\u001b[43m)\u001b[49m\n\u001b[1;32m      3\u001b[0m \u001b[38;5;28;01mexcept\u001b[39;00m:\n",
      "File \u001b[0;32m~/anaconda3/envs/practicum/lib/python3.9/site-packages/pandas/io/parsers.py:610\u001b[0m, in \u001b[0;36mread_csv\u001b[0;34m(filepath_or_buffer, sep, delimiter, header, names, index_col, usecols, squeeze, prefix, mangle_dupe_cols, dtype, engine, converters, true_values, false_values, skipinitialspace, skiprows, skipfooter, nrows, na_values, keep_default_na, na_filter, verbose, skip_blank_lines, parse_dates, infer_datetime_format, keep_date_col, date_parser, dayfirst, cache_dates, iterator, chunksize, compression, thousands, decimal, lineterminator, quotechar, quoting, doublequote, escapechar, comment, encoding, dialect, error_bad_lines, warn_bad_lines, delim_whitespace, low_memory, memory_map, float_precision, storage_options)\u001b[0m\n\u001b[1;32m    608\u001b[0m kwds\u001b[38;5;241m.\u001b[39mupdate(kwds_defaults)\n\u001b[0;32m--> 610\u001b[0m \u001b[38;5;28;01mreturn\u001b[39;00m \u001b[43m_read\u001b[49m\u001b[43m(\u001b[49m\u001b[43mfilepath_or_buffer\u001b[49m\u001b[43m,\u001b[49m\u001b[43m \u001b[49m\u001b[43mkwds\u001b[49m\u001b[43m)\u001b[49m\n",
      "File \u001b[0;32m~/anaconda3/envs/practicum/lib/python3.9/site-packages/pandas/io/parsers.py:462\u001b[0m, in \u001b[0;36m_read\u001b[0;34m(filepath_or_buffer, kwds)\u001b[0m\n\u001b[1;32m    461\u001b[0m \u001b[38;5;66;03m# Create the parser.\u001b[39;00m\n\u001b[0;32m--> 462\u001b[0m parser \u001b[38;5;241m=\u001b[39m \u001b[43mTextFileReader\u001b[49m\u001b[43m(\u001b[49m\u001b[43mfilepath_or_buffer\u001b[49m\u001b[43m,\u001b[49m\u001b[43m \u001b[49m\u001b[38;5;241;43m*\u001b[39;49m\u001b[38;5;241;43m*\u001b[39;49m\u001b[43mkwds\u001b[49m\u001b[43m)\u001b[49m\n\u001b[1;32m    464\u001b[0m \u001b[38;5;28;01mif\u001b[39;00m chunksize \u001b[38;5;129;01mor\u001b[39;00m iterator:\n",
      "File \u001b[0;32m~/anaconda3/envs/practicum/lib/python3.9/site-packages/pandas/io/parsers.py:819\u001b[0m, in \u001b[0;36mTextFileReader.__init__\u001b[0;34m(self, f, engine, **kwds)\u001b[0m\n\u001b[1;32m    817\u001b[0m     \u001b[38;5;28mself\u001b[39m\u001b[38;5;241m.\u001b[39moptions[\u001b[38;5;124m\"\u001b[39m\u001b[38;5;124mhas_index_names\u001b[39m\u001b[38;5;124m\"\u001b[39m] \u001b[38;5;241m=\u001b[39m kwds[\u001b[38;5;124m\"\u001b[39m\u001b[38;5;124mhas_index_names\u001b[39m\u001b[38;5;124m\"\u001b[39m]\n\u001b[0;32m--> 819\u001b[0m \u001b[38;5;28mself\u001b[39m\u001b[38;5;241m.\u001b[39m_engine \u001b[38;5;241m=\u001b[39m \u001b[38;5;28;43mself\u001b[39;49m\u001b[38;5;241;43m.\u001b[39;49m\u001b[43m_make_engine\u001b[49m\u001b[43m(\u001b[49m\u001b[38;5;28;43mself\u001b[39;49m\u001b[38;5;241;43m.\u001b[39;49m\u001b[43mengine\u001b[49m\u001b[43m)\u001b[49m\n",
      "File \u001b[0;32m~/anaconda3/envs/practicum/lib/python3.9/site-packages/pandas/io/parsers.py:1050\u001b[0m, in \u001b[0;36mTextFileReader._make_engine\u001b[0;34m(self, engine)\u001b[0m\n\u001b[1;32m   1049\u001b[0m \u001b[38;5;66;03m# error: Too many arguments for \"ParserBase\"\u001b[39;00m\n\u001b[0;32m-> 1050\u001b[0m \u001b[38;5;28;01mreturn\u001b[39;00m \u001b[43mmapping\u001b[49m\u001b[43m[\u001b[49m\u001b[43mengine\u001b[49m\u001b[43m]\u001b[49m\u001b[43m(\u001b[49m\u001b[38;5;28;43mself\u001b[39;49m\u001b[38;5;241;43m.\u001b[39;49m\u001b[43mf\u001b[49m\u001b[43m,\u001b[49m\u001b[43m \u001b[49m\u001b[38;5;241;43m*\u001b[39;49m\u001b[38;5;241;43m*\u001b[39;49m\u001b[38;5;28;43mself\u001b[39;49m\u001b[38;5;241;43m.\u001b[39;49m\u001b[43moptions\u001b[49m\u001b[43m)\u001b[49m\n",
      "File \u001b[0;32m~/anaconda3/envs/practicum/lib/python3.9/site-packages/pandas/io/parsers.py:1867\u001b[0m, in \u001b[0;36mCParserWrapper.__init__\u001b[0;34m(self, src, **kwds)\u001b[0m\n\u001b[1;32m   1866\u001b[0m \u001b[38;5;66;03m# open handles\u001b[39;00m\n\u001b[0;32m-> 1867\u001b[0m \u001b[38;5;28;43mself\u001b[39;49m\u001b[38;5;241;43m.\u001b[39;49m\u001b[43m_open_handles\u001b[49m\u001b[43m(\u001b[49m\u001b[43msrc\u001b[49m\u001b[43m,\u001b[49m\u001b[43m \u001b[49m\u001b[43mkwds\u001b[49m\u001b[43m)\u001b[49m\n\u001b[1;32m   1868\u001b[0m \u001b[38;5;28;01massert\u001b[39;00m \u001b[38;5;28mself\u001b[39m\u001b[38;5;241m.\u001b[39mhandles \u001b[38;5;129;01mis\u001b[39;00m \u001b[38;5;129;01mnot\u001b[39;00m \u001b[38;5;28;01mNone\u001b[39;00m\n",
      "File \u001b[0;32m~/anaconda3/envs/practicum/lib/python3.9/site-packages/pandas/io/parsers.py:1362\u001b[0m, in \u001b[0;36mParserBase._open_handles\u001b[0;34m(self, src, kwds)\u001b[0m\n\u001b[1;32m   1359\u001b[0m \u001b[38;5;250m\u001b[39m\u001b[38;5;124;03m\"\"\"\u001b[39;00m\n\u001b[1;32m   1360\u001b[0m \u001b[38;5;124;03mLet the readers open IOHanldes after they are done with their potential raises.\u001b[39;00m\n\u001b[1;32m   1361\u001b[0m \u001b[38;5;124;03m\"\"\"\u001b[39;00m\n\u001b[0;32m-> 1362\u001b[0m \u001b[38;5;28mself\u001b[39m\u001b[38;5;241m.\u001b[39mhandles \u001b[38;5;241m=\u001b[39m \u001b[43mget_handle\u001b[49m\u001b[43m(\u001b[49m\n\u001b[1;32m   1363\u001b[0m \u001b[43m    \u001b[49m\u001b[43msrc\u001b[49m\u001b[43m,\u001b[49m\n\u001b[1;32m   1364\u001b[0m \u001b[43m    \u001b[49m\u001b[38;5;124;43m\"\u001b[39;49m\u001b[38;5;124;43mr\u001b[39;49m\u001b[38;5;124;43m\"\u001b[39;49m\u001b[43m,\u001b[49m\n\u001b[1;32m   1365\u001b[0m \u001b[43m    \u001b[49m\u001b[43mencoding\u001b[49m\u001b[38;5;241;43m=\u001b[39;49m\u001b[43mkwds\u001b[49m\u001b[38;5;241;43m.\u001b[39;49m\u001b[43mget\u001b[49m\u001b[43m(\u001b[49m\u001b[38;5;124;43m\"\u001b[39;49m\u001b[38;5;124;43mencoding\u001b[39;49m\u001b[38;5;124;43m\"\u001b[39;49m\u001b[43m,\u001b[49m\u001b[43m \u001b[49m\u001b[38;5;28;43;01mNone\u001b[39;49;00m\u001b[43m)\u001b[49m\u001b[43m,\u001b[49m\n\u001b[1;32m   1366\u001b[0m \u001b[43m    \u001b[49m\u001b[43mcompression\u001b[49m\u001b[38;5;241;43m=\u001b[39;49m\u001b[43mkwds\u001b[49m\u001b[38;5;241;43m.\u001b[39;49m\u001b[43mget\u001b[49m\u001b[43m(\u001b[49m\u001b[38;5;124;43m\"\u001b[39;49m\u001b[38;5;124;43mcompression\u001b[39;49m\u001b[38;5;124;43m\"\u001b[39;49m\u001b[43m,\u001b[49m\u001b[43m \u001b[49m\u001b[38;5;28;43;01mNone\u001b[39;49;00m\u001b[43m)\u001b[49m\u001b[43m,\u001b[49m\n\u001b[1;32m   1367\u001b[0m \u001b[43m    \u001b[49m\u001b[43mmemory_map\u001b[49m\u001b[38;5;241;43m=\u001b[39;49m\u001b[43mkwds\u001b[49m\u001b[38;5;241;43m.\u001b[39;49m\u001b[43mget\u001b[49m\u001b[43m(\u001b[49m\u001b[38;5;124;43m\"\u001b[39;49m\u001b[38;5;124;43mmemory_map\u001b[39;49m\u001b[38;5;124;43m\"\u001b[39;49m\u001b[43m,\u001b[49m\u001b[43m \u001b[49m\u001b[38;5;28;43;01mFalse\u001b[39;49;00m\u001b[43m)\u001b[49m\u001b[43m,\u001b[49m\n\u001b[1;32m   1368\u001b[0m \u001b[43m    \u001b[49m\u001b[43mstorage_options\u001b[49m\u001b[38;5;241;43m=\u001b[39;49m\u001b[43mkwds\u001b[49m\u001b[38;5;241;43m.\u001b[39;49m\u001b[43mget\u001b[49m\u001b[43m(\u001b[49m\u001b[38;5;124;43m\"\u001b[39;49m\u001b[38;5;124;43mstorage_options\u001b[39;49m\u001b[38;5;124;43m\"\u001b[39;49m\u001b[43m,\u001b[49m\u001b[43m \u001b[49m\u001b[38;5;28;43;01mNone\u001b[39;49;00m\u001b[43m)\u001b[49m\u001b[43m,\u001b[49m\n\u001b[1;32m   1369\u001b[0m \u001b[43m\u001b[49m\u001b[43m)\u001b[49m\n",
      "File \u001b[0;32m~/anaconda3/envs/practicum/lib/python3.9/site-packages/pandas/io/common.py:642\u001b[0m, in \u001b[0;36mget_handle\u001b[0;34m(path_or_buf, mode, encoding, compression, memory_map, is_text, errors, storage_options)\u001b[0m\n\u001b[1;32m    641\u001b[0m     \u001b[38;5;66;03m# Encoding\u001b[39;00m\n\u001b[0;32m--> 642\u001b[0m     handle \u001b[38;5;241m=\u001b[39m \u001b[38;5;28;43mopen\u001b[39;49m\u001b[43m(\u001b[49m\n\u001b[1;32m    643\u001b[0m \u001b[43m        \u001b[49m\u001b[43mhandle\u001b[49m\u001b[43m,\u001b[49m\n\u001b[1;32m    644\u001b[0m \u001b[43m        \u001b[49m\u001b[43mioargs\u001b[49m\u001b[38;5;241;43m.\u001b[39;49m\u001b[43mmode\u001b[49m\u001b[43m,\u001b[49m\n\u001b[1;32m    645\u001b[0m \u001b[43m        \u001b[49m\u001b[43mencoding\u001b[49m\u001b[38;5;241;43m=\u001b[39;49m\u001b[43mioargs\u001b[49m\u001b[38;5;241;43m.\u001b[39;49m\u001b[43mencoding\u001b[49m\u001b[43m,\u001b[49m\n\u001b[1;32m    646\u001b[0m \u001b[43m        \u001b[49m\u001b[43merrors\u001b[49m\u001b[38;5;241;43m=\u001b[39;49m\u001b[43merrors\u001b[49m\u001b[43m,\u001b[49m\n\u001b[1;32m    647\u001b[0m \u001b[43m        \u001b[49m\u001b[43mnewline\u001b[49m\u001b[38;5;241;43m=\u001b[39;49m\u001b[38;5;124;43m\"\u001b[39;49m\u001b[38;5;124;43m\"\u001b[39;49m\u001b[43m,\u001b[49m\n\u001b[1;32m    648\u001b[0m \u001b[43m    \u001b[49m\u001b[43m)\u001b[49m\n\u001b[1;32m    649\u001b[0m \u001b[38;5;28;01melse\u001b[39;00m:\n\u001b[1;32m    650\u001b[0m     \u001b[38;5;66;03m# Binary mode\u001b[39;00m\n",
      "\u001b[0;31mFileNotFoundError\u001b[0m: [Errno 2] No such file or directory: '/Users/andreyalekseev/Документы(не облако)/Практикум/4. Статистический анализ/users_go.csv'",
      "\nDuring handling of the above exception, another exception occurred:\n",
      "\u001b[0;31mFileNotFoundError\u001b[0m                         Traceback (most recent call last)",
      "Cell \u001b[0;32mIn[4], line 4\u001b[0m\n\u001b[1;32m      2\u001b[0m     users \u001b[38;5;241m=\u001b[39m pd\u001b[38;5;241m.\u001b[39mread_csv(\u001b[38;5;124m'\u001b[39m\u001b[38;5;124m/Users/andreyalekseev/Документы(не облако)/Практикум/4. Статистический анализ/users_go.csv\u001b[39m\u001b[38;5;124m'\u001b[39m)\n\u001b[1;32m      3\u001b[0m \u001b[38;5;28;01mexcept\u001b[39;00m:\n\u001b[0;32m----> 4\u001b[0m     users \u001b[38;5;241m=\u001b[39m \u001b[43mpd\u001b[49m\u001b[38;5;241;43m.\u001b[39;49m\u001b[43mread_csv\u001b[49m\u001b[43m(\u001b[49m\u001b[38;5;124;43m'\u001b[39;49m\u001b[38;5;124;43m/datasets/users_go.csv\u001b[39;49m\u001b[38;5;124;43m'\u001b[39;49m\u001b[43m)\u001b[49m\n\u001b[1;32m      6\u001b[0m \u001b[38;5;28;01mtry\u001b[39;00m:\n\u001b[1;32m      7\u001b[0m     riders \u001b[38;5;241m=\u001b[39m pd\u001b[38;5;241m.\u001b[39mread_csv(\u001b[38;5;124m'\u001b[39m\u001b[38;5;124m/Users/andreyalekseev/Документы(не облако)/Практикум/4. Статистический анализ/rides_go.csv\u001b[39m\u001b[38;5;124m'\u001b[39m)\n",
      "File \u001b[0;32m~/anaconda3/envs/practicum/lib/python3.9/site-packages/pandas/io/parsers.py:610\u001b[0m, in \u001b[0;36mread_csv\u001b[0;34m(filepath_or_buffer, sep, delimiter, header, names, index_col, usecols, squeeze, prefix, mangle_dupe_cols, dtype, engine, converters, true_values, false_values, skipinitialspace, skiprows, skipfooter, nrows, na_values, keep_default_na, na_filter, verbose, skip_blank_lines, parse_dates, infer_datetime_format, keep_date_col, date_parser, dayfirst, cache_dates, iterator, chunksize, compression, thousands, decimal, lineterminator, quotechar, quoting, doublequote, escapechar, comment, encoding, dialect, error_bad_lines, warn_bad_lines, delim_whitespace, low_memory, memory_map, float_precision, storage_options)\u001b[0m\n\u001b[1;32m    605\u001b[0m kwds_defaults \u001b[38;5;241m=\u001b[39m _refine_defaults_read(\n\u001b[1;32m    606\u001b[0m     dialect, delimiter, delim_whitespace, engine, sep, defaults\u001b[38;5;241m=\u001b[39m{\u001b[38;5;124m\"\u001b[39m\u001b[38;5;124mdelimiter\u001b[39m\u001b[38;5;124m\"\u001b[39m: \u001b[38;5;124m\"\u001b[39m\u001b[38;5;124m,\u001b[39m\u001b[38;5;124m\"\u001b[39m}\n\u001b[1;32m    607\u001b[0m )\n\u001b[1;32m    608\u001b[0m kwds\u001b[38;5;241m.\u001b[39mupdate(kwds_defaults)\n\u001b[0;32m--> 610\u001b[0m \u001b[38;5;28;01mreturn\u001b[39;00m \u001b[43m_read\u001b[49m\u001b[43m(\u001b[49m\u001b[43mfilepath_or_buffer\u001b[49m\u001b[43m,\u001b[49m\u001b[43m \u001b[49m\u001b[43mkwds\u001b[49m\u001b[43m)\u001b[49m\n",
      "File \u001b[0;32m~/anaconda3/envs/practicum/lib/python3.9/site-packages/pandas/io/parsers.py:462\u001b[0m, in \u001b[0;36m_read\u001b[0;34m(filepath_or_buffer, kwds)\u001b[0m\n\u001b[1;32m    459\u001b[0m _validate_names(kwds\u001b[38;5;241m.\u001b[39mget(\u001b[38;5;124m\"\u001b[39m\u001b[38;5;124mnames\u001b[39m\u001b[38;5;124m\"\u001b[39m, \u001b[38;5;28;01mNone\u001b[39;00m))\n\u001b[1;32m    461\u001b[0m \u001b[38;5;66;03m# Create the parser.\u001b[39;00m\n\u001b[0;32m--> 462\u001b[0m parser \u001b[38;5;241m=\u001b[39m \u001b[43mTextFileReader\u001b[49m\u001b[43m(\u001b[49m\u001b[43mfilepath_or_buffer\u001b[49m\u001b[43m,\u001b[49m\u001b[43m \u001b[49m\u001b[38;5;241;43m*\u001b[39;49m\u001b[38;5;241;43m*\u001b[39;49m\u001b[43mkwds\u001b[49m\u001b[43m)\u001b[49m\n\u001b[1;32m    464\u001b[0m \u001b[38;5;28;01mif\u001b[39;00m chunksize \u001b[38;5;129;01mor\u001b[39;00m iterator:\n\u001b[1;32m    465\u001b[0m     \u001b[38;5;28;01mreturn\u001b[39;00m parser\n",
      "File \u001b[0;32m~/anaconda3/envs/practicum/lib/python3.9/site-packages/pandas/io/parsers.py:819\u001b[0m, in \u001b[0;36mTextFileReader.__init__\u001b[0;34m(self, f, engine, **kwds)\u001b[0m\n\u001b[1;32m    816\u001b[0m \u001b[38;5;28;01mif\u001b[39;00m \u001b[38;5;124m\"\u001b[39m\u001b[38;5;124mhas_index_names\u001b[39m\u001b[38;5;124m\"\u001b[39m \u001b[38;5;129;01min\u001b[39;00m kwds:\n\u001b[1;32m    817\u001b[0m     \u001b[38;5;28mself\u001b[39m\u001b[38;5;241m.\u001b[39moptions[\u001b[38;5;124m\"\u001b[39m\u001b[38;5;124mhas_index_names\u001b[39m\u001b[38;5;124m\"\u001b[39m] \u001b[38;5;241m=\u001b[39m kwds[\u001b[38;5;124m\"\u001b[39m\u001b[38;5;124mhas_index_names\u001b[39m\u001b[38;5;124m\"\u001b[39m]\n\u001b[0;32m--> 819\u001b[0m \u001b[38;5;28mself\u001b[39m\u001b[38;5;241m.\u001b[39m_engine \u001b[38;5;241m=\u001b[39m \u001b[38;5;28;43mself\u001b[39;49m\u001b[38;5;241;43m.\u001b[39;49m\u001b[43m_make_engine\u001b[49m\u001b[43m(\u001b[49m\u001b[38;5;28;43mself\u001b[39;49m\u001b[38;5;241;43m.\u001b[39;49m\u001b[43mengine\u001b[49m\u001b[43m)\u001b[49m\n",
      "File \u001b[0;32m~/anaconda3/envs/practicum/lib/python3.9/site-packages/pandas/io/parsers.py:1050\u001b[0m, in \u001b[0;36mTextFileReader._make_engine\u001b[0;34m(self, engine)\u001b[0m\n\u001b[1;32m   1046\u001b[0m     \u001b[38;5;28;01mraise\u001b[39;00m \u001b[38;5;167;01mValueError\u001b[39;00m(\n\u001b[1;32m   1047\u001b[0m         \u001b[38;5;124mf\u001b[39m\u001b[38;5;124m\"\u001b[39m\u001b[38;5;124mUnknown engine: \u001b[39m\u001b[38;5;132;01m{\u001b[39;00mengine\u001b[38;5;132;01m}\u001b[39;00m\u001b[38;5;124m (valid options are \u001b[39m\u001b[38;5;132;01m{\u001b[39;00mmapping\u001b[38;5;241m.\u001b[39mkeys()\u001b[38;5;132;01m}\u001b[39;00m\u001b[38;5;124m)\u001b[39m\u001b[38;5;124m\"\u001b[39m\n\u001b[1;32m   1048\u001b[0m     )\n\u001b[1;32m   1049\u001b[0m \u001b[38;5;66;03m# error: Too many arguments for \"ParserBase\"\u001b[39;00m\n\u001b[0;32m-> 1050\u001b[0m \u001b[38;5;28;01mreturn\u001b[39;00m \u001b[43mmapping\u001b[49m\u001b[43m[\u001b[49m\u001b[43mengine\u001b[49m\u001b[43m]\u001b[49m\u001b[43m(\u001b[49m\u001b[38;5;28;43mself\u001b[39;49m\u001b[38;5;241;43m.\u001b[39;49m\u001b[43mf\u001b[49m\u001b[43m,\u001b[49m\u001b[43m \u001b[49m\u001b[38;5;241;43m*\u001b[39;49m\u001b[38;5;241;43m*\u001b[39;49m\u001b[38;5;28;43mself\u001b[39;49m\u001b[38;5;241;43m.\u001b[39;49m\u001b[43moptions\u001b[49m\u001b[43m)\u001b[49m\n",
      "File \u001b[0;32m~/anaconda3/envs/practicum/lib/python3.9/site-packages/pandas/io/parsers.py:1867\u001b[0m, in \u001b[0;36mCParserWrapper.__init__\u001b[0;34m(self, src, **kwds)\u001b[0m\n\u001b[1;32m   1864\u001b[0m kwds[\u001b[38;5;124m\"\u001b[39m\u001b[38;5;124musecols\u001b[39m\u001b[38;5;124m\"\u001b[39m] \u001b[38;5;241m=\u001b[39m \u001b[38;5;28mself\u001b[39m\u001b[38;5;241m.\u001b[39musecols\n\u001b[1;32m   1866\u001b[0m \u001b[38;5;66;03m# open handles\u001b[39;00m\n\u001b[0;32m-> 1867\u001b[0m \u001b[38;5;28;43mself\u001b[39;49m\u001b[38;5;241;43m.\u001b[39;49m\u001b[43m_open_handles\u001b[49m\u001b[43m(\u001b[49m\u001b[43msrc\u001b[49m\u001b[43m,\u001b[49m\u001b[43m \u001b[49m\u001b[43mkwds\u001b[49m\u001b[43m)\u001b[49m\n\u001b[1;32m   1868\u001b[0m \u001b[38;5;28;01massert\u001b[39;00m \u001b[38;5;28mself\u001b[39m\u001b[38;5;241m.\u001b[39mhandles \u001b[38;5;129;01mis\u001b[39;00m \u001b[38;5;129;01mnot\u001b[39;00m \u001b[38;5;28;01mNone\u001b[39;00m\n\u001b[1;32m   1869\u001b[0m \u001b[38;5;28;01mfor\u001b[39;00m key \u001b[38;5;129;01min\u001b[39;00m (\u001b[38;5;124m\"\u001b[39m\u001b[38;5;124mstorage_options\u001b[39m\u001b[38;5;124m\"\u001b[39m, \u001b[38;5;124m\"\u001b[39m\u001b[38;5;124mencoding\u001b[39m\u001b[38;5;124m\"\u001b[39m, \u001b[38;5;124m\"\u001b[39m\u001b[38;5;124mmemory_map\u001b[39m\u001b[38;5;124m\"\u001b[39m, \u001b[38;5;124m\"\u001b[39m\u001b[38;5;124mcompression\u001b[39m\u001b[38;5;124m\"\u001b[39m):\n",
      "File \u001b[0;32m~/anaconda3/envs/practicum/lib/python3.9/site-packages/pandas/io/parsers.py:1362\u001b[0m, in \u001b[0;36mParserBase._open_handles\u001b[0;34m(self, src, kwds)\u001b[0m\n\u001b[1;32m   1358\u001b[0m \u001b[38;5;28;01mdef\u001b[39;00m \u001b[38;5;21m_open_handles\u001b[39m(\u001b[38;5;28mself\u001b[39m, src: FilePathOrBuffer, kwds: Dict[\u001b[38;5;28mstr\u001b[39m, Any]) \u001b[38;5;241m-\u001b[39m\u001b[38;5;241m>\u001b[39m \u001b[38;5;28;01mNone\u001b[39;00m:\n\u001b[1;32m   1359\u001b[0m \u001b[38;5;250m    \u001b[39m\u001b[38;5;124;03m\"\"\"\u001b[39;00m\n\u001b[1;32m   1360\u001b[0m \u001b[38;5;124;03m    Let the readers open IOHanldes after they are done with their potential raises.\u001b[39;00m\n\u001b[1;32m   1361\u001b[0m \u001b[38;5;124;03m    \"\"\"\u001b[39;00m\n\u001b[0;32m-> 1362\u001b[0m     \u001b[38;5;28mself\u001b[39m\u001b[38;5;241m.\u001b[39mhandles \u001b[38;5;241m=\u001b[39m \u001b[43mget_handle\u001b[49m\u001b[43m(\u001b[49m\n\u001b[1;32m   1363\u001b[0m \u001b[43m        \u001b[49m\u001b[43msrc\u001b[49m\u001b[43m,\u001b[49m\n\u001b[1;32m   1364\u001b[0m \u001b[43m        \u001b[49m\u001b[38;5;124;43m\"\u001b[39;49m\u001b[38;5;124;43mr\u001b[39;49m\u001b[38;5;124;43m\"\u001b[39;49m\u001b[43m,\u001b[49m\n\u001b[1;32m   1365\u001b[0m \u001b[43m        \u001b[49m\u001b[43mencoding\u001b[49m\u001b[38;5;241;43m=\u001b[39;49m\u001b[43mkwds\u001b[49m\u001b[38;5;241;43m.\u001b[39;49m\u001b[43mget\u001b[49m\u001b[43m(\u001b[49m\u001b[38;5;124;43m\"\u001b[39;49m\u001b[38;5;124;43mencoding\u001b[39;49m\u001b[38;5;124;43m\"\u001b[39;49m\u001b[43m,\u001b[49m\u001b[43m \u001b[49m\u001b[38;5;28;43;01mNone\u001b[39;49;00m\u001b[43m)\u001b[49m\u001b[43m,\u001b[49m\n\u001b[1;32m   1366\u001b[0m \u001b[43m        \u001b[49m\u001b[43mcompression\u001b[49m\u001b[38;5;241;43m=\u001b[39;49m\u001b[43mkwds\u001b[49m\u001b[38;5;241;43m.\u001b[39;49m\u001b[43mget\u001b[49m\u001b[43m(\u001b[49m\u001b[38;5;124;43m\"\u001b[39;49m\u001b[38;5;124;43mcompression\u001b[39;49m\u001b[38;5;124;43m\"\u001b[39;49m\u001b[43m,\u001b[49m\u001b[43m \u001b[49m\u001b[38;5;28;43;01mNone\u001b[39;49;00m\u001b[43m)\u001b[49m\u001b[43m,\u001b[49m\n\u001b[1;32m   1367\u001b[0m \u001b[43m        \u001b[49m\u001b[43mmemory_map\u001b[49m\u001b[38;5;241;43m=\u001b[39;49m\u001b[43mkwds\u001b[49m\u001b[38;5;241;43m.\u001b[39;49m\u001b[43mget\u001b[49m\u001b[43m(\u001b[49m\u001b[38;5;124;43m\"\u001b[39;49m\u001b[38;5;124;43mmemory_map\u001b[39;49m\u001b[38;5;124;43m\"\u001b[39;49m\u001b[43m,\u001b[49m\u001b[43m \u001b[49m\u001b[38;5;28;43;01mFalse\u001b[39;49;00m\u001b[43m)\u001b[49m\u001b[43m,\u001b[49m\n\u001b[1;32m   1368\u001b[0m \u001b[43m        \u001b[49m\u001b[43mstorage_options\u001b[49m\u001b[38;5;241;43m=\u001b[39;49m\u001b[43mkwds\u001b[49m\u001b[38;5;241;43m.\u001b[39;49m\u001b[43mget\u001b[49m\u001b[43m(\u001b[49m\u001b[38;5;124;43m\"\u001b[39;49m\u001b[38;5;124;43mstorage_options\u001b[39;49m\u001b[38;5;124;43m\"\u001b[39;49m\u001b[43m,\u001b[49m\u001b[43m \u001b[49m\u001b[38;5;28;43;01mNone\u001b[39;49;00m\u001b[43m)\u001b[49m\u001b[43m,\u001b[49m\n\u001b[1;32m   1369\u001b[0m \u001b[43m    \u001b[49m\u001b[43m)\u001b[49m\n",
      "File \u001b[0;32m~/anaconda3/envs/practicum/lib/python3.9/site-packages/pandas/io/common.py:642\u001b[0m, in \u001b[0;36mget_handle\u001b[0;34m(path_or_buf, mode, encoding, compression, memory_map, is_text, errors, storage_options)\u001b[0m\n\u001b[1;32m    640\u001b[0m         errors \u001b[38;5;241m=\u001b[39m \u001b[38;5;124m\"\u001b[39m\u001b[38;5;124mreplace\u001b[39m\u001b[38;5;124m\"\u001b[39m\n\u001b[1;32m    641\u001b[0m     \u001b[38;5;66;03m# Encoding\u001b[39;00m\n\u001b[0;32m--> 642\u001b[0m     handle \u001b[38;5;241m=\u001b[39m \u001b[38;5;28;43mopen\u001b[39;49m\u001b[43m(\u001b[49m\n\u001b[1;32m    643\u001b[0m \u001b[43m        \u001b[49m\u001b[43mhandle\u001b[49m\u001b[43m,\u001b[49m\n\u001b[1;32m    644\u001b[0m \u001b[43m        \u001b[49m\u001b[43mioargs\u001b[49m\u001b[38;5;241;43m.\u001b[39;49m\u001b[43mmode\u001b[49m\u001b[43m,\u001b[49m\n\u001b[1;32m    645\u001b[0m \u001b[43m        \u001b[49m\u001b[43mencoding\u001b[49m\u001b[38;5;241;43m=\u001b[39;49m\u001b[43mioargs\u001b[49m\u001b[38;5;241;43m.\u001b[39;49m\u001b[43mencoding\u001b[49m\u001b[43m,\u001b[49m\n\u001b[1;32m    646\u001b[0m \u001b[43m        \u001b[49m\u001b[43merrors\u001b[49m\u001b[38;5;241;43m=\u001b[39;49m\u001b[43merrors\u001b[49m\u001b[43m,\u001b[49m\n\u001b[1;32m    647\u001b[0m \u001b[43m        \u001b[49m\u001b[43mnewline\u001b[49m\u001b[38;5;241;43m=\u001b[39;49m\u001b[38;5;124;43m\"\u001b[39;49m\u001b[38;5;124;43m\"\u001b[39;49m\u001b[43m,\u001b[49m\n\u001b[1;32m    648\u001b[0m \u001b[43m    \u001b[49m\u001b[43m)\u001b[49m\n\u001b[1;32m    649\u001b[0m \u001b[38;5;28;01melse\u001b[39;00m:\n\u001b[1;32m    650\u001b[0m     \u001b[38;5;66;03m# Binary mode\u001b[39;00m\n\u001b[1;32m    651\u001b[0m     handle \u001b[38;5;241m=\u001b[39m \u001b[38;5;28mopen\u001b[39m(handle, ioargs\u001b[38;5;241m.\u001b[39mmode)\n",
      "\u001b[0;31mFileNotFoundError\u001b[0m: [Errno 2] No such file or directory: '/datasets/users_go.csv'"
     ]
    }
   ],
   "source": [
    "try:\n",
    "    users = pd.read_csv('/Users/andreyalekseev/Документы(не облако)/Практикум/4. Статистический анализ/users_go.csv')\n",
    "except:\n",
    "    users = pd.read_csv('/datasets/users_go.csv')\n",
    "\n",
    "try:\n",
    "    riders = pd.read_csv('/Users/andreyalekseev/Документы(не облако)/Практикум/4. Статистический анализ/rides_go.csv')\n",
    "except:\n",
    "    riders = pd.read_csv('/datasets/rides_go.csv')\n",
    "\n",
    "try:\n",
    "    subscriptions = pd.read_csv('/Users/andreyalekseev/Документы(не облако)/Практикум/4. Статистический анализ/subscriptions_go.csv')\n",
    "except:\n",
    "    subscriptions = pd.read_csv('/datasets/subscriptions_go.csv')\n",
    "\n"
   ]
  },
  {
   "cell_type": "markdown",
   "id": "c6848355-fa24-4c45-8a7e-fabe5caee0eb",
   "metadata": {},
   "source": [
    "Первые 5 строк таблицы `users`"
   ]
  },
  {
   "cell_type": "code",
   "execution_count": 4,
   "id": "245f9d69-58bc-4048-b1b1-ce63520350b5",
   "metadata": {},
   "outputs": [
    {
     "data": {
      "text/html": [
       "<div>\n",
       "<style scoped>\n",
       "    .dataframe tbody tr th:only-of-type {\n",
       "        vertical-align: middle;\n",
       "    }\n",
       "\n",
       "    .dataframe tbody tr th {\n",
       "        vertical-align: top;\n",
       "    }\n",
       "\n",
       "    .dataframe thead th {\n",
       "        text-align: right;\n",
       "    }\n",
       "</style>\n",
       "<table border=\"1\" class=\"dataframe\">\n",
       "  <thead>\n",
       "    <tr style=\"text-align: right;\">\n",
       "      <th></th>\n",
       "      <th>user_id</th>\n",
       "      <th>name</th>\n",
       "      <th>age</th>\n",
       "      <th>city</th>\n",
       "      <th>subscription_type</th>\n",
       "    </tr>\n",
       "  </thead>\n",
       "  <tbody>\n",
       "    <tr>\n",
       "      <th>0</th>\n",
       "      <td>1</td>\n",
       "      <td>Кира</td>\n",
       "      <td>22</td>\n",
       "      <td>Тюмень</td>\n",
       "      <td>ultra</td>\n",
       "    </tr>\n",
       "    <tr>\n",
       "      <th>1</th>\n",
       "      <td>2</td>\n",
       "      <td>Станислав</td>\n",
       "      <td>31</td>\n",
       "      <td>Омск</td>\n",
       "      <td>ultra</td>\n",
       "    </tr>\n",
       "    <tr>\n",
       "      <th>2</th>\n",
       "      <td>3</td>\n",
       "      <td>Алексей</td>\n",
       "      <td>20</td>\n",
       "      <td>Москва</td>\n",
       "      <td>ultra</td>\n",
       "    </tr>\n",
       "    <tr>\n",
       "      <th>3</th>\n",
       "      <td>4</td>\n",
       "      <td>Константин</td>\n",
       "      <td>26</td>\n",
       "      <td>Ростов-на-Дону</td>\n",
       "      <td>ultra</td>\n",
       "    </tr>\n",
       "    <tr>\n",
       "      <th>4</th>\n",
       "      <td>5</td>\n",
       "      <td>Адель</td>\n",
       "      <td>28</td>\n",
       "      <td>Омск</td>\n",
       "      <td>ultra</td>\n",
       "    </tr>\n",
       "  </tbody>\n",
       "</table>\n",
       "</div>"
      ],
      "text/plain": [
       "   user_id        name  age            city subscription_type\n",
       "0        1        Кира   22          Тюмень             ultra\n",
       "1        2   Станислав   31            Омск             ultra\n",
       "2        3     Алексей   20          Москва             ultra\n",
       "3        4  Константин   26  Ростов-на-Дону             ultra\n",
       "4        5       Адель   28            Омск             ultra"
      ]
     },
     "execution_count": 4,
     "metadata": {},
     "output_type": "execute_result"
    }
   ],
   "source": [
    "users.head()"
   ]
  },
  {
   "cell_type": "markdown",
   "id": "6a2d3287-14b6-4646-9377-b4dab470e671",
   "metadata": {},
   "source": [
    "Информация по датафрейму `users`"
   ]
  },
  {
   "cell_type": "code",
   "execution_count": 5,
   "id": "bcd3f453-1245-4e47-bbad-0b2861107eb5",
   "metadata": {},
   "outputs": [
    {
     "name": "stdout",
     "output_type": "stream",
     "text": [
      "<class 'pandas.core.frame.DataFrame'>\n",
      "RangeIndex: 1565 entries, 0 to 1564\n",
      "Data columns (total 5 columns):\n",
      " #   Column             Non-Null Count  Dtype \n",
      "---  ------             --------------  ----- \n",
      " 0   user_id            1565 non-null   int64 \n",
      " 1   name               1565 non-null   object\n",
      " 2   age                1565 non-null   int64 \n",
      " 3   city               1565 non-null   object\n",
      " 4   subscription_type  1565 non-null   object\n",
      "dtypes: int64(2), object(3)\n",
      "memory usage: 61.3+ KB\n"
     ]
    }
   ],
   "source": [
    "users.info()"
   ]
  },
  {
   "cell_type": "markdown",
   "id": "936ec2ee",
   "metadata": {},
   "source": [
    "<div class=\"alert alert-warning\" style=\"border-radius: 15px; box-shadow: 4px 4px 4px; border: 1px solid \">\n",
    "<h2> Комментарий ревьюера v_1: <a class=\"tocSkip\"> </h2>\n",
    "    \n",
    "⚠️ Стоит еще прокомментировать, сколько записей в таблицах, какие в них есть типы данных"
   ]
  },
  {
   "cell_type": "markdown",
   "id": "ec3aa28a-0824-4a73-abac-52b5bd11bc93",
   "metadata": {},
   "source": [
    "Выведу первые строчки таблицы `riders`"
   ]
  },
  {
   "cell_type": "code",
   "execution_count": 6,
   "id": "40d8d30e-5f67-40d3-b10e-40665d1eb032",
   "metadata": {},
   "outputs": [
    {
     "data": {
      "text/html": [
       "<div>\n",
       "<style scoped>\n",
       "    .dataframe tbody tr th:only-of-type {\n",
       "        vertical-align: middle;\n",
       "    }\n",
       "\n",
       "    .dataframe tbody tr th {\n",
       "        vertical-align: top;\n",
       "    }\n",
       "\n",
       "    .dataframe thead th {\n",
       "        text-align: right;\n",
       "    }\n",
       "</style>\n",
       "<table border=\"1\" class=\"dataframe\">\n",
       "  <thead>\n",
       "    <tr style=\"text-align: right;\">\n",
       "      <th></th>\n",
       "      <th>user_id</th>\n",
       "      <th>distance</th>\n",
       "      <th>duration</th>\n",
       "      <th>date</th>\n",
       "    </tr>\n",
       "  </thead>\n",
       "  <tbody>\n",
       "    <tr>\n",
       "      <th>0</th>\n",
       "      <td>1</td>\n",
       "      <td>4409.919140</td>\n",
       "      <td>25.599769</td>\n",
       "      <td>2021-01-01</td>\n",
       "    </tr>\n",
       "    <tr>\n",
       "      <th>1</th>\n",
       "      <td>1</td>\n",
       "      <td>2617.592153</td>\n",
       "      <td>15.816871</td>\n",
       "      <td>2021-01-18</td>\n",
       "    </tr>\n",
       "    <tr>\n",
       "      <th>2</th>\n",
       "      <td>1</td>\n",
       "      <td>754.159807</td>\n",
       "      <td>6.232113</td>\n",
       "      <td>2021-04-20</td>\n",
       "    </tr>\n",
       "    <tr>\n",
       "      <th>3</th>\n",
       "      <td>1</td>\n",
       "      <td>2694.783254</td>\n",
       "      <td>18.511000</td>\n",
       "      <td>2021-08-11</td>\n",
       "    </tr>\n",
       "    <tr>\n",
       "      <th>4</th>\n",
       "      <td>1</td>\n",
       "      <td>4028.687306</td>\n",
       "      <td>26.265803</td>\n",
       "      <td>2021-08-28</td>\n",
       "    </tr>\n",
       "  </tbody>\n",
       "</table>\n",
       "</div>"
      ],
      "text/plain": [
       "   user_id     distance   duration        date\n",
       "0        1  4409.919140  25.599769  2021-01-01\n",
       "1        1  2617.592153  15.816871  2021-01-18\n",
       "2        1   754.159807   6.232113  2021-04-20\n",
       "3        1  2694.783254  18.511000  2021-08-11\n",
       "4        1  4028.687306  26.265803  2021-08-28"
      ]
     },
     "execution_count": 6,
     "metadata": {},
     "output_type": "execute_result"
    }
   ],
   "source": [
    "riders.head()"
   ]
  },
  {
   "cell_type": "markdown",
   "id": "749f8db6-3a08-4181-88ce-c90340ed244c",
   "metadata": {},
   "source": [
    "Информация по датафрейму `riders`"
   ]
  },
  {
   "cell_type": "code",
   "execution_count": 7,
   "id": "98254479-4b03-4ffb-bbfc-a8d32d0c42de",
   "metadata": {},
   "outputs": [
    {
     "name": "stdout",
     "output_type": "stream",
     "text": [
      "<class 'pandas.core.frame.DataFrame'>\n",
      "RangeIndex: 18068 entries, 0 to 18067\n",
      "Data columns (total 4 columns):\n",
      " #   Column    Non-Null Count  Dtype  \n",
      "---  ------    --------------  -----  \n",
      " 0   user_id   18068 non-null  int64  \n",
      " 1   distance  18068 non-null  float64\n",
      " 2   duration  18068 non-null  float64\n",
      " 3   date      18068 non-null  object \n",
      "dtypes: float64(2), int64(1), object(1)\n",
      "memory usage: 564.8+ KB\n"
     ]
    }
   ],
   "source": [
    "riders.info()"
   ]
  },
  {
   "cell_type": "markdown",
   "id": "32412890-3280-4cd9-832c-b0c1bc7eea24",
   "metadata": {},
   "source": [
    "У колонки `date` формат данных `object`, а должен быть `datetime`. Нужно исправить в предобработке данных."
   ]
  },
  {
   "cell_type": "markdown",
   "id": "388d4c51-d913-474a-9546-b0e97fc113e0",
   "metadata": {},
   "source": [
    "Выведу первые строчки таблицы `subscriptions`"
   ]
  },
  {
   "cell_type": "code",
   "execution_count": 8,
   "id": "ea0c103b-a25c-4941-867b-3075ce77a1aa",
   "metadata": {},
   "outputs": [
    {
     "data": {
      "text/html": [
       "<div>\n",
       "<style scoped>\n",
       "    .dataframe tbody tr th:only-of-type {\n",
       "        vertical-align: middle;\n",
       "    }\n",
       "\n",
       "    .dataframe tbody tr th {\n",
       "        vertical-align: top;\n",
       "    }\n",
       "\n",
       "    .dataframe thead th {\n",
       "        text-align: right;\n",
       "    }\n",
       "</style>\n",
       "<table border=\"1\" class=\"dataframe\">\n",
       "  <thead>\n",
       "    <tr style=\"text-align: right;\">\n",
       "      <th></th>\n",
       "      <th>subscription_type</th>\n",
       "      <th>minute_price</th>\n",
       "      <th>start_ride_price</th>\n",
       "      <th>subscription_fee</th>\n",
       "    </tr>\n",
       "  </thead>\n",
       "  <tbody>\n",
       "    <tr>\n",
       "      <th>0</th>\n",
       "      <td>free</td>\n",
       "      <td>8</td>\n",
       "      <td>50</td>\n",
       "      <td>0</td>\n",
       "    </tr>\n",
       "    <tr>\n",
       "      <th>1</th>\n",
       "      <td>ultra</td>\n",
       "      <td>6</td>\n",
       "      <td>0</td>\n",
       "      <td>199</td>\n",
       "    </tr>\n",
       "  </tbody>\n",
       "</table>\n",
       "</div>"
      ],
      "text/plain": [
       "  subscription_type  minute_price  start_ride_price  subscription_fee\n",
       "0              free             8                50                 0\n",
       "1             ultra             6                 0               199"
      ]
     },
     "execution_count": 8,
     "metadata": {},
     "output_type": "execute_result"
    }
   ],
   "source": [
    "subscriptions.head()"
   ]
  },
  {
   "cell_type": "markdown",
   "id": "89e0cec4-c7c5-4835-9318-74caaed74f5c",
   "metadata": {},
   "source": [
    "Информация по датафрейму `subscriptions`"
   ]
  },
  {
   "cell_type": "code",
   "execution_count": 9,
   "id": "1fe40059-1af0-4391-90b2-f3b2cd26177a",
   "metadata": {},
   "outputs": [
    {
     "name": "stdout",
     "output_type": "stream",
     "text": [
      "<class 'pandas.core.frame.DataFrame'>\n",
      "RangeIndex: 2 entries, 0 to 1\n",
      "Data columns (total 4 columns):\n",
      " #   Column             Non-Null Count  Dtype \n",
      "---  ------             --------------  ----- \n",
      " 0   subscription_type  2 non-null      object\n",
      " 1   minute_price       2 non-null      int64 \n",
      " 2   start_ride_price   2 non-null      int64 \n",
      " 3   subscription_fee   2 non-null      int64 \n",
      "dtypes: int64(3), object(1)\n",
      "memory usage: 192.0+ bytes\n"
     ]
    }
   ],
   "source": [
    "subscriptions.info()"
   ]
  },
  {
   "cell_type": "markdown",
   "id": "ad2baa3e-5e73-42d0-ad0a-0ad9db02edc0",
   "metadata": {},
   "source": [
    "Данных не много, пропущенных значений не выявлено, неверный формат только у даты в таблице `riders`."
   ]
  },
  {
   "cell_type": "markdown",
   "id": "06a95a76-eb69-43fe-a671-7bd43fa9ec4d",
   "metadata": {
    "jp-MarkdownHeadingCollapsed": true
   },
   "source": [
    "<div class=\"alert alert-info\"  style=\"border-radius: 15px; box-shadow: 4px 4px 4px; border: 1px solid \">\n",
    "    \n",
    "<h2>Комментарий студента v_1: <a class=\"tocSkip\"> </h2>\n",
    "\n",
    "То что выше, было, то что под этим комментарием - это новый, дополненный вывод."
   ]
  },
  {
   "cell_type": "markdown",
   "id": "c4d8108c",
   "metadata": {},
   "source": [
    "<div class=\"alert alert-success\" style=\"border-radius: 15px; box-shadow: 4px 4px 4px; border: 1px solid \">\n",
    "<h2> Комментарий ревьюера v_2: <a class=\"tocSkip\"> </h2>\n",
    "    \n",
    "✅ +"
   ]
  },
  {
   "cell_type": "markdown",
   "id": "ee864169-8747-4c38-8b7f-88b8f3616d51",
   "metadata": {},
   "source": [
    "В исходных данных три таблицы `users`, `riders`, `subscriptions`. \n",
    "\n",
    "`users` - таблица с информацией о пользователях, содержит поля: `user_id` с форматом данных `int64`, `name` с форматом данных `object`, `age` с форматом данных `int64`, `city` с форматом данных `object`, `subscription_type` с форматом данных `object`. В таблице 1565 строк.\n",
    " \n",
    "`riders` - таблица с информацией о поездках, содержит поля: `user_id` с форматом данных `int64`, `distance` с форматом данных `float64`, `duration` с форматом данных `float64`, `date` с форматом данных `object`, который нужно будет поменять на `datetime`. В таблице 18068 строк.\n",
    " \n",
    "`subscriptions` - таблица с информацией о подписках, содержит поля: `subscription_type` с форматом данных `object`, `minute_price` с форматом данных `int64`, `start_ride_price` с форматом данных `int64`, `subscription_fee` с форматом данных `int64`. В таблице 2 строки."
   ]
  },
  {
   "cell_type": "markdown",
   "id": "e95ebca7",
   "metadata": {
    "jp-MarkdownHeadingCollapsed": true
   },
   "source": [
    "## Шаг 2. Предобработка данных"
   ]
  },
  {
   "cell_type": "markdown",
   "id": "563b7c5b-4fda-4ba6-83d3-75eb687c77f7",
   "metadata": {},
   "source": [
    "Датафейм `riders`. Изменение формата даты. Добавление колонки с номерами месяца взятого из колонки с датой."
   ]
  },
  {
   "cell_type": "code",
   "execution_count": 10,
   "id": "af6d202c",
   "metadata": {},
   "outputs": [],
   "source": [
    "riders['date'] = pd.to_datetime(\n",
    "    riders['date'], format='%Y-%m-%d')\n",
    "riders['month'] = pd.DatetimeIndex(riders['date']).month"
   ]
  },
  {
   "cell_type": "code",
   "execution_count": 11,
   "id": "9cdef590-d7e0-4ad6-a1eb-62b45b16c7b7",
   "metadata": {
    "scrolled": true
   },
   "outputs": [
    {
     "name": "stdout",
     "output_type": "stream",
     "text": [
      "<class 'pandas.core.frame.DataFrame'>\n",
      "RangeIndex: 18068 entries, 0 to 18067\n",
      "Data columns (total 5 columns):\n",
      " #   Column    Non-Null Count  Dtype         \n",
      "---  ------    --------------  -----         \n",
      " 0   user_id   18068 non-null  int64         \n",
      " 1   distance  18068 non-null  float64       \n",
      " 2   duration  18068 non-null  float64       \n",
      " 3   date      18068 non-null  datetime64[ns]\n",
      " 4   month     18068 non-null  int64         \n",
      "dtypes: datetime64[ns](1), float64(2), int64(2)\n",
      "memory usage: 705.9 KB\n"
     ]
    }
   ],
   "source": [
    "riders.info()"
   ]
  },
  {
   "cell_type": "markdown",
   "id": "a1c0cf78",
   "metadata": {
    "jp-MarkdownHeadingCollapsed": true
   },
   "source": [
    "<div class=\"alert alert-warning\" style=\"border-radius: 15px; box-shadow: 4px 4px 4px; border: 1px solid \">\n",
    "<h2> Комментарий ревьюера v_1: <a class=\"tocSkip\"> </h2>\n",
    "    \n",
    "⚠️ Желательно еще проверить, за какой период имеются данные. Создается столбец с номерами месяцев, если здесь несколько лет, следует это учитывать."
   ]
  },
  {
   "cell_type": "code",
   "execution_count": 12,
   "id": "c97cfbfd-b08c-4807-9a4c-f530fdda0c27",
   "metadata": {},
   "outputs": [
    {
     "data": {
      "text/plain": [
       "(Timestamp('2021-01-01 00:00:00'), Timestamp('2021-12-30 00:00:00'))"
      ]
     },
     "execution_count": 12,
     "metadata": {},
     "output_type": "execute_result"
    }
   ],
   "source": [
    "riders['date'].min(), riders['date'].max()"
   ]
  },
  {
   "cell_type": "markdown",
   "id": "ca36d331-bc2e-4809-850f-9b7d96ed8b7c",
   "metadata": {},
   "source": [
    "Минимальная и максимальная даты. В данных период за один год. Поэтому можно идти дальше."
   ]
  },
  {
   "cell_type": "markdown",
   "id": "aacb3f29-9559-4834-9c53-6b7ef0c8dc54",
   "metadata": {
    "jp-MarkdownHeadingCollapsed": true
   },
   "source": [
    "<div class=\"alert alert-info\"  style=\"border-radius: 15px; box-shadow: 4px 4px 4px; border: 1px solid \">\n",
    "    \n",
    "<h2>Комментарий студента v_1: <a class=\"tocSkip\"> </h2>\n",
    "\n",
    "Выше добавил расчет периода и комментарий.   "
   ]
  },
  {
   "cell_type": "markdown",
   "id": "98839cbd",
   "metadata": {},
   "source": [
    "<div class=\"alert alert-success\" style=\"border-radius: 15px; box-shadow: 4px 4px 4px; border: 1px solid \">\n",
    "<h2> Комментарий ревьюера v_2: <a class=\"tocSkip\"> </h2>\n",
    "    \n",
    "✅ Данные за один год"
   ]
  },
  {
   "cell_type": "markdown",
   "id": "e701585e-39f2-411d-980d-abb2b3949856",
   "metadata": {},
   "source": [
    "Формат изменился, колонка с месяцем добавилась."
   ]
  },
  {
   "cell_type": "markdown",
   "id": "928ff639-31d9-4128-84e2-17728607935f",
   "metadata": {},
   "source": [
    "Проверка на дубликаты. Единственное место где можно выявить дубликаты - это в таблице `users` в колонке `user_id`"
   ]
  },
  {
   "cell_type": "code",
   "execution_count": 13,
   "id": "d1114a7a-9814-489e-8f43-187fa100910a",
   "metadata": {},
   "outputs": [
    {
     "data": {
      "text/plain": [
       "209    2\n",
       "807    2\n",
       "611    2\n",
       "43     2\n",
       "737    2\n",
       "Name: user_id, dtype: int64"
      ]
     },
     "execution_count": 13,
     "metadata": {},
     "output_type": "execute_result"
    }
   ],
   "source": [
    "users['user_id'].value_counts().head(5)"
   ]
  },
  {
   "cell_type": "markdown",
   "id": "ab41ca79-6679-4b9a-b3bf-5b7f0f61601b",
   "metadata": {},
   "source": [
    "Дупликаты обнаружены. Лишнее удаляю."
   ]
  },
  {
   "cell_type": "markdown",
   "id": "fbde01fc",
   "metadata": {
    "jp-MarkdownHeadingCollapsed": true
   },
   "source": [
    "<div class=\"alert alert-block alert-danger\" style=\"border-radius: 15px; box-shadow: 4px 4px 4px; border: 1px solid \">\n",
    "<h2> Комментарий ревьюера v_1: <a class=\"tocSkip\"></h2>\n",
    "    \n",
    "❌ Но лучше вывести количество выявленных дубликатов. И необходимо проверить явные полные дубликаты во второй таблице"
   ]
  },
  {
   "cell_type": "code",
   "execution_count": 14,
   "id": "e46d2914-a1f2-4b2b-9bc8-7cd54df26659",
   "metadata": {},
   "outputs": [
    {
     "data": {
      "text/plain": [
       "31"
      ]
     },
     "execution_count": 14,
     "metadata": {},
     "output_type": "execute_result"
    }
   ],
   "source": [
    "users.duplicated().sum()"
   ]
  },
  {
   "cell_type": "code",
   "execution_count": 15,
   "id": "5bce5a07-2213-4ef3-b8ee-7198c3fb386a",
   "metadata": {},
   "outputs": [
    {
     "data": {
      "text/plain": [
       "0"
      ]
     },
     "execution_count": 15,
     "metadata": {},
     "output_type": "execute_result"
    }
   ],
   "source": [
    "riders.duplicated().sum()"
   ]
  },
  {
   "cell_type": "markdown",
   "id": "dd2ab16d-5c9d-4796-af0a-1e93b5d12461",
   "metadata": {
    "jp-MarkdownHeadingCollapsed": true
   },
   "source": [
    "<div class=\"alert alert-info\"  style=\"border-radius: 15px; box-shadow: 4px 4px 4px; border: 1px solid \">\n",
    "    \n",
    "<h2>Комментарий студента v_1: <a class=\"tocSkip\"> </h2>\n",
    "\n",
    "Выше проверил количество дубликатов в первой и второй таблице.   "
   ]
  },
  {
   "cell_type": "markdown",
   "id": "3c73e831",
   "metadata": {},
   "source": [
    "<div class=\"alert alert-success\" style=\"border-radius: 15px; box-shadow: 4px 4px 4px; border: 1px solid \">\n",
    "<h2> Комментарий ревьюера v_2: <a class=\"tocSkip\"> </h2>\n",
    "    \n",
    "✅ Принято"
   ]
  },
  {
   "cell_type": "code",
   "execution_count": 16,
   "id": "5e865ee2-c624-427b-ba7c-9b9745215a6e",
   "metadata": {},
   "outputs": [],
   "source": [
    "users = users.drop_duplicates()"
   ]
  },
  {
   "cell_type": "code",
   "execution_count": 17,
   "id": "a37e4e64-14ed-4af0-aea1-0867e760b232",
   "metadata": {},
   "outputs": [
    {
     "name": "stdout",
     "output_type": "stream",
     "text": [
      "<class 'pandas.core.frame.DataFrame'>\n",
      "Int64Index: 1534 entries, 0 to 1533\n",
      "Data columns (total 5 columns):\n",
      " #   Column             Non-Null Count  Dtype \n",
      "---  ------             --------------  ----- \n",
      " 0   user_id            1534 non-null   int64 \n",
      " 1   name               1534 non-null   object\n",
      " 2   age                1534 non-null   int64 \n",
      " 3   city               1534 non-null   object\n",
      " 4   subscription_type  1534 non-null   object\n",
      "dtypes: int64(2), object(3)\n",
      "memory usage: 71.9+ KB\n"
     ]
    }
   ],
   "source": [
    "users.info()"
   ]
  },
  {
   "cell_type": "markdown",
   "id": "e6e9fef6-41da-453e-a5fc-367ae9a090e5",
   "metadata": {},
   "source": [
    "Было 1565 строк, стало 1534. 31 дубликат удален."
   ]
  },
  {
   "cell_type": "markdown",
   "id": "212593c7",
   "metadata": {},
   "source": [
    "## Шаг 3. Исследовательский анализ данных"
   ]
  },
  {
   "cell_type": "markdown",
   "id": "01309149-2823-4f67-b8b5-c55cc3f0270b",
   "metadata": {},
   "source": [
    "### Частота встречаемости городов"
   ]
  },
  {
   "cell_type": "markdown",
   "id": "074a5cf5-d4d9-4970-bd21-8a1d510a2494",
   "metadata": {},
   "source": [
    "users['city'].value_counts().plot.bar();"
   ]
  },
  {
   "cell_type": "markdown",
   "id": "b2510eff",
   "metadata": {},
   "source": [
    "<div class=\"alert alert-warning\" style=\"border-radius: 15px; box-shadow: 4px 4px 4px; border: 1px solid \">\n",
    "<h2> Комментарий ревьюера v_1: <a class=\"tocSkip\"> </h2>\n",
    "    \n",
    "⚠️ Для большего удобства при считывании визуализации лучше использовать линейчатую диаграмму (столбчатую диаграмму с горизонтальными столбцами), т.е. повернуть ее на 90 градусов. Это позволит расположить названия городов горизонтально. "
   ]
  },
  {
   "cell_type": "markdown",
   "id": "6c4401e4",
   "metadata": {},
   "source": [
    "<div class=\"alert alert-block alert-danger\" style=\"border-radius: 15px; box-shadow: 4px 4px 4px; border: 1px solid \">\n",
    "<h2> Комментарий ревьюера v_1: <a class=\"tocSkip\"></h2>\n",
    "    \n",
    "❌ Но не хватает заголовка и подписей на осях. Это замечание актуально для всех визуализаций в этом проекте."
   ]
  },
  {
   "cell_type": "code",
   "execution_count": 18,
   "id": "7184e7f1-0df4-4f13-a779-a299414e04a5",
   "metadata": {},
   "outputs": [
    {
     "data": {
      "image/png": "[encoded data removed]",
      "text/plain": [
       "<Figure size 640x480 with 1 Axes>"
      ]
     },
     "metadata": {},
     "output_type": "display_data"
    }
   ],
   "source": [
    "fig, ax = plt.subplots()\n",
    "\n",
    "ax.barh(users['city'].unique(), users['city'].value_counts())\n",
    "\n",
    "ax.set_title('Частота встречаемости городов', size = 15)\n",
    "ax.set_ylabel('Город')\n",
    "ax.set_xlabel('Количество упоминаний городов')\n",
    "plt.show()"
   ]
  },
  {
   "cell_type": "markdown",
   "id": "90a63bc5-14c4-4d1d-99bc-7f21b9551184",
   "metadata": {},
   "source": [
    "<div class=\"alert alert-info\"  style=\"border-radius: 15px; box-shadow: 4px 4px 4px; border: 1px solid \">\n",
    "    \n",
    "<h2>Комментарий студента v_1: <a class=\"tocSkip\"> </h2>\n",
    "\n",
    "Выше все исправил.   "
   ]
  },
  {
   "cell_type": "markdown",
   "id": "a6b5c0a3",
   "metadata": {},
   "source": [
    "<div class=\"alert alert-block alert-danger\" style=\"border-radius: 15px; box-shadow: 4px 4px 4px; border: 1px solid \">\n",
    "<h2> Комментарий ревьюера v_2: <a class=\"tocSkip\"></h2>\n",
    "    \n",
    "❌ Не все визуализации ниже подписаны"
   ]
  },
  {
   "cell_type": "code",
   "execution_count": 19,
   "id": "466242ff-1827-4cde-886b-92eb824f42cc",
   "metadata": {},
   "outputs": [
    {
     "data": {
      "text/plain": [
       "Пятигорск         219\n",
       "Екатеринбург      204\n",
       "Ростов-на-Дону    198\n",
       "Краснодар         193\n",
       "Сочи              189\n",
       "Омск              183\n",
       "Тюмень            180\n",
       "Москва            168\n",
       "Name: city, dtype: int64"
      ]
     },
     "execution_count": 19,
     "metadata": {},
     "output_type": "execute_result"
    }
   ],
   "source": [
    "users['city'].value_counts()"
   ]
  },
  {
   "cell_type": "markdown",
   "id": "806948d8-ad89-44c3-ba77-e390a182b87a",
   "metadata": {},
   "source": [
    "В таблице представлено 8 городов. Москва по частоте встречаемости занимает последнее место, Пятигорск - первое. "
   ]
  },
  {
   "cell_type": "markdown",
   "id": "5edbccdf-8fc9-4470-84d9-669197222534",
   "metadata": {},
   "source": [
    "### Соотношение пользователей с подпиской и без подписки"
   ]
  },
  {
   "cell_type": "markdown",
   "id": "5928be3f-d46a-4c0f-86dc-b18bd6c186b2",
   "metadata": {
    "scrolled": true
   },
   "source": [
    "users['subscription_type'].value_counts().plot.bar();"
   ]
  },
  {
   "cell_type": "markdown",
   "id": "1b9f96e3",
   "metadata": {},
   "source": [
    "<div class=\"alert alert-warning\" style=\"border-radius: 15px; box-shadow: 4px 4px 4px; border: 1px solid \">\n",
    "<h2> Комментарий ревьюера v_1: <a class=\"tocSkip\"> </h2>\n",
    "    \n",
    "⚠️ Здесь подошла бы круговая диаграмма, с ее помощью можно показать соотношение двух категорий в процентах. О том, как подписывать диаграмму, есть в документации по [ссылке](https://matplotlib.org/stable/gallery/pie_and_polar_charts/pie_features.html)"
   ]
  },
  {
   "cell_type": "markdown",
   "id": "6293c9bf",
   "metadata": {},
   "source": [
    "<div class=\"alert alert-block alert-danger\" style=\"border-radius: 15px; box-shadow: 4px 4px 4px; border: 1px solid \">\n",
    "<h2> Комментарий ревьюера v_1: <a class=\"tocSkip\"></h2>\n",
    "    \n",
    "❌ Либо на круговой диаграмме, либо в таблице, либо на указанном графике необходимо добавить подписи в виде процентов/долей, т.к. нужно показать соотношение. "
   ]
  },
  {
   "cell_type": "code",
   "execution_count": 20,
   "id": "18ec20f8-c7b1-4397-81f4-5abdeb4c961e",
   "metadata": {},
   "outputs": [
    {
     "data": {
      "image/png": "[encoded data removed]",
      "text/plain": [
       "<Figure size 640x480 with 1 Axes>"
      ]
     },
     "metadata": {},
     "output_type": "display_data"
    }
   ],
   "source": [
    "fig, ax = plt.subplots()\n",
    "\n",
    "ax.pie(users['subscription_type'].value_counts(), labels=['free', 'ultra'], autopct='%1.1f%%')\n",
    "\n",
    "ax.set_title('Соотношение пользователей с подпиской и без подписки', size = 15)\n",
    "\n",
    "plt.show()"
   ]
  },
  {
   "cell_type": "markdown",
   "id": "dcce8a46-26bc-40ef-80a9-88a2a4f7e708",
   "metadata": {},
   "source": [
    "<div class=\"alert alert-info\"  style=\"border-radius: 15px; box-shadow: 4px 4px 4px; border: 1px solid \">\n",
    "    \n",
    "<h2>Комментарий студента v_1: <a class=\"tocSkip\"> </h2>\n",
    "\n",
    "Выше сделал все как надо.   "
   ]
  },
  {
   "cell_type": "markdown",
   "id": "e45dc205",
   "metadata": {},
   "source": [
    "<div class=\"alert alert-success\" style=\"border-radius: 15px; box-shadow: 4px 4px 4px; border: 1px solid \">\n",
    "<h2> Комментарий ревьюера v_2: <a class=\"tocSkip\"> </h2>\n",
    "    \n",
    "✅ +"
   ]
  },
  {
   "cell_type": "code",
   "execution_count": 21,
   "id": "25c92017-a1d9-43e1-ad0c-88c6f8c78339",
   "metadata": {},
   "outputs": [
    {
     "data": {
      "text/plain": [
       "free     835\n",
       "ultra    699\n",
       "Name: subscription_type, dtype: int64"
      ]
     },
     "execution_count": 21,
     "metadata": {},
     "output_type": "execute_result"
    }
   ],
   "source": [
    "users['subscription_type'].value_counts()"
   ]
  },
  {
   "cell_type": "markdown",
   "id": "ccbed748-296e-493b-b7df-7fa860458ae8",
   "metadata": {},
   "source": [
    "Разница в пользователях с подпиской и без в 135 пользователей. Это 16% от 835 или 8.8% от 1534(общее число пользователей с подпиской и без)"
   ]
  },
  {
   "cell_type": "markdown",
   "id": "4ed58f85-bb3d-4df7-8e05-bc7de6f3b7a3",
   "metadata": {},
   "source": [
    "### Возраст пользователей"
   ]
  },
  {
   "cell_type": "markdown",
   "id": "073c53cf-27c3-432c-8d22-6a6cbb9a9b6c",
   "metadata": {
    "scrolled": true
   },
   "source": [
    "fig, ax = plt.subplots()\n",
    "\n",
    "ax.hist(users['age'], bins=30, linewidth=0.5, edgecolor=\"white\")\n",
    "ax.grid()\n",
    "\n",
    "ax.set_xlabel('age')\n",
    "plt.show()"
   ]
  },
  {
   "cell_type": "markdown",
   "id": "bcb09967-d948-4583-bb8b-44c135aa078f",
   "metadata": {},
   "source": [
    "<div class=\"alert alert-info\"  style=\"border-radius: 15px; box-shadow: 4px 4px 4px; border: 1px solid \">\n",
    "    \n",
    "<h2>Комментарий студента v_2: <a class=\"tocSkip\"> </h2>\n",
    "\n",
    "Ниже сделал новый график с подписями осей и графика"
   ]
  },
  {
   "cell_type": "code",
   "execution_count": 22,
   "id": "38b7a766-e7a6-4abf-a371-e2ba74b8de3b",
   "metadata": {},
   "outputs": [
    {
     "data": {
      "image/png": "[encoded data removed]",
      "text/plain": [
       "<Figure size 640x480 with 1 Axes>"
      ]
     },
     "metadata": {},
     "output_type": "display_data"
    }
   ],
   "source": [
    "fig, ax = plt.subplots()\n",
    "\n",
    "ax.hist(users['age'], bins=30, linewidth=0.5, edgecolor=\"white\")\n",
    "ax.grid()\n",
    "\n",
    "ax.set_title('Возраст пользователей')\n",
    "ax.set_xlabel('Возраст')\n",
    "ax.set_ylabel('Количество пользователей')\n",
    "plt.show()"
   ]
  },
  {
   "cell_type": "markdown",
   "id": "31bc0017",
   "metadata": {},
   "source": [
    "<div class=\"alert alert-warning\" style=\"border-radius: 15px; box-shadow: 4px 4px 4px; border: 1px solid \">\n",
    "<h2> Комментарий ревьюера v_1: <a class=\"tocSkip\"> </h2>\n",
    "    \n",
    "⚠️ Не лишним было бы подробнее изучить данные с использованием функции `describe()`. С ее помощью можно увидеть точное минимальное и максимальное значения, определить медиану и среднее, в качестве диапазона часто встречающихся значений для выводов можно выбрать данные от первого до третьего квартиля (25% и 75%). Рекомендация актуальна и для других пунктов (ниже) данного шага."
   ]
  },
  {
   "cell_type": "code",
   "execution_count": 23,
   "id": "502b9613-9bc3-412d-9153-b39f6bc6c73c",
   "metadata": {},
   "outputs": [
    {
     "data": {
      "text/plain": [
       "count    1534.000000\n",
       "mean       24.903520\n",
       "std         4.572367\n",
       "min        12.000000\n",
       "25%        22.000000\n",
       "50%        25.000000\n",
       "75%        28.000000\n",
       "max        43.000000\n",
       "Name: age, dtype: float64"
      ]
     },
     "execution_count": 23,
     "metadata": {},
     "output_type": "execute_result"
    }
   ],
   "source": [
    "users['age'].describe()"
   ]
  },
  {
   "cell_type": "markdown",
   "id": "cabd91bd-9c69-40dc-87cb-a5ca117a006d",
   "metadata": {},
   "source": [
    "Вывод:\n",
    "\n",
    "Среднее и медиана почти совпадают. Средний возраст пользователей 25 лет. Чаще всего встречаются пользователи возрастом 22-28 лет. "
   ]
  },
  {
   "cell_type": "markdown",
   "id": "419c5ec3-84a2-4bed-b623-d4eba2ff4e45",
   "metadata": {},
   "source": [
    "<div class=\"alert alert-info\"  style=\"border-radius: 15px; box-shadow: 4px 4px 4px; border: 1px solid \">\n",
    "    \n",
    "<h2>Комментарий студента v_1: <a class=\"tocSkip\"> </h2>\n",
    "\n",
    "Выше учел комментарий, проанализировал данные через `describe`, написал вывод.   "
   ]
  },
  {
   "cell_type": "code",
   "execution_count": 24,
   "id": "204217e6-f3f0-4dd7-ab92-d4f544fc00ed",
   "metadata": {},
   "outputs": [
    {
     "data": {
      "text/plain": [
       "25    145\n",
       "24    132\n",
       "26    131\n",
       "23    129\n",
       "27    119\n",
       "22    119\n",
       "28    112\n",
       "21     93\n",
       "20     71\n",
       "30     68\n",
       "Name: age, dtype: int64"
      ]
     },
     "execution_count": 24,
     "metadata": {},
     "output_type": "execute_result"
    }
   ],
   "source": [
    "users['age'].value_counts().head(10)"
   ]
  },
  {
   "cell_type": "markdown",
   "id": "6bf214e2-3ff2-4e48-b3c4-e3155378b60a",
   "metadata": {},
   "source": [
    "По графику можно определить, что больше всего пользователей с возрастом 25 лет. 2 и 3 место 24 и 26 лет, далее расходится в право и влево почти ровным \"колоколом\" от 15 до 35 лет. "
   ]
  },
  {
   "cell_type": "markdown",
   "id": "7070e612-787d-431f-80b6-9e3ae6bf0186",
   "metadata": {},
   "source": [
    "### Расстояние, которое пользователь преодолел за одну поездку"
   ]
  },
  {
   "cell_type": "markdown",
   "id": "a6574a29-0ce5-48de-b68e-4d2984c321a6",
   "metadata": {},
   "source": [
    "fig, ax = plt.subplots()\n",
    "\n",
    "ax.hist(riders['distance'], bins=50, linewidth=0.5, edgecolor=\"white\")\n",
    "ax.grid()\n",
    "\n",
    "ax.set_xlabel('distance')\n",
    "plt.show()"
   ]
  },
  {
   "cell_type": "markdown",
   "id": "07792150-21b6-418c-beff-d602d7e8e64c",
   "metadata": {},
   "source": [
    "<div class=\"alert alert-info\"  style=\"border-radius: 15px; box-shadow: 4px 4px 4px; border: 1px solid \">\n",
    "    \n",
    "<h2>Комментарий студента v_2: <a class=\"tocSkip\"> </h2>\n",
    "\n",
    "Ниже сделал новый график с подписями осей и графика"
   ]
  },
  {
   "cell_type": "code",
   "execution_count": 25,
   "id": "f75e578e-7054-4bfa-8010-3092835073c2",
   "metadata": {},
   "outputs": [
    {
     "data": {
      "image/png": "[encoded data removed]",
      "text/plain": [
       "<Figure size 640x480 with 1 Axes>"
      ]
     },
     "metadata": {},
     "output_type": "display_data"
    }
   ],
   "source": [
    "fig, ax = plt.subplots()\n",
    "\n",
    "ax.hist(riders['distance'], bins=50, linewidth=0.5, edgecolor=\"white\")\n",
    "ax.grid()\n",
    "\n",
    "ax.set_title('Расстояние, которое пользователь преодолел за одну поездку')\n",
    "ax.set_xlabel('Расстояние в метрах')\n",
    "ax.set_ylabel('Количество поездок')\n",
    "plt.show()"
   ]
  },
  {
   "cell_type": "markdown",
   "id": "e7ab1ed1-a27b-4504-b9ea-25adce51b099",
   "metadata": {},
   "source": [
    "На графике видны два всплеска, первый слабый на дистанции 500-600 метров, второй - основной на дистанции 3000-3100. Это говорит о том, что пользователи предпочитают использовать этот способ передвижения в основном на эти расстояния. Больше 7 км никто не катается и это значит, что на расстояния больше 7 км пользователи предпочитают другие средства передвижения(такси, общественный наземный и подземный транспорт."
   ]
  },
  {
   "cell_type": "markdown",
   "id": "12a5100b",
   "metadata": {},
   "source": [
    "<div class=\"alert alert-success\" style=\"border-radius: 15px; box-shadow: 4px 4px 4px; border: 1px solid \">\n",
    "<h2> Комментарий ревьюера v_1: <a class=\"tocSkip\"> </h2>\n",
    "    \n",
    "✅ Слева на графике виден небольшой всплеск. Часть клиентов используют самокаты для очень коротких поездок"
   ]
  },
  {
   "cell_type": "markdown",
   "id": "458e6fbb-96db-496c-95c2-e7b02c52415c",
   "metadata": {},
   "source": [
    "### Продолжителность поездок"
   ]
  },
  {
   "cell_type": "markdown",
   "id": "e1bfd70e-75a3-451d-8677-81ad7c36db89",
   "metadata": {},
   "source": [
    "fig, ax = plt.subplots()\n",
    "\n",
    "ax.hist(riders['duration'], bins=200)\n",
    "ax.grid()\n",
    "\n",
    "ax.set_xlabel('duration')\n",
    "plt.show()"
   ]
  },
  {
   "cell_type": "markdown",
   "id": "f1b4f695-6943-4241-ab3f-41e232d11a4d",
   "metadata": {},
   "source": [
    "<div class=\"alert alert-info\"  style=\"border-radius: 15px; box-shadow: 4px 4px 4px; border: 1px solid \">\n",
    "    \n",
    "<h2>Комментарий студента v_2: <a class=\"tocSkip\"> </h2>\n",
    "\n",
    "Ниже сделал новый график с подписями осей и графика"
   ]
  },
  {
   "cell_type": "code",
   "execution_count": 26,
   "id": "74bdce0e-71de-43ba-a830-c4564bcf7f34",
   "metadata": {},
   "outputs": [
    {
     "data": {
      "image/png": "[encoded data removed]",
      "text/plain": [
       "<Figure size 640x480 with 1 Axes>"
      ]
     },
     "metadata": {},
     "output_type": "display_data"
    }
   ],
   "source": [
    "fig, ax = plt.subplots()\n",
    "\n",
    "ax.hist(riders['duration'], bins=200)\n",
    "ax.grid()\n",
    "\n",
    "ax.set_title('Продолжителность поездок')\n",
    "ax.set_xlabel('Длительность поездки в минутах')\n",
    "ax.set_ylabel('Количество поездок')\n",
    "plt.show()"
   ]
  },
  {
   "cell_type": "markdown",
   "id": "e75da1c6-0a86-48a6-96d0-effdc8d555bb",
   "metadata": {},
   "source": [
    "График говорит о том, что среднее время поездок равно 17,5 минутам. Так же есть отдельный всплеск поездок по 1 минуте. Этот график совпадает с графиком по дистанции. Из этого можно предположить, что пользователи берут на минутку самокаты для того, что бы проехать 500-600 метров и на 17.5 минут(в среднем) для поездок на расстояние 3 км(в среднем)"
   ]
  },
  {
   "cell_type": "markdown",
   "id": "289eb853",
   "metadata": {},
   "source": [
    "<div class=\"alert alert-warning\" style=\"border-radius: 15px; box-shadow: 4px 4px 4px; border: 1px solid \">\n",
    "<h2> Комментарий ревьюера v_1: <a class=\"tocSkip\"> </h2>\n",
    "    \n",
    "⚠️ Дополнительно можно посмотреть, есть ли в столбце с продолжительностью сессии аномалии. Можно сравнить продолжительность сессий и расстояние поездок и прокомментировать, насколько реально можно проехать такое расстояние за указанное время. В случае обнаружения удалять не рекомендуется, лучше сначала выяснить причину их появления."
   ]
  },
  {
   "cell_type": "markdown",
   "id": "6ce6bdf7-1808-41cd-bb8d-dd9b93ac5298",
   "metadata": {},
   "source": [
    "Проверка максимальных значений длительности сессии и и расстояния за сессию."
   ]
  },
  {
   "cell_type": "code",
   "execution_count": 27,
   "id": "978c9b18-d1f2-4c03-bc7b-445d991fc710",
   "metadata": {},
   "outputs": [
    {
     "data": {
      "text/plain": [
       "(40.82396261922424, 7211.007744598519)"
      ]
     },
     "execution_count": 27,
     "metadata": {},
     "output_type": "execute_result"
    }
   ],
   "source": [
    "riders['duration'].max(), riders['distance'].max()"
   ]
  },
  {
   "cell_type": "markdown",
   "id": "a1f13785-7df5-4ca6-aaa3-30566b969043",
   "metadata": {},
   "source": [
    "40 минут и 7211 метров. Можно перевести это в привычные километры в час и понять на сколько это реально и безопасно."
   ]
  },
  {
   "cell_type": "code",
   "execution_count": 28,
   "id": "b8c4c545-f57f-4445-abfd-ae220c1cf435",
   "metadata": {},
   "outputs": [
    {
     "data": {
      "text/plain": [
       "10.598198629355222"
      ]
     },
     "execution_count": 28,
     "metadata": {},
     "output_type": "execute_result"
    }
   ],
   "source": [
    "riders['distance'].max() / 1000 * 60 / riders['duration'].max()"
   ]
  },
  {
   "cell_type": "markdown",
   "id": "8f2821b0-31e7-4783-ac29-ad411547998d",
   "metadata": {},
   "source": [
    "Получилось 10.5 км/ч. Не так много и вполне реалистично."
   ]
  },
  {
   "cell_type": "markdown",
   "id": "c892ad8c-1c59-4a93-a7f3-4a19aff29057",
   "metadata": {
    "jp-MarkdownHeadingCollapsed": true
   },
   "source": [
    "<div class=\"alert alert-info\"  style=\"border-radius: 15px; box-shadow: 4px 4px 4px; border: 1px solid \">\n",
    "    \n",
    "<h2>Комментарий студента v_1: <a class=\"tocSkip\"> </h2>\n",
    "\n",
    "Учел коментарий и провел расчет с описанием выше."
   ]
  },
  {
   "cell_type": "markdown",
   "id": "4ef51331",
   "metadata": {},
   "source": [
    "## Шаг 4. Объединение данных"
   ]
  },
  {
   "cell_type": "markdown",
   "id": "e96598db-c9a1-4234-bdd2-cc1d62f5c612",
   "metadata": {},
   "source": [
    "### Объединение данных о пользователях, поездках и подписках в один датафрейм"
   ]
  },
  {
   "cell_type": "code",
   "execution_count": 29,
   "id": "6bf288b5",
   "metadata": {},
   "outputs": [],
   "source": [
    "general = users.merge(riders, on='user_id', how='outer')"
   ]
  },
  {
   "cell_type": "code",
   "execution_count": 30,
   "id": "518a6e0a-f053-4088-81da-a6181a58b025",
   "metadata": {},
   "outputs": [],
   "source": [
    "general = general.merge(subscriptions, on='subscription_type', how='outer')"
   ]
  },
  {
   "cell_type": "code",
   "execution_count": 31,
   "id": "4502db8e-6117-417e-83a8-e1b54ddbee69",
   "metadata": {},
   "outputs": [
    {
     "data": {
      "text/html": [
       "<div>\n",
       "<style scoped>\n",
       "    .dataframe tbody tr th:only-of-type {\n",
       "        vertical-align: middle;\n",
       "    }\n",
       "\n",
       "    .dataframe tbody tr th {\n",
       "        vertical-align: top;\n",
       "    }\n",
       "\n",
       "    .dataframe thead th {\n",
       "        text-align: right;\n",
       "    }\n",
       "</style>\n",
       "<table border=\"1\" class=\"dataframe\">\n",
       "  <thead>\n",
       "    <tr style=\"text-align: right;\">\n",
       "      <th></th>\n",
       "      <th>user_id</th>\n",
       "      <th>name</th>\n",
       "      <th>age</th>\n",
       "      <th>city</th>\n",
       "      <th>subscription_type</th>\n",
       "      <th>distance</th>\n",
       "      <th>duration</th>\n",
       "      <th>date</th>\n",
       "      <th>month</th>\n",
       "      <th>minute_price</th>\n",
       "      <th>start_ride_price</th>\n",
       "      <th>subscription_fee</th>\n",
       "    </tr>\n",
       "  </thead>\n",
       "  <tbody>\n",
       "    <tr>\n",
       "      <th>6892</th>\n",
       "      <td>726</td>\n",
       "      <td>Ольга</td>\n",
       "      <td>22</td>\n",
       "      <td>Пятигорск</td>\n",
       "      <td>free</td>\n",
       "      <td>1711.829358</td>\n",
       "      <td>17.336412</td>\n",
       "      <td>2021-11-19</td>\n",
       "      <td>11</td>\n",
       "      <td>8</td>\n",
       "      <td>50</td>\n",
       "      <td>0</td>\n",
       "    </tr>\n",
       "    <tr>\n",
       "      <th>4957</th>\n",
       "      <td>534</td>\n",
       "      <td>Дмитрий</td>\n",
       "      <td>33</td>\n",
       "      <td>Москва</td>\n",
       "      <td>ultra</td>\n",
       "      <td>3278.020880</td>\n",
       "      <td>23.129327</td>\n",
       "      <td>2021-07-15</td>\n",
       "      <td>7</td>\n",
       "      <td>6</td>\n",
       "      <td>0</td>\n",
       "      <td>199</td>\n",
       "    </tr>\n",
       "    <tr>\n",
       "      <th>15381</th>\n",
       "      <td>1345</td>\n",
       "      <td>Даниэль</td>\n",
       "      <td>26</td>\n",
       "      <td>Екатеринбург</td>\n",
       "      <td>free</td>\n",
       "      <td>4225.347970</td>\n",
       "      <td>11.742099</td>\n",
       "      <td>2021-07-28</td>\n",
       "      <td>7</td>\n",
       "      <td>8</td>\n",
       "      <td>50</td>\n",
       "      <td>0</td>\n",
       "    </tr>\n",
       "    <tr>\n",
       "      <th>1468</th>\n",
       "      <td>159</td>\n",
       "      <td>Нелли</td>\n",
       "      <td>25</td>\n",
       "      <td>Тюмень</td>\n",
       "      <td>ultra</td>\n",
       "      <td>2966.755395</td>\n",
       "      <td>17.867022</td>\n",
       "      <td>2021-09-18</td>\n",
       "      <td>9</td>\n",
       "      <td>6</td>\n",
       "      <td>0</td>\n",
       "      <td>199</td>\n",
       "    </tr>\n",
       "    <tr>\n",
       "      <th>15890</th>\n",
       "      <td>1382</td>\n",
       "      <td>Мирослав</td>\n",
       "      <td>27</td>\n",
       "      <td>Ростов-на-Дону</td>\n",
       "      <td>free</td>\n",
       "      <td>338.834119</td>\n",
       "      <td>11.270628</td>\n",
       "      <td>2021-11-01</td>\n",
       "      <td>11</td>\n",
       "      <td>8</td>\n",
       "      <td>50</td>\n",
       "      <td>0</td>\n",
       "    </tr>\n",
       "    <tr>\n",
       "      <th>1343</th>\n",
       "      <td>145</td>\n",
       "      <td>Данил</td>\n",
       "      <td>32</td>\n",
       "      <td>Сочи</td>\n",
       "      <td>ultra</td>\n",
       "      <td>3082.359939</td>\n",
       "      <td>16.849689</td>\n",
       "      <td>2021-11-19</td>\n",
       "      <td>11</td>\n",
       "      <td>6</td>\n",
       "      <td>0</td>\n",
       "      <td>199</td>\n",
       "    </tr>\n",
       "    <tr>\n",
       "      <th>9105</th>\n",
       "      <td>895</td>\n",
       "      <td>Мирон</td>\n",
       "      <td>25</td>\n",
       "      <td>Сочи</td>\n",
       "      <td>free</td>\n",
       "      <td>4020.667742</td>\n",
       "      <td>17.696846</td>\n",
       "      <td>2021-02-01</td>\n",
       "      <td>2</td>\n",
       "      <td>8</td>\n",
       "      <td>50</td>\n",
       "      <td>0</td>\n",
       "    </tr>\n",
       "    <tr>\n",
       "      <th>2747</th>\n",
       "      <td>293</td>\n",
       "      <td>Агата</td>\n",
       "      <td>26</td>\n",
       "      <td>Краснодар</td>\n",
       "      <td>ultra</td>\n",
       "      <td>587.253664</td>\n",
       "      <td>10.349015</td>\n",
       "      <td>2021-02-20</td>\n",
       "      <td>2</td>\n",
       "      <td>6</td>\n",
       "      <td>0</td>\n",
       "      <td>199</td>\n",
       "    </tr>\n",
       "    <tr>\n",
       "      <th>4227</th>\n",
       "      <td>456</td>\n",
       "      <td>Одиссей</td>\n",
       "      <td>19</td>\n",
       "      <td>Пятигорск</td>\n",
       "      <td>ultra</td>\n",
       "      <td>3972.572591</td>\n",
       "      <td>19.350207</td>\n",
       "      <td>2021-08-16</td>\n",
       "      <td>8</td>\n",
       "      <td>6</td>\n",
       "      <td>0</td>\n",
       "      <td>199</td>\n",
       "    </tr>\n",
       "    <tr>\n",
       "      <th>1076</th>\n",
       "      <td>115</td>\n",
       "      <td>Полина</td>\n",
       "      <td>25</td>\n",
       "      <td>Москва</td>\n",
       "      <td>ultra</td>\n",
       "      <td>3341.370503</td>\n",
       "      <td>10.710855</td>\n",
       "      <td>2021-10-17</td>\n",
       "      <td>10</td>\n",
       "      <td>6</td>\n",
       "      <td>0</td>\n",
       "      <td>199</td>\n",
       "    </tr>\n",
       "  </tbody>\n",
       "</table>\n",
       "</div>"
      ],
      "text/plain": [
       "       user_id      name  age            city subscription_type     distance  \\\n",
       "6892       726     Ольга   22       Пятигорск              free  1711.829358   \n",
       "4957       534   Дмитрий   33          Москва             ultra  3278.020880   \n",
       "15381     1345   Даниэль   26    Екатеринбург              free  4225.347970   \n",
       "1468       159     Нелли   25          Тюмень             ultra  2966.755395   \n",
       "15890     1382  Мирослав   27  Ростов-на-Дону              free   338.834119   \n",
       "1343       145     Данил   32            Сочи             ultra  3082.359939   \n",
       "9105       895     Мирон   25            Сочи              free  4020.667742   \n",
       "2747       293     Агата   26       Краснодар             ultra   587.253664   \n",
       "4227       456   Одиссей   19       Пятигорск             ultra  3972.572591   \n",
       "1076       115    Полина   25          Москва             ultra  3341.370503   \n",
       "\n",
       "        duration       date  month  minute_price  start_ride_price  \\\n",
       "6892   17.336412 2021-11-19     11             8                50   \n",
       "4957   23.129327 2021-07-15      7             6                 0   \n",
       "15381  11.742099 2021-07-28      7             8                50   \n",
       "1468   17.867022 2021-09-18      9             6                 0   \n",
       "15890  11.270628 2021-11-01     11             8                50   \n",
       "1343   16.849689 2021-11-19     11             6                 0   \n",
       "9105   17.696846 2021-02-01      2             8                50   \n",
       "2747   10.349015 2021-02-20      2             6                 0   \n",
       "4227   19.350207 2021-08-16      8             6                 0   \n",
       "1076   10.710855 2021-10-17     10             6                 0   \n",
       "\n",
       "       subscription_fee  \n",
       "6892                  0  \n",
       "4957                199  \n",
       "15381                 0  \n",
       "1468                199  \n",
       "15890                 0  \n",
       "1343                199  \n",
       "9105                  0  \n",
       "2747                199  \n",
       "4227                199  \n",
       "1076                199  "
      ]
     },
     "execution_count": 31,
     "metadata": {},
     "output_type": "execute_result"
    }
   ],
   "source": [
    "general.sample(10)"
   ]
  },
  {
   "cell_type": "markdown",
   "id": "fc0c4ee7-4f2e-4bd3-9cc4-f6e7e5e7a071",
   "metadata": {},
   "source": [
    "Объединение прошло успешно, все данные теперь в одной таблице."
   ]
  },
  {
   "cell_type": "markdown",
   "id": "52459c6d",
   "metadata": {},
   "source": [
    "<div class=\"alert alert-block alert-danger\" style=\"border-radius: 15px; box-shadow: 4px 4px 4px; border: 1px solid \">\n",
    "<h2> Комментарий ревьюера v_1: <a class=\"tocSkip\"></h2>\n",
    "    \n",
    "❌ После объединения стоит проверить и написать, прошло ли оно корректно, не были ли потеряны данные или не появились ли лишние записи. Совпадает ли количество записей с одной из исходных таблиц? Имеются ли пропуски? Стоит не только объединить данные, но и убедиться, что всё хорошо."
   ]
  },
  {
   "cell_type": "code",
   "execution_count": 32,
   "id": "19b3bfb9-667d-46d1-93d5-abcb7e4d7f45",
   "metadata": {},
   "outputs": [
    {
     "name": "stdout",
     "output_type": "stream",
     "text": [
      "<class 'pandas.core.frame.DataFrame'>\n",
      "Int64Index: 18068 entries, 0 to 18067\n",
      "Data columns (total 12 columns):\n",
      " #   Column             Non-Null Count  Dtype         \n",
      "---  ------             --------------  -----         \n",
      " 0   user_id            18068 non-null  int64         \n",
      " 1   name               18068 non-null  object        \n",
      " 2   age                18068 non-null  int64         \n",
      " 3   city               18068 non-null  object        \n",
      " 4   subscription_type  18068 non-null  object        \n",
      " 5   distance           18068 non-null  float64       \n",
      " 6   duration           18068 non-null  float64       \n",
      " 7   date               18068 non-null  datetime64[ns]\n",
      " 8   month              18068 non-null  int64         \n",
      " 9   minute_price       18068 non-null  int64         \n",
      " 10  start_ride_price   18068 non-null  int64         \n",
      " 11  subscription_fee   18068 non-null  int64         \n",
      "dtypes: datetime64[ns](1), float64(2), int64(6), object(3)\n",
      "memory usage: 1.8+ MB\n",
      "<class 'pandas.core.frame.DataFrame'>\n",
      "RangeIndex: 18068 entries, 0 to 18067\n",
      "Data columns (total 5 columns):\n",
      " #   Column    Non-Null Count  Dtype         \n",
      "---  ------    --------------  -----         \n",
      " 0   user_id   18068 non-null  int64         \n",
      " 1   distance  18068 non-null  float64       \n",
      " 2   duration  18068 non-null  float64       \n",
      " 3   date      18068 non-null  datetime64[ns]\n",
      " 4   month     18068 non-null  int64         \n",
      "dtypes: datetime64[ns](1), float64(2), int64(2)\n",
      "memory usage: 705.9 KB\n"
     ]
    }
   ],
   "source": [
    "general.info()\n",
    "riders.info()"
   ]
  },
  {
   "cell_type": "markdown",
   "id": "77757204-c2c3-43d5-b317-66f875c75a1f",
   "metadata": {},
   "source": [
    "Сравнение новой таблицы с большей по объему из исходных показало, что количество строк совпадает, пропущенных данных нет, форматы не поменялись. Объединение прошло успешно."
   ]
  },
  {
   "cell_type": "markdown",
   "id": "82f4be6d-2d6e-4e19-a684-69cc0596ce70",
   "metadata": {},
   "source": [
    "<div class=\"alert alert-info\"  style=\"border-radius: 15px; box-shadow: 4px 4px 4px; border: 1px solid \">\n",
    "    \n",
    "<h2>Комментарий студента v_1: <a class=\"tocSkip\"> </h2>\n",
    "\n",
    "Выше проверил, что все прошло хорошо, вывод написал.   "
   ]
  },
  {
   "cell_type": "markdown",
   "id": "2dacd22f",
   "metadata": {},
   "source": [
    "<div class=\"alert alert-success\" style=\"border-radius: 15px; box-shadow: 4px 4px 4px; border: 1px solid \">\n",
    "<h2> Комментарий ревьюера v_2: <a class=\"tocSkip\"> </h2>\n",
    "    \n",
    "✅ Объединение прошло успешно"
   ]
  },
  {
   "cell_type": "markdown",
   "id": "abc60f18-cc5b-4089-ae23-0c903e0ced66",
   "metadata": {},
   "source": [
    "### Создание двух датафреймов из датафрейма, созданного на этапе 4.1"
   ]
  },
  {
   "cell_type": "markdown",
   "id": "c4809054-664f-4b8a-b5c2-07aa33de639e",
   "metadata": {
    "jp-MarkdownHeadingCollapsed": true
   },
   "source": [
    "#### C данными о пользователях без подписки"
   ]
  },
  {
   "cell_type": "code",
   "execution_count": 33,
   "id": "cf664f8c-929c-45f9-9665-f7c64a7d378a",
   "metadata": {},
   "outputs": [],
   "source": [
    "subscription_off = general[general['subscription_type'] == 'free']"
   ]
  },
  {
   "cell_type": "code",
   "execution_count": 34,
   "id": "0daec75f-b92e-4ce7-af5a-2469334bf059",
   "metadata": {},
   "outputs": [
    {
     "data": {
      "text/html": [
       "<div>\n",
       "<style scoped>\n",
       "    .dataframe tbody tr th:only-of-type {\n",
       "        vertical-align: middle;\n",
       "    }\n",
       "\n",
       "    .dataframe tbody tr th {\n",
       "        vertical-align: top;\n",
       "    }\n",
       "\n",
       "    .dataframe thead th {\n",
       "        text-align: right;\n",
       "    }\n",
       "</style>\n",
       "<table border=\"1\" class=\"dataframe\">\n",
       "  <thead>\n",
       "    <tr style=\"text-align: right;\">\n",
       "      <th></th>\n",
       "      <th>user_id</th>\n",
       "      <th>name</th>\n",
       "      <th>age</th>\n",
       "      <th>city</th>\n",
       "      <th>subscription_type</th>\n",
       "      <th>distance</th>\n",
       "      <th>duration</th>\n",
       "      <th>date</th>\n",
       "      <th>month</th>\n",
       "      <th>minute_price</th>\n",
       "      <th>start_ride_price</th>\n",
       "      <th>subscription_fee</th>\n",
       "    </tr>\n",
       "  </thead>\n",
       "  <tbody>\n",
       "    <tr>\n",
       "      <th>6500</th>\n",
       "      <td>700</td>\n",
       "      <td>Айдар</td>\n",
       "      <td>22</td>\n",
       "      <td>Омск</td>\n",
       "      <td>free</td>\n",
       "      <td>2515.690719</td>\n",
       "      <td>14.944286</td>\n",
       "      <td>2021-01-02</td>\n",
       "      <td>1</td>\n",
       "      <td>8</td>\n",
       "      <td>50</td>\n",
       "      <td>0</td>\n",
       "    </tr>\n",
       "    <tr>\n",
       "      <th>6501</th>\n",
       "      <td>700</td>\n",
       "      <td>Айдар</td>\n",
       "      <td>22</td>\n",
       "      <td>Омск</td>\n",
       "      <td>free</td>\n",
       "      <td>846.932642</td>\n",
       "      <td>16.234663</td>\n",
       "      <td>2021-02-01</td>\n",
       "      <td>2</td>\n",
       "      <td>8</td>\n",
       "      <td>50</td>\n",
       "      <td>0</td>\n",
       "    </tr>\n",
       "    <tr>\n",
       "      <th>6502</th>\n",
       "      <td>700</td>\n",
       "      <td>Айдар</td>\n",
       "      <td>22</td>\n",
       "      <td>Омск</td>\n",
       "      <td>free</td>\n",
       "      <td>4004.434142</td>\n",
       "      <td>20.016628</td>\n",
       "      <td>2021-02-04</td>\n",
       "      <td>2</td>\n",
       "      <td>8</td>\n",
       "      <td>50</td>\n",
       "      <td>0</td>\n",
       "    </tr>\n",
       "    <tr>\n",
       "      <th>6503</th>\n",
       "      <td>700</td>\n",
       "      <td>Айдар</td>\n",
       "      <td>22</td>\n",
       "      <td>Омск</td>\n",
       "      <td>free</td>\n",
       "      <td>1205.911290</td>\n",
       "      <td>9.782872</td>\n",
       "      <td>2021-02-10</td>\n",
       "      <td>2</td>\n",
       "      <td>8</td>\n",
       "      <td>50</td>\n",
       "      <td>0</td>\n",
       "    </tr>\n",
       "    <tr>\n",
       "      <th>6504</th>\n",
       "      <td>700</td>\n",
       "      <td>Айдар</td>\n",
       "      <td>22</td>\n",
       "      <td>Омск</td>\n",
       "      <td>free</td>\n",
       "      <td>3047.379435</td>\n",
       "      <td>17.427673</td>\n",
       "      <td>2021-02-14</td>\n",
       "      <td>2</td>\n",
       "      <td>8</td>\n",
       "      <td>50</td>\n",
       "      <td>0</td>\n",
       "    </tr>\n",
       "    <tr>\n",
       "      <th>6505</th>\n",
       "      <td>700</td>\n",
       "      <td>Айдар</td>\n",
       "      <td>22</td>\n",
       "      <td>Омск</td>\n",
       "      <td>free</td>\n",
       "      <td>4342.002254</td>\n",
       "      <td>22.368009</td>\n",
       "      <td>2021-02-23</td>\n",
       "      <td>2</td>\n",
       "      <td>8</td>\n",
       "      <td>50</td>\n",
       "      <td>0</td>\n",
       "    </tr>\n",
       "    <tr>\n",
       "      <th>6506</th>\n",
       "      <td>700</td>\n",
       "      <td>Айдар</td>\n",
       "      <td>22</td>\n",
       "      <td>Омск</td>\n",
       "      <td>free</td>\n",
       "      <td>3798.334905</td>\n",
       "      <td>18.243756</td>\n",
       "      <td>2021-03-03</td>\n",
       "      <td>3</td>\n",
       "      <td>8</td>\n",
       "      <td>50</td>\n",
       "      <td>0</td>\n",
       "    </tr>\n",
       "    <tr>\n",
       "      <th>6507</th>\n",
       "      <td>700</td>\n",
       "      <td>Айдар</td>\n",
       "      <td>22</td>\n",
       "      <td>Омск</td>\n",
       "      <td>free</td>\n",
       "      <td>2984.551206</td>\n",
       "      <td>15.424899</td>\n",
       "      <td>2021-04-09</td>\n",
       "      <td>4</td>\n",
       "      <td>8</td>\n",
       "      <td>50</td>\n",
       "      <td>0</td>\n",
       "    </tr>\n",
       "    <tr>\n",
       "      <th>6508</th>\n",
       "      <td>700</td>\n",
       "      <td>Айдар</td>\n",
       "      <td>22</td>\n",
       "      <td>Омск</td>\n",
       "      <td>free</td>\n",
       "      <td>3360.107141</td>\n",
       "      <td>16.765497</td>\n",
       "      <td>2021-06-12</td>\n",
       "      <td>6</td>\n",
       "      <td>8</td>\n",
       "      <td>50</td>\n",
       "      <td>0</td>\n",
       "    </tr>\n",
       "    <tr>\n",
       "      <th>6509</th>\n",
       "      <td>700</td>\n",
       "      <td>Айдар</td>\n",
       "      <td>22</td>\n",
       "      <td>Омск</td>\n",
       "      <td>free</td>\n",
       "      <td>2567.543847</td>\n",
       "      <td>11.312160</td>\n",
       "      <td>2021-06-23</td>\n",
       "      <td>6</td>\n",
       "      <td>8</td>\n",
       "      <td>50</td>\n",
       "      <td>0</td>\n",
       "    </tr>\n",
       "    <tr>\n",
       "      <th>6510</th>\n",
       "      <td>700</td>\n",
       "      <td>Айдар</td>\n",
       "      <td>22</td>\n",
       "      <td>Омск</td>\n",
       "      <td>free</td>\n",
       "      <td>4110.232038</td>\n",
       "      <td>15.807640</td>\n",
       "      <td>2021-07-08</td>\n",
       "      <td>7</td>\n",
       "      <td>8</td>\n",
       "      <td>50</td>\n",
       "      <td>0</td>\n",
       "    </tr>\n",
       "    <tr>\n",
       "      <th>6511</th>\n",
       "      <td>700</td>\n",
       "      <td>Айдар</td>\n",
       "      <td>22</td>\n",
       "      <td>Омск</td>\n",
       "      <td>free</td>\n",
       "      <td>288.974241</td>\n",
       "      <td>4.788112</td>\n",
       "      <td>2021-07-18</td>\n",
       "      <td>7</td>\n",
       "      <td>8</td>\n",
       "      <td>50</td>\n",
       "      <td>0</td>\n",
       "    </tr>\n",
       "    <tr>\n",
       "      <th>6512</th>\n",
       "      <td>700</td>\n",
       "      <td>Айдар</td>\n",
       "      <td>22</td>\n",
       "      <td>Омск</td>\n",
       "      <td>free</td>\n",
       "      <td>4071.654669</td>\n",
       "      <td>16.370546</td>\n",
       "      <td>2021-08-17</td>\n",
       "      <td>8</td>\n",
       "      <td>8</td>\n",
       "      <td>50</td>\n",
       "      <td>0</td>\n",
       "    </tr>\n",
       "    <tr>\n",
       "      <th>6513</th>\n",
       "      <td>700</td>\n",
       "      <td>Айдар</td>\n",
       "      <td>22</td>\n",
       "      <td>Омск</td>\n",
       "      <td>free</td>\n",
       "      <td>1920.188901</td>\n",
       "      <td>9.608453</td>\n",
       "      <td>2021-10-08</td>\n",
       "      <td>10</td>\n",
       "      <td>8</td>\n",
       "      <td>50</td>\n",
       "      <td>0</td>\n",
       "    </tr>\n",
       "    <tr>\n",
       "      <th>6514</th>\n",
       "      <td>700</td>\n",
       "      <td>Айдар</td>\n",
       "      <td>22</td>\n",
       "      <td>Омск</td>\n",
       "      <td>free</td>\n",
       "      <td>4402.389717</td>\n",
       "      <td>33.013035</td>\n",
       "      <td>2021-10-15</td>\n",
       "      <td>10</td>\n",
       "      <td>8</td>\n",
       "      <td>50</td>\n",
       "      <td>0</td>\n",
       "    </tr>\n",
       "  </tbody>\n",
       "</table>\n",
       "</div>"
      ],
      "text/plain": [
       "      user_id   name  age  city subscription_type     distance   duration  \\\n",
       "6500      700  Айдар   22  Омск              free  2515.690719  14.944286   \n",
       "6501      700  Айдар   22  Омск              free   846.932642  16.234663   \n",
       "6502      700  Айдар   22  Омск              free  4004.434142  20.016628   \n",
       "6503      700  Айдар   22  Омск              free  1205.911290   9.782872   \n",
       "6504      700  Айдар   22  Омск              free  3047.379435  17.427673   \n",
       "6505      700  Айдар   22  Омск              free  4342.002254  22.368009   \n",
       "6506      700  Айдар   22  Омск              free  3798.334905  18.243756   \n",
       "6507      700  Айдар   22  Омск              free  2984.551206  15.424899   \n",
       "6508      700  Айдар   22  Омск              free  3360.107141  16.765497   \n",
       "6509      700  Айдар   22  Омск              free  2567.543847  11.312160   \n",
       "6510      700  Айдар   22  Омск              free  4110.232038  15.807640   \n",
       "6511      700  Айдар   22  Омск              free   288.974241   4.788112   \n",
       "6512      700  Айдар   22  Омск              free  4071.654669  16.370546   \n",
       "6513      700  Айдар   22  Омск              free  1920.188901   9.608453   \n",
       "6514      700  Айдар   22  Омск              free  4402.389717  33.013035   \n",
       "\n",
       "           date  month  minute_price  start_ride_price  subscription_fee  \n",
       "6500 2021-01-02      1             8                50                 0  \n",
       "6501 2021-02-01      2             8                50                 0  \n",
       "6502 2021-02-04      2             8                50                 0  \n",
       "6503 2021-02-10      2             8                50                 0  \n",
       "6504 2021-02-14      2             8                50                 0  \n",
       "6505 2021-02-23      2             8                50                 0  \n",
       "6506 2021-03-03      3             8                50                 0  \n",
       "6507 2021-04-09      4             8                50                 0  \n",
       "6508 2021-06-12      6             8                50                 0  \n",
       "6509 2021-06-23      6             8                50                 0  \n",
       "6510 2021-07-08      7             8                50                 0  \n",
       "6511 2021-07-18      7             8                50                 0  \n",
       "6512 2021-08-17      8             8                50                 0  \n",
       "6513 2021-10-08     10             8                50                 0  \n",
       "6514 2021-10-15     10             8                50                 0  "
      ]
     },
     "execution_count": 34,
     "metadata": {},
     "output_type": "execute_result"
    }
   ],
   "source": [
    "subscription_off.head(15)"
   ]
  },
  {
   "cell_type": "markdown",
   "id": "51ec7b42-189f-480e-bd6d-f87d5000ae14",
   "metadata": {
    "jp-MarkdownHeadingCollapsed": true
   },
   "source": [
    "#### C данными о пользователях с подпиской"
   ]
  },
  {
   "cell_type": "code",
   "execution_count": 35,
   "id": "c9554427-395e-4caf-90cf-ec6bfa2ddd1c",
   "metadata": {},
   "outputs": [],
   "source": [
    "subscription_on = general[general['subscription_type'] == 'ultra']"
   ]
  },
  {
   "cell_type": "code",
   "execution_count": 36,
   "id": "eb778e65-2765-48e9-aa14-ca32f4d5590b",
   "metadata": {
    "scrolled": true
   },
   "outputs": [
    {
     "data": {
      "text/html": [
       "<div>\n",
       "<style scoped>\n",
       "    .dataframe tbody tr th:only-of-type {\n",
       "        vertical-align: middle;\n",
       "    }\n",
       "\n",
       "    .dataframe tbody tr th {\n",
       "        vertical-align: top;\n",
       "    }\n",
       "\n",
       "    .dataframe thead th {\n",
       "        text-align: right;\n",
       "    }\n",
       "</style>\n",
       "<table border=\"1\" class=\"dataframe\">\n",
       "  <thead>\n",
       "    <tr style=\"text-align: right;\">\n",
       "      <th></th>\n",
       "      <th>user_id</th>\n",
       "      <th>name</th>\n",
       "      <th>age</th>\n",
       "      <th>city</th>\n",
       "      <th>subscription_type</th>\n",
       "      <th>distance</th>\n",
       "      <th>duration</th>\n",
       "      <th>date</th>\n",
       "      <th>month</th>\n",
       "      <th>minute_price</th>\n",
       "      <th>start_ride_price</th>\n",
       "      <th>subscription_fee</th>\n",
       "    </tr>\n",
       "  </thead>\n",
       "  <tbody>\n",
       "    <tr>\n",
       "      <th>2103</th>\n",
       "      <td>225</td>\n",
       "      <td>Егор</td>\n",
       "      <td>25</td>\n",
       "      <td>Пятигорск</td>\n",
       "      <td>ultra</td>\n",
       "      <td>2949.485516</td>\n",
       "      <td>11.806505</td>\n",
       "      <td>2021-05-17</td>\n",
       "      <td>5</td>\n",
       "      <td>6</td>\n",
       "      <td>0</td>\n",
       "      <td>199</td>\n",
       "    </tr>\n",
       "    <tr>\n",
       "      <th>3360</th>\n",
       "      <td>362</td>\n",
       "      <td>Екатерина</td>\n",
       "      <td>25</td>\n",
       "      <td>Москва</td>\n",
       "      <td>ultra</td>\n",
       "      <td>3433.225644</td>\n",
       "      <td>16.629390</td>\n",
       "      <td>2021-10-08</td>\n",
       "      <td>10</td>\n",
       "      <td>6</td>\n",
       "      <td>0</td>\n",
       "      <td>199</td>\n",
       "    </tr>\n",
       "    <tr>\n",
       "      <th>4040</th>\n",
       "      <td>435</td>\n",
       "      <td>Игнат</td>\n",
       "      <td>23</td>\n",
       "      <td>Ростов-на-Дону</td>\n",
       "      <td>ultra</td>\n",
       "      <td>3529.341217</td>\n",
       "      <td>15.625476</td>\n",
       "      <td>2021-07-21</td>\n",
       "      <td>7</td>\n",
       "      <td>6</td>\n",
       "      <td>0</td>\n",
       "      <td>199</td>\n",
       "    </tr>\n",
       "    <tr>\n",
       "      <th>4608</th>\n",
       "      <td>497</td>\n",
       "      <td>Эмиль</td>\n",
       "      <td>32</td>\n",
       "      <td>Екатеринбург</td>\n",
       "      <td>ultra</td>\n",
       "      <td>1425.491406</td>\n",
       "      <td>12.949293</td>\n",
       "      <td>2021-12-04</td>\n",
       "      <td>12</td>\n",
       "      <td>6</td>\n",
       "      <td>0</td>\n",
       "      <td>199</td>\n",
       "    </tr>\n",
       "    <tr>\n",
       "      <th>3317</th>\n",
       "      <td>358</td>\n",
       "      <td>Екатерина</td>\n",
       "      <td>29</td>\n",
       "      <td>Москва</td>\n",
       "      <td>ultra</td>\n",
       "      <td>3557.611761</td>\n",
       "      <td>24.788059</td>\n",
       "      <td>2021-02-24</td>\n",
       "      <td>2</td>\n",
       "      <td>6</td>\n",
       "      <td>0</td>\n",
       "      <td>199</td>\n",
       "    </tr>\n",
       "  </tbody>\n",
       "</table>\n",
       "</div>"
      ],
      "text/plain": [
       "      user_id       name  age            city subscription_type     distance  \\\n",
       "2103      225       Егор   25       Пятигорск             ultra  2949.485516   \n",
       "3360      362  Екатерина   25          Москва             ultra  3433.225644   \n",
       "4040      435      Игнат   23  Ростов-на-Дону             ultra  3529.341217   \n",
       "4608      497      Эмиль   32    Екатеринбург             ultra  1425.491406   \n",
       "3317      358  Екатерина   29          Москва             ultra  3557.611761   \n",
       "\n",
       "       duration       date  month  minute_price  start_ride_price  \\\n",
       "2103  11.806505 2021-05-17      5             6                 0   \n",
       "3360  16.629390 2021-10-08     10             6                 0   \n",
       "4040  15.625476 2021-07-21      7             6                 0   \n",
       "4608  12.949293 2021-12-04     12             6                 0   \n",
       "3317  24.788059 2021-02-24      2             6                 0   \n",
       "\n",
       "      subscription_fee  \n",
       "2103               199  \n",
       "3360               199  \n",
       "4040               199  \n",
       "4608               199  \n",
       "3317               199  "
      ]
     },
     "execution_count": 36,
     "metadata": {},
     "output_type": "execute_result"
    }
   ],
   "source": [
    "subscription_on.sample(5)"
   ]
  },
  {
   "cell_type": "markdown",
   "id": "ca25e5a4",
   "metadata": {},
   "source": [
    "<div class=\"alert alert-success\" style=\"border-radius: 15px; box-shadow: 4px 4px 4px; border: 1px solid \">\n",
    "<h2> Комментарий ревьюера v_1: <a class=\"tocSkip\"> </h2>\n",
    "    \n",
    "✅ Отлично, созданы необходимые датафреймы. Я бы еще соватовал проверять, что совокупный размер датафреймов совпадает с количеством строк в исходной таблице."
   ]
  },
  {
   "cell_type": "markdown",
   "id": "73eb9968-269f-448c-8fa1-84a2ac91a816",
   "metadata": {},
   "source": [
    "### Визуализация информации о расстоянии и времени поездок для пользователей обеих категорий."
   ]
  },
  {
   "cell_type": "markdown",
   "id": "ce69db13-e1d0-4fb7-9c75-d0d299118333",
   "metadata": {},
   "source": [
    "#### График с расстояниями пользователей с подпиской и без"
   ]
  },
  {
   "cell_type": "markdown",
   "id": "7ef5ab67-177a-4de6-b2b9-273c73f165b9",
   "metadata": {},
   "source": [
    "fig, ax = plt.subplots()\n",
    "\n",
    "ax.hist(subscription_off['distance'], bins=50, linewidth=0.5, edgecolor=\"white\", label='free')\n",
    "ax.hist(subscription_on['distance'], bins=50, linewidth=0.5, edgecolor=\"white\", label='ultra', alpha=0.6)\n",
    "\n",
    "\n",
    "ax.grid()\n",
    "ax.set_title('distance')\n",
    "ax.legend()\n",
    "\n",
    "plt.show()"
   ]
  },
  {
   "cell_type": "markdown",
   "id": "e3c8838f-4833-4c49-a258-85fe70d8ec99",
   "metadata": {},
   "source": [
    "<div class=\"alert alert-info\"  style=\"border-radius: 15px; box-shadow: 4px 4px 4px; border: 1px solid \">\n",
    "    \n",
    "<h2>Комментарий студента v_2: <a class=\"tocSkip\"> </h2>\n",
    "\n",
    "Ниже сделал новый график с подписями осей и графика"
   ]
  },
  {
   "cell_type": "code",
   "execution_count": 37,
   "id": "7fef1f24-ef76-4569-97c5-a309e112a1a9",
   "metadata": {},
   "outputs": [
    {
     "data": {
      "image/png": "[encoded data removed]",
      "text/plain": [
       "<Figure size 640x480 with 1 Axes>"
      ]
     },
     "metadata": {},
     "output_type": "display_data"
    }
   ],
   "source": [
    "fig, ax = plt.subplots()\n",
    "\n",
    "ax.hist(subscription_off['distance'], bins=50, linewidth=0.5, edgecolor=\"white\", label='free')\n",
    "ax.hist(subscription_on['distance'], bins=50, linewidth=0.5, edgecolor=\"white\", label='ultra', alpha=0.6)\n",
    "\n",
    "\n",
    "ax.grid()\n",
    "ax.set_title('График с расстояниями пользователей с подпиской и без')\n",
    "ax.set_ylabel('Количество поездок')\n",
    "ax.set_xlabel('Расстояние в метрах')\n",
    "ax.legend()\n",
    "\n",
    "plt.show()"
   ]
  },
  {
   "cell_type": "markdown",
   "id": "959d6515-58bb-4208-bf79-056e98164138",
   "metadata": {},
   "source": [
    "Пользователи с подпиской обозначены ораньжевым цветом, а без подписки - синим. Видно, что пользователей без подписки больше. Среднее значение у них совпадает и лежит на расстоянии в 3000 метров. При этом у пользователей без подписки дисперсия больше за счет количества самих пользователей. \n",
    "\n",
    "Есть разница в коротких поездках. Пользовтели с подпиской в \"короткой\" поездке в среднем проезжают 500 метров, а пользователи с подпиской - 1000 метров."
   ]
  },
  {
   "cell_type": "markdown",
   "id": "2275e96e-5ab1-4ea6-ac74-ceb14200d05a",
   "metadata": {},
   "source": [
    "#### График с длительностью поездки пользователей с подпиской и без"
   ]
  },
  {
   "cell_type": "markdown",
   "id": "5c507431-b211-43f7-ba38-a7b33cbb8843",
   "metadata": {},
   "source": [
    "fig, ax = plt.subplots()\n",
    "\n",
    "ax.hist(subscription_off['duration'], bins=50, linewidth=0.5, edgecolor=\"white\", label='free')\n",
    "ax.hist(subscription_on['duration'], bins=50, linewidth=0.5, edgecolor=\"white\", label='ultra', alpha=0.6)\n",
    "\n",
    "\n",
    "ax.grid()\n",
    "ax.set_title('duration')\n",
    "ax.legend()\n",
    "\n",
    "plt.show()"
   ]
  },
  {
   "cell_type": "markdown",
   "id": "e7b60109-2a06-415b-b092-0afc7345d177",
   "metadata": {},
   "source": [
    "<div class=\"alert alert-info\"  style=\"border-radius: 15px; box-shadow: 4px 4px 4px; border: 1px solid \">\n",
    "    \n",
    "<h2>Комментарий студента v_2: <a class=\"tocSkip\"> </h2>\n",
    "\n",
    "Ниже сделал новый график с подписями осей и графика"
   ]
  },
  {
   "cell_type": "code",
   "execution_count": 38,
   "id": "3a0103a0-a19a-405d-b97b-c07ef3e94cad",
   "metadata": {},
   "outputs": [
    {
     "data": {
      "image/png": "[encoded data removed]",
      "text/plain": [
       "<Figure size 640x480 with 1 Axes>"
      ]
     },
     "metadata": {},
     "output_type": "display_data"
    }
   ],
   "source": [
    "fig, ax = plt.subplots()\n",
    "\n",
    "ax.hist(subscription_off['duration'], bins=50, linewidth=0.5, edgecolor=\"white\", label='free')\n",
    "ax.hist(subscription_on['duration'], bins=50, linewidth=0.5, edgecolor=\"white\", label='ultra', alpha=0.6)\n",
    "\n",
    "\n",
    "ax.grid()\n",
    "ax.set_title('График с длительностью поездки пользователей с подпиской и без')\n",
    "ax.set_ylabel('Количество поездок')\n",
    "ax.set_xlabel('Длительность поездки в минутах')\n",
    "ax.legend()\n",
    "\n",
    "plt.show()"
   ]
  },
  {
   "cell_type": "markdown",
   "id": "59ea20df-3e0a-453a-aca7-31fad8105537",
   "metadata": {},
   "source": [
    "Здесть так же видна превышающая масса пользователей без подписки(синий цвет).\n",
    "\n",
    "Пользователи с подпиской заканчивают аренду раньше 4 минут в отличие от пользователей без подписки, около 100 сессий пользователей без подписки не была дольше 2 минут.\n",
    "\n",
    "Пользователи с подпиской имеют сессии дольше 35 минут, а у пользователей без подписки таких нет. Возможно это обусловлено условиями самого сервиса."
   ]
  },
  {
   "cell_type": "markdown",
   "id": "df17e8ac",
   "metadata": {},
   "source": [
    "<div class=\"alert alert-success\" style=\"border-radius: 15px; box-shadow: 4px 4px 4px; border: 1px solid \">\n",
    "<h2> Комментарий ревьюера v_1: <a class=\"tocSkip\"> </h2>\n",
    "    \n",
    "✅ Здорово, что есть сравнение пользователей из двух групп. Также можно использовать функцию `describe()` на этом шаге для более подробного аналаза."
   ]
  },
  {
   "cell_type": "code",
   "execution_count": 39,
   "id": "4cf805d0-794a-4742-aa6c-37a03ee3cac6",
   "metadata": {},
   "outputs": [
    {
     "data": {
      "text/html": [
       "<div>\n",
       "<style scoped>\n",
       "    .dataframe tbody tr th:only-of-type {\n",
       "        vertical-align: middle;\n",
       "    }\n",
       "\n",
       "    .dataframe tbody tr th {\n",
       "        vertical-align: top;\n",
       "    }\n",
       "\n",
       "    .dataframe thead th {\n",
       "        text-align: right;\n",
       "    }\n",
       "</style>\n",
       "<table border=\"1\" class=\"dataframe\">\n",
       "  <thead>\n",
       "    <tr style=\"text-align: right;\">\n",
       "      <th></th>\n",
       "      <th>user_id</th>\n",
       "      <th>name</th>\n",
       "      <th>age</th>\n",
       "      <th>city</th>\n",
       "      <th>subscription_type</th>\n",
       "      <th>distance</th>\n",
       "      <th>duration</th>\n",
       "      <th>date</th>\n",
       "      <th>month</th>\n",
       "      <th>minute_price</th>\n",
       "      <th>start_ride_price</th>\n",
       "      <th>subscription_fee</th>\n",
       "    </tr>\n",
       "  </thead>\n",
       "  <tbody>\n",
       "  </tbody>\n",
       "</table>\n",
       "</div>"
      ],
      "text/plain": [
       "Empty DataFrame\n",
       "Columns: [user_id, name, age, city, subscription_type, distance, duration, date, month, minute_price, start_ride_price, subscription_fee]\n",
       "Index: []"
      ]
     },
     "execution_count": 39,
     "metadata": {},
     "output_type": "execute_result"
    }
   ],
   "source": [
    "subscription_off[subscription_off['duration'] > 35]"
   ]
  },
  {
   "cell_type": "markdown",
   "id": "402d620f",
   "metadata": {},
   "source": [
    "## Шаг 5. Подсчёт выручки"
   ]
  },
  {
   "cell_type": "markdown",
   "id": "1af3911f-1bfc-4104-be38-0a2911b1661a",
   "metadata": {},
   "source": [
    "### Датафрейм с агрегированными данными о поездках на основе датафрейма с объединёнными данными из шага 4. Поиск суммарного расстояния, количества поездок и суммарного времени для каждого пользователя за каждый месяц."
   ]
  },
  {
   "cell_type": "markdown",
   "id": "54e36093-872b-4fd0-a491-fc9b10830388",
   "metadata": {},
   "source": [
    "users_total = (pd.concat([subscription_on.\n",
    "                          pivot_table(index=('user_id', 'month'), \n",
    "                                      values=('duration', 'distance'), \n",
    "                                      aggfunc='sum').\n",
    "                          merge(subscription_on.\n",
    "                                pivot_table(index=('user_id', 'month'), \n",
    "                                      values='name', \n",
    "                                      aggfunc='count'), on=['user_id','month'], how='outer'),\n",
    "                          subscription_off.\n",
    "                          pivot_table(index=('user_id', 'month'), \n",
    "                                      values=('duration', 'distance'), \n",
    "                                      aggfunc='sum').\n",
    "                                merge(subscription_off.pivot_table(index=('user_id', 'month'), \n",
    "                                      values='name', \n",
    "                                      aggfunc='count'), on=['user_id','month'], how='outer')])\n",
    "              )"
   ]
  },
  {
   "cell_type": "markdown",
   "id": "04a8f20d-d0e1-4208-8299-eba9a5d924d6",
   "metadata": {},
   "source": [
    "users_total = users_total.rename(columns={'name':'count',}).reset_index()\n",
    "users_total['duration'] = np.ceil(users_total['duration']).astype('int')"
   ]
  },
  {
   "cell_type": "markdown",
   "id": "ade13bdc",
   "metadata": {},
   "source": [
    "<div class=\"alert alert-block alert-danger\" style=\"border-radius: 15px; box-shadow: 4px 4px 4px; border: 1px solid \">\n",
    "<h2> Комментарий ревьюера v_1: <a class=\"tocSkip\"></h2>\n",
    "    \n",
    "❌ Округлять до следующего целого необходимо до создания таблицы с агрегированными данными. В задании написано: \"Продолжительность каждой поездки в каждой строке исходного датафрейма для подсчёта стоимости округляется до следующего целого числа\". Именно исходного, а не только что созданного. Округлять продолжительность каждой поездки, а не результат суммирования."
   ]
  },
  {
   "cell_type": "markdown",
   "id": "321f9cf6-7251-4a50-9273-05ac8b70fd13",
   "metadata": {},
   "source": [
    "general['duration'] = np.ceil(general['duration']).astype('int')"
   ]
  },
  {
   "cell_type": "markdown",
   "id": "059ce24a-9827-4970-968b-97054d659c12",
   "metadata": {},
   "source": [
    "users_total = (pd.concat([subscription_on.\n",
    "                          pivot_table(index=('user_id', 'month'), \n",
    "                                      values=('duration', 'distance'), \n",
    "                                      aggfunc='sum').\n",
    "                          merge(subscription_on.\n",
    "                                pivot_table(index=('user_id', 'month'), \n",
    "                                      values='name', \n",
    "                                      aggfunc='count'), on=['user_id','month'], how='outer'),\n",
    "                          subscription_off.\n",
    "                          pivot_table(index=('user_id', 'month'), \n",
    "                                      values=('duration', 'distance'), \n",
    "                                      aggfunc='sum').\n",
    "                                merge(subscription_off.pivot_table(index=('user_id', 'month'), \n",
    "                                      values='name', \n",
    "                                      aggfunc='count'), on=['user_id','month'], how='outer')])\n",
    "              )\n",
    "\n",
    "users_total = users_total.rename(columns={'name':'count',}).reset_index()"
   ]
  },
  {
   "cell_type": "markdown",
   "id": "d3d236e5-0c20-4e5e-8ccc-2619fe8e37e7",
   "metadata": {
    "jp-MarkdownHeadingCollapsed": true
   },
   "source": [
    "<div class=\"alert alert-info\"  style=\"border-radius: 15px; box-shadow: 4px 4px 4px; border: 1px solid \">\n",
    "    \n",
    "<h2>Комментарий студента v_1: <a class=\"tocSkip\"> </h2>\n",
    "\n",
    "Учел коментарий. Ячейки со старым кодом по созданию таблицы перевел в `Markdown`. Новый код написал выше. Сначала в исходной собранной таблице округлил каждое значение длительности и после начал создание агрегированной таблицы. "
   ]
  },
  {
   "cell_type": "markdown",
   "id": "d3753800",
   "metadata": {},
   "source": [
    "<div class=\"alert alert-block alert-danger\" style=\"border-radius: 15px; box-shadow: 4px 4px 4px; border: 1px solid \">\n",
    "<h2> Комментарий ревьюера v_2: <a class=\"tocSkip\"></h2>\n",
    "    \n",
    "❌ Но округление не затронуло сводную таблицу"
   ]
  },
  {
   "cell_type": "markdown",
   "id": "0e95fc32-236e-4d98-adef-379945b8d7e7",
   "metadata": {},
   "source": [
    "<div class=\"alert alert-info\"  style=\"border-radius: 15px; box-shadow: 4px 4px 4px; border: 1px solid \">\n",
    "    \n",
    "<h2>Комментарий студента v_2: <a class=\"tocSkip\"> </h2>\n",
    "\n",
    "Исправил ниже. Старый код перевел в `Markdown`"
   ]
  },
  {
   "cell_type": "code",
   "execution_count": 40,
   "id": "46d8ac6e-2f0b-4a9a-a1e1-c7e87f94b0fd",
   "metadata": {},
   "outputs": [],
   "source": [
    "subscription_on.loc[:,'duration'] = np.ceil(subscription_on.loc[:,'duration']).astype('int')\n",
    "subscription_off.loc[:,'duration'] = np.ceil(subscription_off.loc[:,'duration']).astype('int')"
   ]
  },
  {
   "cell_type": "code",
   "execution_count": 41,
   "id": "85f7e02d-d4f3-488e-8d9d-4bc49d296cd5",
   "metadata": {},
   "outputs": [],
   "source": [
    "users_total = (pd.concat([subscription_on.\n",
    "                          pivot_table(index=('user_id', 'month'), \n",
    "                                      values=('duration', 'distance'), \n",
    "                                      aggfunc='sum').\n",
    "                          merge(subscription_on.\n",
    "                                pivot_table(index=('user_id', 'month'), \n",
    "                                      values='name', \n",
    "                                      aggfunc='count'), on=['user_id','month'], how='outer'),\n",
    "                          subscription_off.\n",
    "                          pivot_table(index=('user_id', 'month'), \n",
    "                                      values=('duration', 'distance'), \n",
    "                                      aggfunc='sum').\n",
    "                                merge(subscription_off.pivot_table(index=('user_id', 'month'), \n",
    "                                      values='name', \n",
    "                                      aggfunc='count'), on=['user_id','month'], how='outer')])\n",
    "              )\n",
    "\n",
    "users_total = users_total.rename(columns={'name':'count',}).reset_index()"
   ]
  },
  {
   "cell_type": "code",
   "execution_count": 42,
   "id": "57c6a07d-3f7d-4fe6-8431-9362ebf50695",
   "metadata": {},
   "outputs": [
    {
     "data": {
      "text/html": [
       "<div>\n",
       "<style scoped>\n",
       "    .dataframe tbody tr th:only-of-type {\n",
       "        vertical-align: middle;\n",
       "    }\n",
       "\n",
       "    .dataframe tbody tr th {\n",
       "        vertical-align: top;\n",
       "    }\n",
       "\n",
       "    .dataframe thead th {\n",
       "        text-align: right;\n",
       "    }\n",
       "</style>\n",
       "<table border=\"1\" class=\"dataframe\">\n",
       "  <thead>\n",
       "    <tr style=\"text-align: right;\">\n",
       "      <th></th>\n",
       "      <th>user_id</th>\n",
       "      <th>month</th>\n",
       "      <th>distance</th>\n",
       "      <th>duration</th>\n",
       "      <th>count</th>\n",
       "    </tr>\n",
       "  </thead>\n",
       "  <tbody>\n",
       "    <tr>\n",
       "      <th>0</th>\n",
       "      <td>1</td>\n",
       "      <td>1</td>\n",
       "      <td>7027.511294</td>\n",
       "      <td>42</td>\n",
       "      <td>2</td>\n",
       "    </tr>\n",
       "    <tr>\n",
       "      <th>1</th>\n",
       "      <td>1</td>\n",
       "      <td>4</td>\n",
       "      <td>754.159807</td>\n",
       "      <td>7</td>\n",
       "      <td>1</td>\n",
       "    </tr>\n",
       "    <tr>\n",
       "      <th>2</th>\n",
       "      <td>1</td>\n",
       "      <td>8</td>\n",
       "      <td>6723.470560</td>\n",
       "      <td>46</td>\n",
       "      <td>2</td>\n",
       "    </tr>\n",
       "    <tr>\n",
       "      <th>3</th>\n",
       "      <td>1</td>\n",
       "      <td>10</td>\n",
       "      <td>5809.911100</td>\n",
       "      <td>32</td>\n",
       "      <td>2</td>\n",
       "    </tr>\n",
       "    <tr>\n",
       "      <th>4</th>\n",
       "      <td>1</td>\n",
       "      <td>11</td>\n",
       "      <td>7003.499363</td>\n",
       "      <td>56</td>\n",
       "      <td>3</td>\n",
       "    </tr>\n",
       "    <tr>\n",
       "      <th>5</th>\n",
       "      <td>1</td>\n",
       "      <td>12</td>\n",
       "      <td>6751.629942</td>\n",
       "      <td>28</td>\n",
       "      <td>2</td>\n",
       "    </tr>\n",
       "    <tr>\n",
       "      <th>6</th>\n",
       "      <td>2</td>\n",
       "      <td>3</td>\n",
       "      <td>10187.723006</td>\n",
       "      <td>63</td>\n",
       "      <td>3</td>\n",
       "    </tr>\n",
       "    <tr>\n",
       "      <th>7</th>\n",
       "      <td>2</td>\n",
       "      <td>4</td>\n",
       "      <td>6164.381824</td>\n",
       "      <td>40</td>\n",
       "      <td>2</td>\n",
       "    </tr>\n",
       "    <tr>\n",
       "      <th>8</th>\n",
       "      <td>2</td>\n",
       "      <td>6</td>\n",
       "      <td>3255.338202</td>\n",
       "      <td>14</td>\n",
       "      <td>1</td>\n",
       "    </tr>\n",
       "    <tr>\n",
       "      <th>9</th>\n",
       "      <td>2</td>\n",
       "      <td>7</td>\n",
       "      <td>6780.722964</td>\n",
       "      <td>48</td>\n",
       "      <td>2</td>\n",
       "    </tr>\n",
       "  </tbody>\n",
       "</table>\n",
       "</div>"
      ],
      "text/plain": [
       "   user_id  month      distance  duration  count\n",
       "0        1      1   7027.511294        42      2\n",
       "1        1      4    754.159807         7      1\n",
       "2        1      8   6723.470560        46      2\n",
       "3        1     10   5809.911100        32      2\n",
       "4        1     11   7003.499363        56      3\n",
       "5        1     12   6751.629942        28      2\n",
       "6        2      3  10187.723006        63      3\n",
       "7        2      4   6164.381824        40      2\n",
       "8        2      6   3255.338202        14      1\n",
       "9        2      7   6780.722964        48      2"
      ]
     },
     "execution_count": 42,
     "metadata": {},
     "output_type": "execute_result"
    }
   ],
   "source": [
    "users_total.head(10) "
   ]
  },
  {
   "cell_type": "code",
   "execution_count": 43,
   "id": "1010d18b-b970-4f22-829c-3914d384a565",
   "metadata": {},
   "outputs": [
    {
     "data": {
      "text/html": [
       "<div>\n",
       "<style scoped>\n",
       "    .dataframe tbody tr th:only-of-type {\n",
       "        vertical-align: middle;\n",
       "    }\n",
       "\n",
       "    .dataframe tbody tr th {\n",
       "        vertical-align: top;\n",
       "    }\n",
       "\n",
       "    .dataframe thead th {\n",
       "        text-align: right;\n",
       "    }\n",
       "</style>\n",
       "<table border=\"1\" class=\"dataframe\">\n",
       "  <thead>\n",
       "    <tr style=\"text-align: right;\">\n",
       "      <th></th>\n",
       "      <th>user_id</th>\n",
       "      <th>name</th>\n",
       "      <th>age</th>\n",
       "      <th>city</th>\n",
       "      <th>subscription_type</th>\n",
       "      <th>month</th>\n",
       "      <th>distance</th>\n",
       "      <th>duration</th>\n",
       "      <th>count</th>\n",
       "      <th>minute_price</th>\n",
       "      <th>start_ride_price</th>\n",
       "      <th>subscription_fee</th>\n",
       "    </tr>\n",
       "  </thead>\n",
       "  <tbody>\n",
       "    <tr>\n",
       "      <th>0</th>\n",
       "      <td>1</td>\n",
       "      <td>Кира</td>\n",
       "      <td>22</td>\n",
       "      <td>Тюмень</td>\n",
       "      <td>ultra</td>\n",
       "      <td>1</td>\n",
       "      <td>7027.511294</td>\n",
       "      <td>42</td>\n",
       "      <td>2</td>\n",
       "      <td>6</td>\n",
       "      <td>0</td>\n",
       "      <td>199</td>\n",
       "    </tr>\n",
       "    <tr>\n",
       "      <th>1</th>\n",
       "      <td>1</td>\n",
       "      <td>Кира</td>\n",
       "      <td>22</td>\n",
       "      <td>Тюмень</td>\n",
       "      <td>ultra</td>\n",
       "      <td>4</td>\n",
       "      <td>754.159807</td>\n",
       "      <td>7</td>\n",
       "      <td>1</td>\n",
       "      <td>6</td>\n",
       "      <td>0</td>\n",
       "      <td>199</td>\n",
       "    </tr>\n",
       "    <tr>\n",
       "      <th>2</th>\n",
       "      <td>1</td>\n",
       "      <td>Кира</td>\n",
       "      <td>22</td>\n",
       "      <td>Тюмень</td>\n",
       "      <td>ultra</td>\n",
       "      <td>8</td>\n",
       "      <td>6723.470560</td>\n",
       "      <td>46</td>\n",
       "      <td>2</td>\n",
       "      <td>6</td>\n",
       "      <td>0</td>\n",
       "      <td>199</td>\n",
       "    </tr>\n",
       "    <tr>\n",
       "      <th>3</th>\n",
       "      <td>1</td>\n",
       "      <td>Кира</td>\n",
       "      <td>22</td>\n",
       "      <td>Тюмень</td>\n",
       "      <td>ultra</td>\n",
       "      <td>10</td>\n",
       "      <td>5809.911100</td>\n",
       "      <td>32</td>\n",
       "      <td>2</td>\n",
       "      <td>6</td>\n",
       "      <td>0</td>\n",
       "      <td>199</td>\n",
       "    </tr>\n",
       "    <tr>\n",
       "      <th>4</th>\n",
       "      <td>1</td>\n",
       "      <td>Кира</td>\n",
       "      <td>22</td>\n",
       "      <td>Тюмень</td>\n",
       "      <td>ultra</td>\n",
       "      <td>11</td>\n",
       "      <td>7003.499363</td>\n",
       "      <td>56</td>\n",
       "      <td>3</td>\n",
       "      <td>6</td>\n",
       "      <td>0</td>\n",
       "      <td>199</td>\n",
       "    </tr>\n",
       "    <tr>\n",
       "      <th>...</th>\n",
       "      <td>...</td>\n",
       "      <td>...</td>\n",
       "      <td>...</td>\n",
       "      <td>...</td>\n",
       "      <td>...</td>\n",
       "      <td>...</td>\n",
       "      <td>...</td>\n",
       "      <td>...</td>\n",
       "      <td>...</td>\n",
       "      <td>...</td>\n",
       "      <td>...</td>\n",
       "      <td>...</td>\n",
       "    </tr>\n",
       "    <tr>\n",
       "      <th>11326</th>\n",
       "      <td>1534</td>\n",
       "      <td>Альберт</td>\n",
       "      <td>25</td>\n",
       "      <td>Краснодар</td>\n",
       "      <td>free</td>\n",
       "      <td>6</td>\n",
       "      <td>3409.468534</td>\n",
       "      <td>26</td>\n",
       "      <td>2</td>\n",
       "      <td>8</td>\n",
       "      <td>50</td>\n",
       "      <td>0</td>\n",
       "    </tr>\n",
       "    <tr>\n",
       "      <th>11327</th>\n",
       "      <td>1534</td>\n",
       "      <td>Альберт</td>\n",
       "      <td>25</td>\n",
       "      <td>Краснодар</td>\n",
       "      <td>free</td>\n",
       "      <td>8</td>\n",
       "      <td>7622.453034</td>\n",
       "      <td>48</td>\n",
       "      <td>2</td>\n",
       "      <td>8</td>\n",
       "      <td>50</td>\n",
       "      <td>0</td>\n",
       "    </tr>\n",
       "    <tr>\n",
       "      <th>11328</th>\n",
       "      <td>1534</td>\n",
       "      <td>Альберт</td>\n",
       "      <td>25</td>\n",
       "      <td>Краснодар</td>\n",
       "      <td>free</td>\n",
       "      <td>9</td>\n",
       "      <td>4928.173852</td>\n",
       "      <td>23</td>\n",
       "      <td>1</td>\n",
       "      <td>8</td>\n",
       "      <td>50</td>\n",
       "      <td>0</td>\n",
       "    </tr>\n",
       "    <tr>\n",
       "      <th>11329</th>\n",
       "      <td>1534</td>\n",
       "      <td>Альберт</td>\n",
       "      <td>25</td>\n",
       "      <td>Краснодар</td>\n",
       "      <td>free</td>\n",
       "      <td>11</td>\n",
       "      <td>13350.015305</td>\n",
       "      <td>78</td>\n",
       "      <td>4</td>\n",
       "      <td>8</td>\n",
       "      <td>50</td>\n",
       "      <td>0</td>\n",
       "    </tr>\n",
       "    <tr>\n",
       "      <th>11330</th>\n",
       "      <td>1534</td>\n",
       "      <td>Альберт</td>\n",
       "      <td>25</td>\n",
       "      <td>Краснодар</td>\n",
       "      <td>free</td>\n",
       "      <td>12</td>\n",
       "      <td>2371.711192</td>\n",
       "      <td>16</td>\n",
       "      <td>1</td>\n",
       "      <td>8</td>\n",
       "      <td>50</td>\n",
       "      <td>0</td>\n",
       "    </tr>\n",
       "  </tbody>\n",
       "</table>\n",
       "<p>11331 rows × 12 columns</p>\n",
       "</div>"
      ],
      "text/plain": [
       "       user_id     name  age       city subscription_type  month  \\\n",
       "0            1     Кира   22     Тюмень             ultra      1   \n",
       "1            1     Кира   22     Тюмень             ultra      4   \n",
       "2            1     Кира   22     Тюмень             ultra      8   \n",
       "3            1     Кира   22     Тюмень             ultra     10   \n",
       "4            1     Кира   22     Тюмень             ultra     11   \n",
       "...        ...      ...  ...        ...               ...    ...   \n",
       "11326     1534  Альберт   25  Краснодар              free      6   \n",
       "11327     1534  Альберт   25  Краснодар              free      8   \n",
       "11328     1534  Альберт   25  Краснодар              free      9   \n",
       "11329     1534  Альберт   25  Краснодар              free     11   \n",
       "11330     1534  Альберт   25  Краснодар              free     12   \n",
       "\n",
       "           distance  duration  count  minute_price  start_ride_price  \\\n",
       "0       7027.511294        42      2             6                 0   \n",
       "1        754.159807         7      1             6                 0   \n",
       "2       6723.470560        46      2             6                 0   \n",
       "3       5809.911100        32      2             6                 0   \n",
       "4       7003.499363        56      3             6                 0   \n",
       "...             ...       ...    ...           ...               ...   \n",
       "11326   3409.468534        26      2             8                50   \n",
       "11327   7622.453034        48      2             8                50   \n",
       "11328   4928.173852        23      1             8                50   \n",
       "11329  13350.015305        78      4             8                50   \n",
       "11330   2371.711192        16      1             8                50   \n",
       "\n",
       "       subscription_fee  \n",
       "0                   199  \n",
       "1                   199  \n",
       "2                   199  \n",
       "3                   199  \n",
       "4                   199  \n",
       "...                 ...  \n",
       "11326                 0  \n",
       "11327                 0  \n",
       "11328                 0  \n",
       "11329                 0  \n",
       "11330                 0  \n",
       "\n",
       "[11331 rows x 12 columns]"
      ]
     },
     "execution_count": 43,
     "metadata": {},
     "output_type": "execute_result"
    }
   ],
   "source": [
    "users_total = users.merge(users_total, on='user_id', how='left')\n",
    "users_total = users_total.merge(subscriptions, on='subscription_type', how='outer')\n",
    "users_total"
   ]
  },
  {
   "cell_type": "markdown",
   "id": "1c996d81-db32-4811-8a0e-2d9a961a68a0",
   "metadata": {},
   "source": [
    "### Добавление столбца с помесячной выручкой, которую принёс каждый пользователь."
   ]
  },
  {
   "cell_type": "markdown",
   "id": "85423841-537b-4101-a6ea-b63ee6961f47",
   "metadata": {},
   "source": [
    "Столбец будет назван `revenue` - выручка."
   ]
  },
  {
   "cell_type": "code",
   "execution_count": 44,
   "id": "53049e0a",
   "metadata": {},
   "outputs": [],
   "source": [
    "users_total['revenue'] = (users_total['subscription_fee']\n",
    "                          + (users_total['start_ride_price'] * 2)\n",
    "                          + (users_total['minute_price'] * users_total['duration'])\n",
    "                         )"
   ]
  },
  {
   "cell_type": "markdown",
   "id": "5b7c7d58",
   "metadata": {},
   "source": [
    "<div class=\"alert alert-block alert-danger\" style=\"border-radius: 15px; box-shadow: 4px 4px 4px; border: 1px solid \">\n",
    "<h2> Комментарий ревьюера v_1: <a class=\"tocSkip\"></h2>\n",
    "    \n",
    "❌ Выручка рассчитана неверно. Кое-что в формуле выше неправильно. В подсказке написано: \"стоимость старта поездки × количество поездок + стоимость одной минуты поездки × общая продолжительность всех поездок в минутах + стоимость подписки\""
   ]
  },
  {
   "cell_type": "code",
   "execution_count": 45,
   "id": "0f60b80d-37f0-4598-bef8-f070557f359d",
   "metadata": {},
   "outputs": [],
   "source": [
    "users_total['revenue'] = ((users_total['start_ride_price'] * users_total['count'])\n",
    "                          + (users_total['minute_price'] * users_total['duration'])\n",
    "                          + users_total['subscription_fee']\n",
    "                         )"
   ]
  },
  {
   "cell_type": "markdown",
   "id": "7d6f2637-63b3-474d-ae4f-8816d93f73e3",
   "metadata": {},
   "source": [
    "<div class=\"alert alert-info\"  style=\"border-radius: 15px; box-shadow: 4px 4px 4px; border: 1px solid \">\n",
    "    \n",
    "<h2>Комментарий студента v_1: <a class=\"tocSkip\"> </h2>\n",
    "\n",
    "Изменил формулу расчета. Ячейку со старым кодом перевел в `Markdown`."
   ]
  },
  {
   "cell_type": "code",
   "execution_count": 46,
   "id": "37ec0fe9-11a3-4c12-9d89-de139ef37a88",
   "metadata": {
    "scrolled": true
   },
   "outputs": [
    {
     "data": {
      "text/html": [
       "<div>\n",
       "<style scoped>\n",
       "    .dataframe tbody tr th:only-of-type {\n",
       "        vertical-align: middle;\n",
       "    }\n",
       "\n",
       "    .dataframe tbody tr th {\n",
       "        vertical-align: top;\n",
       "    }\n",
       "\n",
       "    .dataframe thead th {\n",
       "        text-align: right;\n",
       "    }\n",
       "</style>\n",
       "<table border=\"1\" class=\"dataframe\">\n",
       "  <thead>\n",
       "    <tr style=\"text-align: right;\">\n",
       "      <th></th>\n",
       "      <th>user_id</th>\n",
       "      <th>name</th>\n",
       "      <th>age</th>\n",
       "      <th>city</th>\n",
       "      <th>subscription_type</th>\n",
       "      <th>month</th>\n",
       "      <th>distance</th>\n",
       "      <th>duration</th>\n",
       "      <th>count</th>\n",
       "      <th>minute_price</th>\n",
       "      <th>start_ride_price</th>\n",
       "      <th>subscription_fee</th>\n",
       "      <th>revenue</th>\n",
       "    </tr>\n",
       "  </thead>\n",
       "  <tbody>\n",
       "    <tr>\n",
       "      <th>6629</th>\n",
       "      <td>963</td>\n",
       "      <td>Виталий</td>\n",
       "      <td>29</td>\n",
       "      <td>Екатеринбург</td>\n",
       "      <td>free</td>\n",
       "      <td>8</td>\n",
       "      <td>3706.675802</td>\n",
       "      <td>23</td>\n",
       "      <td>1</td>\n",
       "      <td>8</td>\n",
       "      <td>50</td>\n",
       "      <td>0</td>\n",
       "      <td>234</td>\n",
       "    </tr>\n",
       "    <tr>\n",
       "      <th>9401</th>\n",
       "      <td>1298</td>\n",
       "      <td>Наталья</td>\n",
       "      <td>20</td>\n",
       "      <td>Москва</td>\n",
       "      <td>free</td>\n",
       "      <td>10</td>\n",
       "      <td>2225.098364</td>\n",
       "      <td>19</td>\n",
       "      <td>1</td>\n",
       "      <td>8</td>\n",
       "      <td>50</td>\n",
       "      <td>0</td>\n",
       "      <td>202</td>\n",
       "    </tr>\n",
       "    <tr>\n",
       "      <th>4550</th>\n",
       "      <td>701</td>\n",
       "      <td>Иван</td>\n",
       "      <td>31</td>\n",
       "      <td>Екатеринбург</td>\n",
       "      <td>free</td>\n",
       "      <td>9</td>\n",
       "      <td>8659.573699</td>\n",
       "      <td>33</td>\n",
       "      <td>2</td>\n",
       "      <td>8</td>\n",
       "      <td>50</td>\n",
       "      <td>0</td>\n",
       "      <td>364</td>\n",
       "    </tr>\n",
       "    <tr>\n",
       "      <th>3204</th>\n",
       "      <td>493</td>\n",
       "      <td>Каролина</td>\n",
       "      <td>26</td>\n",
       "      <td>Тюмень</td>\n",
       "      <td>ultra</td>\n",
       "      <td>4</td>\n",
       "      <td>9781.013911</td>\n",
       "      <td>52</td>\n",
       "      <td>3</td>\n",
       "      <td>6</td>\n",
       "      <td>0</td>\n",
       "      <td>199</td>\n",
       "      <td>511</td>\n",
       "    </tr>\n",
       "    <tr>\n",
       "      <th>5745</th>\n",
       "      <td>853</td>\n",
       "      <td>Денис</td>\n",
       "      <td>21</td>\n",
       "      <td>Москва</td>\n",
       "      <td>free</td>\n",
       "      <td>3</td>\n",
       "      <td>3675.976291</td>\n",
       "      <td>18</td>\n",
       "      <td>1</td>\n",
       "      <td>8</td>\n",
       "      <td>50</td>\n",
       "      <td>0</td>\n",
       "      <td>194</td>\n",
       "    </tr>\n",
       "  </tbody>\n",
       "</table>\n",
       "</div>"
      ],
      "text/plain": [
       "      user_id      name  age          city subscription_type  month  \\\n",
       "6629      963   Виталий   29  Екатеринбург              free      8   \n",
       "9401     1298   Наталья   20        Москва              free     10   \n",
       "4550      701      Иван   31  Екатеринбург              free      9   \n",
       "3204      493  Каролина   26        Тюмень             ultra      4   \n",
       "5745      853     Денис   21        Москва              free      3   \n",
       "\n",
       "         distance  duration  count  minute_price  start_ride_price  \\\n",
       "6629  3706.675802        23      1             8                50   \n",
       "9401  2225.098364        19      1             8                50   \n",
       "4550  8659.573699        33      2             8                50   \n",
       "3204  9781.013911        52      3             6                 0   \n",
       "5745  3675.976291        18      1             8                50   \n",
       "\n",
       "      subscription_fee  revenue  \n",
       "6629                 0      234  \n",
       "9401                 0      202  \n",
       "4550                 0      364  \n",
       "3204               199      511  \n",
       "5745                 0      194  "
      ]
     },
     "execution_count": 46,
     "metadata": {},
     "output_type": "execute_result"
    }
   ],
   "source": [
    "users_total.sample(5)"
   ]
  },
  {
   "cell_type": "markdown",
   "id": "41545ac0",
   "metadata": {},
   "source": [
    "## Шаг 6. Проверка гипотез"
   ]
  },
  {
   "cell_type": "markdown",
   "id": "2974a98d-00aa-43a5-97aa-fda73214ad5a",
   "metadata": {},
   "source": [
    "### Тратят ли пользователи с подпиской больше времени на поездки?"
   ]
  },
  {
   "cell_type": "markdown",
   "id": "597cbf67-6085-49ac-8720-aa72bc71c57a",
   "metadata": {},
   "source": [
    "Формулировка нулевой(H0) и альтернативной(H1) гипотезы.\n",
    "\n",
    "H0: Общая продолжительность поездок пользователей с подпиской равно общей продолжительности поездок пользователей без подписки\n",
    "\n",
    "H1: Общая продолжительность поездок пользователей с подпиской больше общей продолжительности поездок пользователей без подписки"
   ]
  },
  {
   "cell_type": "markdown",
   "id": "1e1de1fc",
   "metadata": {},
   "source": [
    "<div class=\"alert alert-warning\" style=\"border-radius: 15px; box-shadow: 4px 4px 4px; border: 1px solid \">\n",
    "<h2> Комментарий ревьюера v_1: <a class=\"tocSkip\"> </h2>\n",
    "    \n",
    "⚠️ Какой именно параметр сравнивается? Среднее, дисперсия или еще что-нибудь? Стоит дописать в формулировки гипотез. Ниже также лучше дополнить гипотезы."
   ]
  },
  {
   "cell_type": "markdown",
   "id": "82485c6c-cf63-4b7b-a1d0-0195aaeef0d7",
   "metadata": {},
   "source": [
    "Здесь происходит сравнение средних значений генеральных совокупностей. Пользователей с подпиской и пользователей без подписки.\n",
    "\n",
    "Формулировка нулевой(H0) и альтернативной(H1) гипотезы.\n",
    "\n",
    "H0: Средние значения продолжительности поездок пользователей с подпиской и без равны \n",
    "\n",
    "H1: Среднее значение продолжительности поездок пользователей с подпиской больше среднего значения продолжительности поездок пользователей без подписки.\n",
    "\n",
    "Если нулевая гипотеза не будет отвергнута, то можно сказать следующее: нельзя утверждать, что пользователи с подпиской тратя больше времени на поездки.\n",
    "Если нулевая гипотеза будет отвергнута, то можно утверждать, что пользователи с подпиской тратят больше времени на поездки"
   ]
  },
  {
   "cell_type": "markdown",
   "id": "93d2e280-4359-43b1-a967-7e207a5df4c1",
   "metadata": {},
   "source": [
    "<div class=\"alert alert-info\"  style=\"border-radius: 15px; box-shadow: 4px 4px 4px; border: 1px solid \">\n",
    "    \n",
    "<h2>Комментарий студента v_1: <a class=\"tocSkip\"> </h2>\n",
    "\n",
    "Выше сформулировал гипотезы и описание к ним более точно."
   ]
  },
  {
   "cell_type": "markdown",
   "id": "8043be30",
   "metadata": {},
   "source": [
    "<div class=\"alert alert-success\" style=\"border-radius: 15px; box-shadow: 4px 4px 4px; border: 1px solid \">\n",
    "<h2> Комментарий ревьюера v_2: <a class=\"tocSkip\"> </h2>\n",
    "    \n",
    "✅ Принято"
   ]
  },
  {
   "cell_type": "markdown",
   "id": "546c43dc-fe90-49bd-b77a-fb4fa93ee18e",
   "metadata": {},
   "source": [
    "alpha = 0.05\n",
    "\n",
    "results = st.ttest_ind(subscription_off['duration'], subscription_on['duration'], alternative='greater')\n",
    "print('p-значение:', results.pvalue)\n",
    "\n",
    "if results.pvalue < alpha:\n",
    "    print('Отвергаем нулевую гипотезу')\n",
    "else:\n",
    "    print('Не получилось отвергнуть нулевую гипотезу') "
   ]
  },
  {
   "cell_type": "markdown",
   "id": "4a4f2e61",
   "metadata": {},
   "source": [
    "<div class=\"alert alert-block alert-danger\" style=\"border-radius: 15px; box-shadow: 4px 4px 4px; border: 1px solid \">\n",
    "<h2> Комментарий ревьюера v_1: <a class=\"tocSkip\"></h2>\n",
    "    \n",
    "❌ Но порядок выборок в тесте должен быть, как в альтернативной гипотезе. Сначала в гипотезе указано free или ultra?"
   ]
  },
  {
   "cell_type": "markdown",
   "id": "1754b2c4",
   "metadata": {},
   "source": [
    "<div class=\"alert alert-success\" style=\"border-radius: 15px; box-shadow: 4px 4px 4px; border: 1px solid \">\n",
    "<h2> Комментарий ревьюера v_2: <a class=\"tocSkip\"> </h2>\n",
    "    \n",
    "✅ Верно"
   ]
  },
  {
   "cell_type": "code",
   "execution_count": 47,
   "id": "7ffd6b5b-73f4-4ae0-a39b-1a055a4560bf",
   "metadata": {},
   "outputs": [
    {
     "name": "stdout",
     "output_type": "stream",
     "text": [
      "p-значение: 2.4959453720736625e-34\n",
      "Отвергаем нулевую гипотезу\n"
     ]
    }
   ],
   "source": [
    "alpha = 0.05\n",
    "\n",
    "results = st.ttest_ind(\n",
    "    subscription_on['duration'], \n",
    "    subscription_off['duration'], \n",
    "    alternative='greater')\n",
    "print('p-значение:', results.pvalue)\n",
    "\n",
    "if results.pvalue < alpha:\n",
    "    print('Отвергаем нулевую гипотезу')\n",
    "else:\n",
    "    print('Не получилось отвергнуть нулевую гипотезу') "
   ]
  },
  {
   "cell_type": "markdown",
   "id": "14a3721d-fec0-45fc-94e0-321f3776eb2b",
   "metadata": {},
   "source": [
    "Ответ:\n",
    "\n",
    "Полученное значение p-value меньше заданного уровня значимости, поэтому можно отвергнуть нулевую гипотезу о том, что средние значения продолжительности поездок пользователей с подпиской и без равны. Есть основания говорить, что пользователи с подпиской тратят больше времени на поездки, чем пользовтели без подписки."
   ]
  },
  {
   "cell_type": "markdown",
   "id": "086daea2-0f94-451d-b570-d95c4ef93a3c",
   "metadata": {},
   "source": [
    "<div class=\"alert alert-info\"  style=\"border-radius: 15px; box-shadow: 4px 4px 4px; border: 1px solid \">\n",
    "    \n",
    "<h2>Комментарий студента v_1: <a class=\"tocSkip\"> </h2>\n",
    "\n",
    "Выше изменил формулу расчета. Ячейку со старым кодом перевел в `Markdown`. Написал новый ответ."
   ]
  },
  {
   "cell_type": "markdown",
   "id": "66fbe989-755f-43c1-a0b1-b6d67cec11dc",
   "metadata": {},
   "source": [
    "В результате проверки выявлено, что нулевую гипотезу нельзя отвергать с вероятностью 100%, что значит:\n",
    "\n",
    "Общая продолжительность поездок пользователей с подпиской равно общей продолжительности поездок пользователей без подписки\n",
    "\n",
    "Пользователи с подпиской тратят столько же времени на поездки, сколько тратят пользователи без подписки."
   ]
  },
  {
   "cell_type": "markdown",
   "id": "4da71d1f",
   "metadata": {},
   "source": [
    "<div class=\"alert alert-warning\" style=\"border-radius: 15px; box-shadow: 4px 4px 4px; border: 1px solid \">\n",
    "<h2> Комментарий ревьюера v_1: <a class=\"tocSkip\"> </h2>\n",
    "    \n",
    "⚠️ Лучше написать так: \"Нулевая гипотеза (о чем?) отвергнута, есть основания утверждать, что...\""
   ]
  },
  {
   "cell_type": "markdown",
   "id": "2bb24aa0-74bb-40ba-8b3e-9ea6d7809c5d",
   "metadata": {},
   "source": [
    "### Можно ли сказать, что среднее расстояние, которое проезжают пользователи с подпиской за одну поездку, не превышает 3130 метров? "
   ]
  },
  {
   "cell_type": "markdown",
   "id": "0d9892a8-a987-4a7d-b043-9a91477df2aa",
   "metadata": {},
   "source": [
    "Формулировка нулевой(H0) и альтернативной(H1) гипотезы.\n",
    "\n",
    "H0: Среднее растояние, которое проезжают пользователи с подпиской за одну поездку равно 3130 метров\n",
    "\n",
    "H1: Среднее растояние, которое проезжают пользователи с подпиской за одну поездку меньше 3130 метров"
   ]
  },
  {
   "cell_type": "markdown",
   "id": "26bdff27",
   "metadata": {},
   "source": [
    "<div class=\"alert alert-block alert-danger\" style=\"border-radius: 15px; box-shadow: 4px 4px 4px; border: 1px solid \">\n",
    "<h2> Комментарий ревьюера v_1: <a class=\"tocSkip\"></h2>\n",
    "    \n",
    "❌ Следует обратить внимание, что бизнес заинтересован в том, чтобы издержки были минимальные. Чем меньше износ, тем лучше. Подсчитано, что 3130 метров оптимально с точки зрения износа, т.е. всё, что равно этому расстоянию или меньше вполне приемлемо. Но нужно же выяснить, выходит ли за пределы оптимальности износ самокатов. Стоит переформулировать альтернативную гипотезу и скорректировать параметр alternative. И прокомментировать результаты, является ли расстояние поездок оптимальным с точки зрения износа самоката, т.е., что он в пределах нормы, не завышен."
   ]
  },
  {
   "cell_type": "markdown",
   "id": "3c38e610-213f-4aa7-804a-f7b0d291f279",
   "metadata": {},
   "source": [
    "\n",
    "alpha = 0.05\n",
    "\n",
    "results = st.ttest_1samp(\n",
    "    subscription_on['distance'], \n",
    "    subscription_on['distance'].mean(),\n",
    "      alternative='less')\n",
    "print('p-значение:', results.pvalue)\n",
    "\n",
    "if results.pvalue < alpha:\n",
    "    print('Отвергаем нулевую гипотезу')\n",
    "else:\n",
    "    print('Не получилось отвергнуть нулевую гипотезу') "
   ]
  },
  {
   "cell_type": "markdown",
   "id": "db2156b2-0b63-45df-b56e-c81239db183f",
   "metadata": {},
   "source": [
    "Не получилось отвергнуть нулевую гипотезу, что означает вероятность 50% того, что:\n",
    "\n",
    "Среднее расстояние, которое проезжают пользователи с подпиской за одну поездку равно 3130 метров.\n",
    "\n",
    "Вывод:\n",
    "\n",
    "Нельзя сказать, что среднее расстояние, которое проезжают пользователи с подпиской за одну поездку, не превышает 3130 метров"
   ]
  },
  {
   "cell_type": "markdown",
   "id": "f5057899-5719-4de0-b459-164c8eccae02",
   "metadata": {},
   "source": [
    "<div class=\"alert alert-info\"  style=\"border-radius: 15px; box-shadow: 4px 4px 4px; border: 1px solid \">\n",
    "    \n",
    "<h2>Комментарий студента v_1: <a class=\"tocSkip\"> </h2>\n",
    "\n",
    "Очень хотелось придерживаться формулировки в задании, что бы не ошибиться. Но твоя логика более чем оправдана и применима в жизни.\n",
    "Изменил формулу расчета. Ячейку со старым кодом перевел в `Markdown`."
   ]
  },
  {
   "cell_type": "markdown",
   "id": "e0c79191",
   "metadata": {},
   "source": [
    "<div class=\"alert alert-block alert-danger\" style=\"border-radius: 15px; box-shadow: 4px 4px 4px; border: 1px solid \">\n",
    "<h2> Комментарий ревьюера v_2: <a class=\"tocSkip\"></h2>\n",
    "    \n",
    "❌ Выше формулировки были подходящими, только альтернативную гипотезу нужно было скорректировать. И сравнивается с 3130 м, как сформулировано в задании, а не средним расстоянием из выборки"
   ]
  },
  {
   "cell_type": "markdown",
   "id": "91409494-1a4f-446a-8bb3-62a071cb7005",
   "metadata": {},
   "source": [
    "Формулировка нулевой(H0) и альтернативной(H1) гипотезы.\n",
    "\n",
    "Нужно определить явлется ли среднее значение генеральной совокупности больше заданного числа. Тоесть больше ли 3130 метров среднее расстояние, которое проезжают пользователи с подпиской за одну поездку.\n",
    "\n",
    "H0: Среднее генеральной совокупности равно заданному числу\n",
    "\n",
    "H1: Среднее генеральной совокупности больше заданного числа\n",
    "\n",
    "Это значит, что если нулевая гипотеза отвергается, то среднее расстояние за поездку больше 3130 метров и стоит задуматься о повышенном износе самокатов. А если нулевая гипотеза не отвергается, то за самокаты можно не переживать."
   ]
  },
  {
   "cell_type": "markdown",
   "id": "4d2dbf86-eff0-4e3e-9e38-a94788e50459",
   "metadata": {},
   "source": [
    "\n",
    "alpha = 0.05\n",
    "\n",
    "results = st.ttest_1samp(\n",
    "    subscription_on['distance'], \n",
    "    subscription_on['distance'].mean(),\n",
    "      alternative='greater')\n",
    "print('p-значение:', results.pvalue)\n",
    "\n",
    "if results.pvalue < alpha:\n",
    "    print('Отвергаем нулевую гипотезу')\n",
    "else:\n",
    "    print('Не получилось отвергнуть нулевую гипотезу') "
   ]
  },
  {
   "cell_type": "markdown",
   "id": "1a1c51f2-de70-467d-8313-c939a0992a87",
   "metadata": {},
   "source": [
    "<div class=\"alert alert-info\"  style=\"border-radius: 15px; box-shadow: 4px 4px 4px; border: 1px solid \">\n",
    "    \n",
    "<h2>Комментарий студента v_2: <a class=\"tocSkip\"> </h2>\n",
    "\n",
    "Ниже добавил исправленные формулировки гмпотез и исправленый код, где сравнивается с 3130 м."
   ]
  },
  {
   "cell_type": "markdown",
   "id": "ba90e1a0-2571-4ef2-ae6d-15ee2a3daebb",
   "metadata": {},
   "source": [
    "Формулировка нулевой(H0) и альтернативной(H1) гипотезы.\n",
    "\n",
    "H0: Среднее растояние, которое проезжают пользователи с подпиской за одну поездку равно 3130 метров\n",
    "\n",
    "H1: Среднее растояние, которое проезжают пользователи с подпиской за одну поездку больше 3130 метров"
   ]
  },
  {
   "cell_type": "code",
   "execution_count": 53,
   "id": "b6207db8-68dd-45a0-ace4-a9ab4c423ccf",
   "metadata": {},
   "outputs": [
    {
     "name": "stdout",
     "output_type": "stream",
     "text": [
      "p-значение: 0.9195368847849785\n",
      "Не получилось отвергнуть нулевую гипотезу\n"
     ]
    }
   ],
   "source": [
    "\n",
    "alpha = 0.05\n",
    "safety_distance = 3130\n",
    "\n",
    "results = st.ttest_1samp(\n",
    "    subscription_on['distance'], \n",
    "    safety_distance,\n",
    "      alternative='greater')\n",
    "print('p-значение:', results.pvalue)\n",
    "\n",
    "if results.pvalue < alpha:\n",
    "    print('Отвергаем нулевую гипотезу')\n",
    "else:\n",
    "    print('Не получилось отвергнуть нулевую гипотезу') "
   ]
  },
  {
   "cell_type": "markdown",
   "id": "1491cb10-b037-4e15-a39a-cbdb677d14ff",
   "metadata": {},
   "source": [
    "Нулевую гипотезу отвергнуть не получилось, а значит за самокаты можно не переживать!"
   ]
  },
  {
   "cell_type": "markdown",
   "id": "baed7922-2277-4859-95d3-d3fbd4a0fe72",
   "metadata": {},
   "source": [
    "### Будет ли помесячная выручка от пользователей с подпиской по месяцам выше, чем выручка от пользователей без подписки?"
   ]
  },
  {
   "cell_type": "markdown",
   "id": "ce0a6f64-95b5-47d5-979c-192966fd1d3a",
   "metadata": {},
   "source": [
    "Формулировка нулевой(H0) и альтернативной(H1) гипотезы.\n",
    "\n",
    "H0: Помесячная выручка от пользователей с подпиской по месяцам равна помесячной выручке от пользователей без подписки\n",
    "\n",
    "H1: Помесячная выручка от пользователей с подпиской по месяцам больше помесячной выручки от пользователей без подписки"
   ]
  },
  {
   "cell_type": "code",
   "execution_count": 49,
   "id": "02879855-a00e-4563-9f69-19aac89d88fe",
   "metadata": {},
   "outputs": [
    {
     "name": "stdout",
     "output_type": "stream",
     "text": [
      "p-значение: 1.8850394384715216e-31\n",
      "Отвергаем нулевую гипотезу\n"
     ]
    }
   ],
   "source": [
    "alpha = 0.05\n",
    "\n",
    "results = st.ttest_ind(\n",
    "    users_total[users_total['subscription_type'] == 'ultra']['revenue'], \n",
    "    users_total[users_total['subscription_type'] == 'free']['revenue'],\n",
    "      alternative='greater')\n",
    "print('p-значение:', results.pvalue)\n",
    "\n",
    "if results.pvalue < alpha:\n",
    "    print('Отвергаем нулевую гипотезу')\n",
    "else:\n",
    "    print('Не получилось отвергнуть нулевую гипотезу') "
   ]
  },
  {
   "cell_type": "markdown",
   "id": "7dd6c5f2",
   "metadata": {},
   "source": [
    "<div class=\"alert alert-success\" style=\"border-radius: 15px; box-shadow: 4px 4px 4px; border: 1px solid \">\n",
    "<h2> Комментарий ревьюера v_1: <a class=\"tocSkip\"> </h2>\n",
    "    \n",
    "✅ Статтест выбран правильно."
   ]
  },
  {
   "cell_type": "markdown",
   "id": "e3ef8382-d588-46bd-8c0c-da8ede1f85ec",
   "metadata": {},
   "source": [
    "Нулевая гипотеза не подтвердилась\n",
    "\n",
    "Вывод:\n",
    "\n",
    "Помесячная выручка от пользователей с подпиской по месяцам больше помесячной выручки от пользователей без подписки."
   ]
  },
  {
   "cell_type": "markdown",
   "id": "3e91a821-73f4-4dc9-9be5-a90de8f59fb0",
   "metadata": {},
   "source": [
    "### Представьте такую ситуацию: техническая команда сервиса обновила сервера, с которыми взаимодействует мобильное приложение. Она надеется, что из-за этого количество обращений в техподдержку значимо снизилось. Некоторый файл содержит для каждого пользователя данные о количестве обращений до обновления и после него. Какой тест вам понадобился бы для проверки этой гипотезы?"
   ]
  },
  {
   "cell_type": "markdown",
   "id": "b4cb3eed-558a-452f-906b-e08a9cc4fcd1",
   "metadata": {},
   "source": [
    "Чтобы проверить гипотезу о равенстве среднего генеральной совокупности для зависимых (парных) выборок в Python, применим метод scipy.stats.ttest_rel()."
   ]
  },
  {
   "cell_type": "markdown",
   "id": "9e4ac063",
   "metadata": {},
   "source": [
    "<div class=\"alert alert-warning\" style=\"border-radius: 15px; box-shadow: 4px 4px 4px; border: 1px solid \">\n",
    "<h2> Комментарий ревьюера v_1: <a class=\"tocSkip\"> </h2>\n",
    "    \n",
    "⚠️ Подходит тест st.ttest_rel(). Но в задании еще написано: \"Она надеется, что из-за этого количество обращений в техподдержку значимо снизилось\". Какая должна быть гипотеза, односторонняя или двухсторонняя?"
   ]
  },
  {
   "cell_type": "markdown",
   "id": "e838addb-3e33-4bf6-9fbf-be82ac386fbb",
   "metadata": {},
   "source": [
    "<div class=\"alert alert-info\"  style=\"border-radius: 15px; box-shadow: 4px 4px 4px; border: 1px solid \">\n",
    "    \n",
    "<h2>Комментарий студента v_1: <a class=\"tocSkip\"> </h2>\n",
    "\n",
    "Ниже расписал все подробнее."
   ]
  },
  {
   "cell_type": "markdown",
   "id": "5b68d2ad-2cda-4be6-921b-724cdf33d6bf",
   "metadata": {},
   "source": [
    "Формулировка нулевой(H0) и альтернативной(H1) гипотезы.\n",
    "\n",
    "H0: Средние совокупности двух зависимых выборок равны. Это значит, что количество обращение в техподдержку не изменилось после обновления сервера.\n",
    "\n",
    "H1: Средняя совокупность после указанной даты меньше средней совокупности до этой даты. Это значит, что количество обращений после обновления сервера снизилось.\n",
    "\n",
    "для проверки этой односторонней гипотезы лучше применить метод `scipy.stats.ttest_rel()` с аргументом `alternative='less'`"
   ]
  },
  {
   "cell_type": "markdown",
   "id": "a7ddb00e",
   "metadata": {},
   "source": [
    "<div class=\"alert alert-success\" style=\"border-radius: 15px; box-shadow: 4px 4px 4px; border: 1px solid \">\n",
    "<h2> Комментарий ревьюера v_2: <a class=\"tocSkip\"> </h2>\n",
    "    \n",
    "✅ Хорошо"
   ]
  },
  {
   "cell_type": "markdown",
   "id": "61213c5e",
   "metadata": {},
   "source": [
    "## Шаг 7. Распределения"
   ]
  },
  {
   "cell_type": "markdown",
   "id": "081255a8-d13e-4b99-841d-930d4b0ee2b4",
   "metadata": {},
   "source": [
    "### Акция с раздачей промокодов"
   ]
  },
  {
   "cell_type": "markdown",
   "id": "51017d8f-43d3-4839-be8f-ff3e5ba91cfd",
   "metadata": {},
   "source": [
    "Отделу маркетинга GoFast поставили задачу: нужно провести акцию с раздачей промокодов на один бесплатный месяц подписки, в рамках которой как минимум 100 существующих клиентов должны продлить эту подписку. То есть по завершении периода действия подписки пользователь может либо отказаться от неё, либо продлить, совершив соответствующий платёж. \n",
    "Эта акция уже проводилась ранее и по итогу выяснилось, что после бесплатного пробного периода подписку продлевают 10 % пользователей. Выясните, какое минимальное количество промокодов нужно разослать, чтобы вероятность не выполнить план была примерно 5 %. Подберите параметры распределения, описывающего эту ситуацию, постройте график распределения и сформулируйте ответ на вопрос о количестве промокодов."
   ]
  },
  {
   "cell_type": "markdown",
   "id": "06806413-c6cf-4a63-82a9-204cadccbb67",
   "metadata": {},
   "source": [
    "H0: Вероятность, что подписку продлят 100 клиентов равна 5 %\n",
    "\n",
    "H1: Вероятность, что подписку продлят 100 клиентов меньше 5 %\n",
    "\n",
    "вероятность не выполнить план примерно 5% - это вероятность 5%, что подписку продлят меньше 100 клиентов"
   ]
  },
  {
   "cell_type": "markdown",
   "id": "d3edf7a1-6c2d-48da-b3b6-e0db2dc9028e",
   "metadata": {},
   "source": [
    "n = 1200 \n",
    "p = 0.1 \n",
    "\n",
    "alpha = 0.05\n",
    "\n",
    "mu = n * p \n",
    "sigma = (n * p * (1 - p)) ** 0.5 \n",
    "\n",
    "distr = st.norm(mu, sigma) \n",
    "\n",
    "result = distr.cdf(100) \n",
    "print('Вероятность, что подписку продлят 100 клиентов', result)\n",
    "\n",
    "if results.pvalue < alpha:\n",
    "    print('Отвергаем нулевую гипотезу')\n",
    "else:\n",
    "    print('Не получилось отвергнуть нулевую гипотезу') "
   ]
  },
  {
   "cell_type": "markdown",
   "id": "c3808902",
   "metadata": {},
   "source": [
    "<div class=\"alert alert-warning\" style=\"border-radius: 15px; box-shadow: 4px 4px 4px; border: 1px solid \">\n",
    "<h2> Комментарий ревьюера v_1: <a class=\"tocSkip\"> </h2>\n",
    "    \n",
    "⚠️ st.norm - это нормальное распределение, а не биноминальное. Один из вариантов решения, чтобы рассчитать минимальное количество промокодов, -  в цикле выбрать какое-нибудь количество промокодов (n) и увеличивать его на единицу, пока binom.cdf не станет равным или меньше 0.05 (в аргументах функции cdf стоит указать 99, n и p). 99 выбирается, т.к. нужно найти такое минимальное значение, чтобы вероятность не выполнить план (меньше 100) была равна 0.05. "
   ]
  },
  {
   "cell_type": "markdown",
   "id": "efa7577b-00c0-44d8-a747-f4fb308d391b",
   "metadata": {},
   "source": [
    "График с нормальным распрпеделением"
   ]
  },
  {
   "cell_type": "markdown",
   "id": "4d1dc6be-936c-42f1-9239-52da5f1668d0",
   "metadata": {},
   "source": [
    "p = 0.1\n",
    "n = 1200\n",
    "\n",
    "left = int(n * p - 4 * ((n * p * (1 - p)) ** 0.5))\n",
    "right = int(n * p + 4 * ((n * p * (1 - p)) ** 0.5))\n",
    "\n",
    "x = list(range(max(0, left), right))\n",
    "\n",
    "ax = plt.subplot()\n",
    "\n",
    "ax.plot(x, binom.pmf(x, n, p))\n",
    "ax.grid()\n",
    "plt.show()"
   ]
  },
  {
   "cell_type": "markdown",
   "id": "d61aa999-61ba-483d-8734-0147a0d54fea",
   "metadata": {},
   "source": [
    "\n",
    "Ответ: Что бы подписку продлили 100 клиентов нужно раздать 1200 промокодов\n"
   ]
  },
  {
   "cell_type": "markdown",
   "id": "63994f7a-a4f6-4243-bb3b-4787be5dbe14",
   "metadata": {},
   "source": [
    "<div class=\"alert alert-info\"  style=\"border-radius: 15px; box-shadow: 4px 4px 4px; border: 1px solid \">\n",
    "    \n",
    "<h2>Комментарий студента v_1: <a class=\"tocSkip\"> </h2>\n",
    "\n",
    "Ниже собрал новое решение с циклом по перебору значений `n`"
   ]
  },
  {
   "cell_type": "code",
   "execution_count": 50,
   "id": "e8a07acc-3b60-453d-a022-8e6a1e92e17c",
   "metadata": {},
   "outputs": [
    {
     "name": "stdout",
     "output_type": "stream",
     "text": [
      "Что бы подписку продлили 100 клиентов, нужно разослать 1173 промокодов\n"
     ]
    }
   ],
   "source": [
    "n = 1000 \n",
    "p = 0.1 \n",
    "\n",
    "alpha = 0.05\n",
    " \n",
    "\n",
    "dist = st.binom(n, p)\n",
    "\n",
    "result = dist.cdf(100) \n",
    "\n",
    "while result > alpha:\n",
    "    if n > 3000:\n",
    "        print('stop', result)\n",
    "        break\n",
    "    dist = st.binom(n, p)\n",
    "    result = dist.cdf(100) \n",
    "    n += 1\n",
    "    \n",
    "else:\n",
    "    print('Что бы подписку продлили 100 клиентов, нужно разослать', n, 'промокодов')"
   ]
  },
  {
   "cell_type": "markdown",
   "id": "86e7c3d0",
   "metadata": {},
   "source": [
    "<div class=\"alert alert-warning\" style=\"border-radius: 15px; box-shadow: 4px 4px 4px; border: 1px solid \">\n",
    "<h2> Комментарий ревьюера v_2: <a class=\"tocSkip\"> </h2>\n",
    "    \n",
    "⚠️ Как я выше писал, должно быть не 100, а 99. И на одну единицу результат получился больше, чем должно быть"
   ]
  },
  {
   "cell_type": "code",
   "execution_count": 51,
   "id": "cd5f6280-e3e9-4a3c-be71-31441d7ece35",
   "metadata": {},
   "outputs": [
    {
     "data": {
      "image/png": "[encoded data removed]",
      "text/plain": [
       "<Figure size 640x480 with 1 Axes>"
      ]
     },
     "metadata": {},
     "output_type": "display_data"
    }
   ],
   "source": [
    "n = 1173\n",
    "p = 0.1\n",
    "\n",
    "left = int(n * p - 4 * ((n * p * (1 - p)) ** 0.5))\n",
    "right = int(n * p + 4 * ((n * p * (1 - p)) ** 0.5))\n",
    "\n",
    "x = list(range(max(0, left), right))\n",
    "\n",
    "ax = plt.subplot()\n",
    "\n",
    "ax.plot(x, binom.pmf(x, n, p))\n",
    "ax.grid()\n",
    "plt.show()"
   ]
  },
  {
   "cell_type": "markdown",
   "id": "0ae4e7b2-9e99-4e8b-a3de-e4d9611bdc0b",
   "metadata": {
    "jp-MarkdownHeadingCollapsed": true
   },
   "source": [
    "### Push-уведомления"
   ]
  },
  {
   "cell_type": "markdown",
   "id": "067d27bd-da9d-48c7-8695-d0cb401e5079",
   "metadata": {},
   "source": [
    "Отдел маркетинга рассылает клиентам push-уведомления в мобильном приложении. Клиенты могут открыть его или не открывать. Известно, что уведомления открывают около 40 % получивших клиентов. Отдел планирует разослать 1 млн уведомлений. С помощью аппроксимации постройте примерный график распределения и оцените вероятность того, что уведомление откроют не более 399,5 тыс. пользователей."
   ]
  },
  {
   "cell_type": "code",
   "execution_count": 52,
   "id": "d9af7f68-aa1f-47c8-a357-e1fc7ca435aa",
   "metadata": {
    "scrolled": true
   },
   "outputs": [
    {
     "data": {
      "image/png": "[encoded data removed]",
      "text/plain": [
       "<Figure size 640x480 with 1 Axes>"
      ]
     },
     "metadata": {},
     "output_type": "display_data"
    },
    {
     "name": "stdout",
     "output_type": "stream",
     "text": [
      "\n",
      "Ответ: Вероятность того, что уведомление откроют не более 399,5 тыс. пользователей: 0.15371708296369768\n",
      "\n"
     ]
    }
   ],
   "source": [
    "n = 1000000 \n",
    "p = 0.4 \n",
    "\n",
    "left = int(n * p - 4 * ((n * p * (1 - p)) ** 0.5))\n",
    "right = int(n * p + 4 * ((n * p * (1 - p)) ** 0.5))\n",
    "\n",
    "x = list(range(max(0, left), right))\n",
    "\n",
    "ax = plt.subplot()\n",
    "\n",
    "ax.plot(x, binom.pmf(x, n, p))\n",
    "ax.grid()\n",
    "plt.show()\n",
    "\n",
    "mu = n * p \n",
    "sigma = (n * p * (1 - p)) ** 0.5 \n",
    "\n",
    "distr = st.norm(mu, sigma) \n",
    "\n",
    "result = distr.cdf(399500) \n",
    "print()\n",
    "print('Ответ: Вероятность того, что уведомление откроют не более 399,5 тыс. пользователей:', result)\n",
    "print()"
   ]
  },
  {
   "cell_type": "markdown",
   "id": "efd969d7",
   "metadata": {},
   "source": [
    "<div class=\"alert alert-success\" style=\"border-radius: 15px; box-shadow: 4px 4px 4px; border: 1px solid \">\n",
    "<h2> Комментарий ревьюера v_1: <a class=\"tocSkip\"> </h2>\n",
    "    \n",
    "✅ Верно"
   ]
  },
  {
   "cell_type": "markdown",
   "id": "66d6bc69-f865-4d89-b7e0-4a1913b3b774",
   "metadata": {},
   "source": [
    "## Вывод"
   ]
  },
  {
   "cell_type": "markdown",
   "id": "56413dbd-6178-4a1b-abb1-a5624d382524",
   "metadata": {},
   "source": [
    "Данные были получены без потерь; \n",
    "\n",
    "В данных присутствовали дубликаты, которые были удалены;\n",
    "\n",
    "Формат даты совершения поздки был записан в неверном формате, который был изменен;\n",
    "\n",
    "Добавлена колонка с месяцами в которых были совершены поездки;\n",
    "\n",
    "Построены графики и изучены:\n",
    " - Частота встречаемости городов, где Пятигорск на первом месте, Москва на последнем;\n",
    " - Соотношение пользователей с подпиской и без подписки, где пользователей без подписки больше на 8.8% от общего количества подписчиков\n",
    " - Возраст пользователей, где средний возраст 25 лет, а возраст всех от детей младше 15 лет до 45 лет;\n",
    " - Расстояние, которое пользователь преодолел за одну поездку, где среднее 3 км, максимум 7 км и есть небольшой пик коротких поездок 500м;\n",
    " - Продолжителность поездок, где среднее 17.5 минут и так же есть всплеск на коротких сессиях около 1 минуты;\n",
    "\n",
    "Создана новая таблица с объединенными данными из трех исходных таблиц;\n",
    "\n",
    "На базе объедененной таблицы созданы две таблицы с пользователями с подпиской и без соответственно;\n",
    "\n",
    "Созданы графики с длительностью сессии и расстоянием. которое пользователь проехал за сессиию для двух категорий пользователей;\n",
    "\n",
    "Создан датафрейм, где собраны данные пользователей по расстоянию и длительности поездок разделенные по месяцам и условия тарифа подписки;\n",
    "\n",
    "В этот датафрейм добавлена колонка с общей выручкой клиента за месяц;\n",
    "\n",
    "Это все помогло подготовить данные для проверки следующих гипотез:\n",
    "- Тратят ли пользователи с подпиской больше времени на поездки? Ответ: нет\n",
    "- Можно ли сказать, что среднее расстояние, которое проезжают пользователи с подпиской за одну поездку, не превышает 3130 метров? Ответ: нет\n",
    "- Будет ли помесячная выручка от пользователей с подпиской по месяцам выше, чем выручка от пользователей без подписки. Ответ: да\n",
    "\n",
    "В задачах по распределению получены ответы:\n",
    "- Что бы подписку продлили 100 клиентов нужно раздать 1200 промокодов;\n",
    "- Вероятность того, что уведомление откроют не более 399,5 тыс. пользователей при отправленных 1000000 уведомлений: 15.37 %"
   ]
  },
  {
   "cell_type": "markdown",
   "id": "1fb527da",
   "metadata": {},
   "source": [
    "<div class=\"alert alert-block alert-danger\" style=\"border-radius: 15px; box-shadow: 4px 4px 4px; border: 1px solid \">\n",
    "<h2> Комментарий ревьюера v_1: <a class=\"tocSkip\"></h2>\n",
    "    \n",
    "❌ Вывод нужно будет обновить после внесения изменений в проекте, добавить, какие результаты получены в шаге 4. Также стоит резюмировать, являются ли пользователи с подпиской более выгодными для сервиса аренды самокатов?"
   ]
  },
  {
   "cell_type": "markdown",
   "id": "72723b0a-ef23-461b-b373-d098fc000d57",
   "metadata": {},
   "source": [
    "<div class=\"alert alert-info\"  style=\"border-radius: 15px; box-shadow: 4px 4px 4px; border: 1px solid \">\n",
    "    \n",
    "<h2>Комментарий студента v_1: <a class=\"tocSkip\"> </h2>\n",
    "\n",
    "Ниже добавил новый исправленный вывод.   "
   ]
  },
  {
   "cell_type": "markdown",
   "id": "c3a94695-c0df-4760-9b39-f553cba772f9",
   "metadata": {},
   "source": [
    "Данные были получены без потерь; \n",
    "\n",
    "В данных присутствовал 31 дубликат. Все дубликаты были удалены;\n",
    "\n",
    "Формат даты совершения поздки был записан в неверном формате, который был изменен;\n",
    "\n",
    "Добавлена колонка с месяцами в которых были совершены поездки;\n",
    "\n",
    "Построены графики и изучены:\n",
    " - Частота встречаемости городов, где Пятигорск на первом месте, Москва на последнем;\n",
    " - Соотношение пользователей с подпиской и без подписки, где пользователей без подписки больше на 8.8% от общего количества подписчиков\n",
    " - Возраст пользователей, где средний возраст 25 лет. Чаще всего встречаются пользователи возрастом 22-28 лет.;\n",
    " - Расстояние, которое пользователь преодолел за одну поездку, где среднее 3 км, максимум 7 км и есть небольшой пик коротких поездок 500м;\n",
    " - Продолжителность поездок, где среднее 17.5 минут и так же есть всплеск на коротких сессиях около 1 минуты;\n",
    "\n",
    "Создана новая таблица с объединенными данными из трех исходных таблиц;\n",
    "\n",
    "На базе объедененной таблицы созданы две таблицы с пользователями с подпиской и без соответственно;\n",
    "\n",
    "Созданы графики с длительностью сессии и расстоянием. которое пользователь проехал за сессиию для двух категорий пользователей;\n",
    "\n",
    "Создан датафрейм, где собраны данные пользователей по расстоянию и длительности поездок разделенные по месяцам и условия тарифа подписки;\n",
    "\n",
    "В этот датафрейм добавлена колонка с общей выручкой клиента за месяц;\n",
    "\n",
    "Это все помогло подготовить данные для проверки следующих гипотез:\n",
    "- Тратят ли пользователи с подпиской больше времени на поездки? Ответ: да\n",
    "- Можно ли сказать, что среднее расстояние, которое проезжают пользователи с подпиской за одну поездку, не превышает 3130 метров? Ответ: да\n",
    "- Будет ли помесячная выручка от пользователей с подпиской по месяцам выше, чем выручка от пользователей без подписки. Ответ: да\n",
    "\n",
    "В задачах по распределению получены ответы:\n",
    "- Что бы подписку продлили 100 клиентов нужно раздать 1173 промокода;\n",
    "- Вероятность того, что уведомление откроют не более 399,5 тыс. пользователей при отправленных 1000000 уведомлений: 15.37 %"
   ]
  },
  {
   "cell_type": "markdown",
   "id": "afe801f8",
   "metadata": {},
   "source": [
    "<div style=\"border:solid lightblue 3px; background:#f7faf8; padding: 20px\">\n",
    "<span style=\"color:darkblue\">Общий вывод по проекту v_1:</span>\n",
    "    \n",
    "У тебя хорошая работа! Cоблюдена структура, проделана бóльшая часть проекта, но есть замечания, которые необходимо доработать:\n",
    "* добавить вступление\n",
    "* оформить визуализации\n",
    "* пп. в 3, 4, 5 и 6 шагах\n",
    "* обновить и дополнить итоговые выводы\n",
    "   \n",
    "Также добавил рекомендации по улучшению проекта. Жду проект)"
   ]
  },
  {
   "cell_type": "markdown",
   "id": "cf5104f5",
   "metadata": {},
   "source": [
    "<div style=\"border:solid lightblue 3px; background:#f7faf8; padding: 20px\">\n",
    "<span style=\"color:darkblue\">Общий вывод по проекту v_2:</span>\n",
    "    \n",
    "Доработать:\n",
    "* оформить визуализации\n",
    "* пп. в 5 и 6 шагах\n",
    "   \n",
    "Жду проект)"
   ]
  },
  {
   "cell_type": "code",
   "execution_count": null,
   "id": "381f77e9",
   "metadata": {},
   "outputs": [],
   "source": []
  }
 ],
 "metadata": {
  "ExecuteTimeLog": [
   {
    "duration": 1088,
    "start_time": "2024-02-07T15:27:42.868Z"
   },
   {
    "duration": 266,
    "start_time": "2024-02-07T15:27:43.958Z"
   },
   {
    "duration": 0,
    "start_time": "2024-02-07T15:27:44.226Z"
   },
   {
    "duration": 1,
    "start_time": "2024-02-07T15:27:44.227Z"
   },
   {
    "duration": 0,
    "start_time": "2024-02-07T15:27:44.228Z"
   },
   {
    "duration": 0,
    "start_time": "2024-02-07T15:27:44.230Z"
   },
   {
    "duration": 0,
    "start_time": "2024-02-07T15:27:44.231Z"
   },
   {
    "duration": 0,
    "start_time": "2024-02-07T15:27:44.231Z"
   },
   {
    "duration": 0,
    "start_time": "2024-02-07T15:27:44.233Z"
   },
   {
    "duration": 0,
    "start_time": "2024-02-07T15:27:44.234Z"
   },
   {
    "duration": 0,
    "start_time": "2024-02-07T15:27:44.235Z"
   },
   {
    "duration": 0,
    "start_time": "2024-02-07T15:27:44.236Z"
   },
   {
    "duration": 0,
    "start_time": "2024-02-07T15:27:44.237Z"
   },
   {
    "duration": 0,
    "start_time": "2024-02-07T15:27:44.238Z"
   },
   {
    "duration": 0,
    "start_time": "2024-02-07T15:27:44.239Z"
   },
   {
    "duration": 0,
    "start_time": "2024-02-07T15:27:44.240Z"
   },
   {
    "duration": 0,
    "start_time": "2024-02-07T15:27:44.241Z"
   },
   {
    "duration": 0,
    "start_time": "2024-02-07T15:27:44.242Z"
   },
   {
    "duration": 0,
    "start_time": "2024-02-07T15:27:44.243Z"
   },
   {
    "duration": 0,
    "start_time": "2024-02-07T15:27:44.244Z"
   },
   {
    "duration": 0,
    "start_time": "2024-02-07T15:27:44.245Z"
   },
   {
    "duration": 0,
    "start_time": "2024-02-07T15:27:44.246Z"
   },
   {
    "duration": 0,
    "start_time": "2024-02-07T15:27:44.246Z"
   },
   {
    "duration": 0,
    "start_time": "2024-02-07T15:27:44.247Z"
   },
   {
    "duration": 0,
    "start_time": "2024-02-07T15:27:44.273Z"
   },
   {
    "duration": 0,
    "start_time": "2024-02-07T15:27:44.274Z"
   },
   {
    "duration": 0,
    "start_time": "2024-02-07T15:27:44.275Z"
   },
   {
    "duration": 0,
    "start_time": "2024-02-07T15:27:44.276Z"
   },
   {
    "duration": 0,
    "start_time": "2024-02-07T15:27:44.277Z"
   },
   {
    "duration": 0,
    "start_time": "2024-02-07T15:27:44.278Z"
   },
   {
    "duration": 0,
    "start_time": "2024-02-07T15:27:44.280Z"
   },
   {
    "duration": 0,
    "start_time": "2024-02-07T15:27:44.281Z"
   },
   {
    "duration": 0,
    "start_time": "2024-02-07T15:27:44.282Z"
   },
   {
    "duration": 0,
    "start_time": "2024-02-07T15:27:44.283Z"
   },
   {
    "duration": 0,
    "start_time": "2024-02-07T15:27:44.284Z"
   },
   {
    "duration": 0,
    "start_time": "2024-02-07T15:27:44.285Z"
   },
   {
    "duration": 0,
    "start_time": "2024-02-07T15:27:44.287Z"
   },
   {
    "duration": 0,
    "start_time": "2024-02-07T15:27:44.288Z"
   },
   {
    "duration": 0,
    "start_time": "2024-02-07T15:27:44.289Z"
   },
   {
    "duration": 0,
    "start_time": "2024-02-07T15:27:44.290Z"
   },
   {
    "duration": 0,
    "start_time": "2024-02-07T15:27:44.292Z"
   },
   {
    "duration": 0,
    "start_time": "2024-02-07T15:27:44.293Z"
   },
   {
    "duration": 0,
    "start_time": "2024-02-07T15:27:44.294Z"
   },
   {
    "duration": 1086,
    "start_time": "2024-02-07T15:27:58.418Z"
   },
   {
    "duration": 311,
    "start_time": "2024-02-07T15:27:59.506Z"
   },
   {
    "duration": 12,
    "start_time": "2024-02-07T15:27:59.818Z"
   },
   {
    "duration": 16,
    "start_time": "2024-02-07T15:27:59.832Z"
   },
   {
    "duration": 15,
    "start_time": "2024-02-07T15:27:59.850Z"
   },
   {
    "duration": 32,
    "start_time": "2024-02-07T15:27:59.866Z"
   },
   {
    "duration": 20,
    "start_time": "2024-02-07T15:27:59.899Z"
   },
   {
    "duration": 27,
    "start_time": "2024-02-07T15:27:59.920Z"
   },
   {
    "duration": 19,
    "start_time": "2024-02-07T15:27:59.949Z"
   },
   {
    "duration": 18,
    "start_time": "2024-02-07T15:27:59.971Z"
   },
   {
    "duration": 7,
    "start_time": "2024-02-07T15:27:59.991Z"
   },
   {
    "duration": 30,
    "start_time": "2024-02-07T15:27:59.999Z"
   },
   {
    "duration": 60,
    "start_time": "2024-02-07T15:28:00.031Z"
   },
   {
    "duration": 176,
    "start_time": "2024-02-07T15:28:00.093Z"
   },
   {
    "duration": 8,
    "start_time": "2024-02-07T15:28:00.271Z"
   },
   {
    "duration": 156,
    "start_time": "2024-02-07T15:28:00.281Z"
   },
   {
    "duration": 5,
    "start_time": "2024-02-07T15:28:00.438Z"
   },
   {
    "duration": 195,
    "start_time": "2024-02-07T15:28:00.445Z"
   },
   {
    "duration": 5,
    "start_time": "2024-02-07T15:28:00.642Z"
   },
   {
    "duration": 269,
    "start_time": "2024-02-07T15:28:00.649Z"
   },
   {
    "duration": 415,
    "start_time": "2024-02-07T15:28:00.919Z"
   },
   {
    "duration": 10,
    "start_time": "2024-02-07T15:28:01.336Z"
   },
   {
    "duration": 90,
    "start_time": "2024-02-07T15:28:01.348Z"
   },
   {
    "duration": 74,
    "start_time": "2024-02-07T15:28:01.439Z"
   },
   {
    "duration": 42,
    "start_time": "2024-02-07T15:28:01.515Z"
   },
   {
    "duration": 72,
    "start_time": "2024-02-07T15:28:01.558Z"
   },
   {
    "duration": 57,
    "start_time": "2024-02-07T15:28:01.632Z"
   },
   {
    "duration": 66,
    "start_time": "2024-02-07T15:28:01.692Z"
   },
   {
    "duration": 398,
    "start_time": "2024-02-07T15:28:01.760Z"
   },
   {
    "duration": 401,
    "start_time": "2024-02-07T15:28:02.160Z"
   },
   {
    "duration": 9,
    "start_time": "2024-02-07T15:28:02.563Z"
   },
   {
    "duration": 57,
    "start_time": "2024-02-07T15:28:02.574Z"
   },
   {
    "duration": 6,
    "start_time": "2024-02-07T15:28:02.633Z"
   },
   {
    "duration": 48,
    "start_time": "2024-02-07T15:28:02.640Z"
   },
   {
    "duration": 61,
    "start_time": "2024-02-07T15:28:02.690Z"
   },
   {
    "duration": 5,
    "start_time": "2024-02-07T15:28:02.753Z"
   },
   {
    "duration": 38,
    "start_time": "2024-02-07T15:28:02.759Z"
   },
   {
    "duration": 22,
    "start_time": "2024-02-07T15:28:02.799Z"
   },
   {
    "duration": 17,
    "start_time": "2024-02-07T15:28:02.823Z"
   },
   {
    "duration": 14,
    "start_time": "2024-02-07T15:28:02.842Z"
   },
   {
    "duration": 6,
    "start_time": "2024-02-07T15:28:02.858Z"
   },
   {
    "duration": 144,
    "start_time": "2024-02-07T15:28:02.865Z"
   },
   {
    "duration": 195,
    "start_time": "2024-02-07T15:28:03.010Z"
   },
   {
    "duration": 12,
    "start_time": "2024-02-07T17:02:43.844Z"
   },
   {
    "duration": 4,
    "start_time": "2024-02-07T17:03:16.327Z"
   },
   {
    "duration": 10,
    "start_time": "2024-02-07T17:03:19.827Z"
   },
   {
    "duration": 4,
    "start_time": "2024-02-07T17:04:38.528Z"
   },
   {
    "duration": 10,
    "start_time": "2024-02-07T17:04:40.120Z"
   },
   {
    "duration": 6,
    "start_time": "2024-02-07T17:07:35.458Z"
   },
   {
    "duration": 5,
    "start_time": "2024-02-07T17:14:21.374Z"
   },
   {
    "duration": 126,
    "start_time": "2024-02-07T17:14:24.645Z"
   },
   {
    "duration": 1077,
    "start_time": "2024-02-07T17:17:57.132Z"
   },
   {
    "duration": 124,
    "start_time": "2024-02-07T17:17:58.211Z"
   },
   {
    "duration": 13,
    "start_time": "2024-02-07T17:17:58.337Z"
   },
   {
    "duration": 12,
    "start_time": "2024-02-07T17:17:58.351Z"
   },
   {
    "duration": 9,
    "start_time": "2024-02-07T17:17:58.366Z"
   },
   {
    "duration": 10,
    "start_time": "2024-02-07T17:17:58.376Z"
   },
   {
    "duration": 6,
    "start_time": "2024-02-07T17:17:58.388Z"
   },
   {
    "duration": 10,
    "start_time": "2024-02-07T17:17:58.395Z"
   },
   {
    "duration": 11,
    "start_time": "2024-02-07T17:17:58.406Z"
   },
   {
    "duration": 13,
    "start_time": "2024-02-07T17:17:58.418Z"
   },
   {
    "duration": 5,
    "start_time": "2024-02-07T17:17:58.432Z"
   },
   {
    "duration": 18,
    "start_time": "2024-02-07T17:17:58.438Z"
   },
   {
    "duration": 23,
    "start_time": "2024-02-07T17:17:58.457Z"
   },
   {
    "duration": 149,
    "start_time": "2024-02-07T17:17:58.483Z"
   },
   {
    "duration": 6,
    "start_time": "2024-02-07T17:17:58.633Z"
   },
   {
    "duration": 123,
    "start_time": "2024-02-07T17:17:58.640Z"
   },
   {
    "duration": 11,
    "start_time": "2024-02-07T17:17:58.764Z"
   },
   {
    "duration": 164,
    "start_time": "2024-02-07T17:17:58.777Z"
   },
   {
    "duration": 4,
    "start_time": "2024-02-07T17:17:58.943Z"
   },
   {
    "duration": 204,
    "start_time": "2024-02-07T17:17:58.949Z"
   },
   {
    "duration": 381,
    "start_time": "2024-02-07T17:17:59.154Z"
   },
   {
    "duration": 10,
    "start_time": "2024-02-07T17:17:59.536Z"
   },
   {
    "duration": 26,
    "start_time": "2024-02-07T17:17:59.547Z"
   },
   {
    "duration": 16,
    "start_time": "2024-02-07T17:17:59.574Z"
   },
   {
    "duration": 5,
    "start_time": "2024-02-07T17:17:59.591Z"
   },
   {
    "duration": 32,
    "start_time": "2024-02-07T17:17:59.597Z"
   },
   {
    "duration": 9,
    "start_time": "2024-02-07T17:17:59.630Z"
   },
   {
    "duration": 13,
    "start_time": "2024-02-07T17:17:59.641Z"
   },
   {
    "duration": 309,
    "start_time": "2024-02-07T17:17:59.655Z"
   },
   {
    "duration": 379,
    "start_time": "2024-02-07T17:17:59.965Z"
   },
   {
    "duration": 9,
    "start_time": "2024-02-07T17:18:00.345Z"
   },
   {
    "duration": 67,
    "start_time": "2024-02-07T17:18:00.355Z"
   },
   {
    "duration": 15,
    "start_time": "2024-02-07T17:18:00.423Z"
   },
   {
    "duration": 39,
    "start_time": "2024-02-07T17:18:00.439Z"
   },
   {
    "duration": 42,
    "start_time": "2024-02-07T17:18:00.479Z"
   },
   {
    "duration": 4,
    "start_time": "2024-02-07T17:18:00.523Z"
   },
   {
    "duration": 46,
    "start_time": "2024-02-07T17:18:00.528Z"
   },
   {
    "duration": 16,
    "start_time": "2024-02-07T17:18:00.575Z"
   },
   {
    "duration": 43,
    "start_time": "2024-02-07T17:18:00.593Z"
   },
   {
    "duration": 134,
    "start_time": "2024-02-07T17:18:00.638Z"
   },
   {
    "duration": 17,
    "start_time": "2024-02-07T17:18:00.775Z"
   },
   {
    "duration": 153,
    "start_time": "2024-02-07T17:18:00.793Z"
   },
   {
    "duration": 168,
    "start_time": "2024-02-07T17:18:00.947Z"
   },
   {
    "duration": 1138,
    "start_time": "2024-02-08T14:40:43.390Z"
   },
   {
    "duration": 241,
    "start_time": "2024-02-08T14:40:44.531Z"
   },
   {
    "duration": 13,
    "start_time": "2024-02-08T14:40:44.774Z"
   },
   {
    "duration": 12,
    "start_time": "2024-02-08T14:40:44.789Z"
   },
   {
    "duration": 16,
    "start_time": "2024-02-08T14:40:44.803Z"
   },
   {
    "duration": 12,
    "start_time": "2024-02-08T14:40:44.821Z"
   },
   {
    "duration": 19,
    "start_time": "2024-02-08T14:40:44.835Z"
   },
   {
    "duration": 21,
    "start_time": "2024-02-08T14:40:44.856Z"
   },
   {
    "duration": 11,
    "start_time": "2024-02-08T14:40:44.878Z"
   },
   {
    "duration": 12,
    "start_time": "2024-02-08T14:40:44.892Z"
   },
   {
    "duration": 18,
    "start_time": "2024-02-08T14:40:44.906Z"
   },
   {
    "duration": 9,
    "start_time": "2024-02-08T14:40:44.925Z"
   },
   {
    "duration": 5,
    "start_time": "2024-02-08T14:40:44.936Z"
   },
   {
    "duration": 18,
    "start_time": "2024-02-08T14:40:44.943Z"
   },
   {
    "duration": 6,
    "start_time": "2024-02-08T14:40:44.962Z"
   },
   {
    "duration": 19,
    "start_time": "2024-02-08T14:40:44.969Z"
   },
   {
    "duration": 158,
    "start_time": "2024-02-08T14:40:44.989Z"
   },
   {
    "duration": 150,
    "start_time": "2024-02-08T14:40:45.149Z"
   },
   {
    "duration": 5,
    "start_time": "2024-02-08T14:40:45.301Z"
   },
   {
    "duration": 156,
    "start_time": "2024-02-08T14:40:45.308Z"
   },
   {
    "duration": 94,
    "start_time": "2024-02-08T14:40:45.466Z"
   },
   {
    "duration": 6,
    "start_time": "2024-02-08T14:40:45.562Z"
   },
   {
    "duration": 194,
    "start_time": "2024-02-08T14:40:45.570Z"
   },
   {
    "duration": 8,
    "start_time": "2024-02-08T14:40:45.766Z"
   },
   {
    "duration": 25,
    "start_time": "2024-02-08T14:40:45.775Z"
   },
   {
    "duration": 203,
    "start_time": "2024-02-08T14:40:45.802Z"
   },
   {
    "duration": 384,
    "start_time": "2024-02-08T14:40:46.007Z"
   },
   {
    "duration": 5,
    "start_time": "2024-02-08T14:40:46.395Z"
   },
   {
    "duration": 12,
    "start_time": "2024-02-08T14:40:46.401Z"
   },
   {
    "duration": 35,
    "start_time": "2024-02-08T14:40:46.423Z"
   },
   {
    "duration": 21,
    "start_time": "2024-02-08T14:40:46.460Z"
   },
   {
    "duration": 18,
    "start_time": "2024-02-08T14:40:46.483Z"
   },
   {
    "duration": 96,
    "start_time": "2024-02-08T14:40:46.503Z"
   },
   {
    "duration": 6,
    "start_time": "2024-02-08T14:40:46.600Z"
   },
   {
    "duration": 22,
    "start_time": "2024-02-08T14:40:46.607Z"
   },
   {
    "duration": 22,
    "start_time": "2024-02-08T14:40:46.631Z"
   },
   {
    "duration": 24,
    "start_time": "2024-02-08T14:40:46.655Z"
   },
   {
    "duration": 349,
    "start_time": "2024-02-08T14:40:46.680Z"
   },
   {
    "duration": 325,
    "start_time": "2024-02-08T14:40:47.031Z"
   },
   {
    "duration": 10,
    "start_time": "2024-02-08T14:40:47.357Z"
   },
   {
    "duration": 4,
    "start_time": "2024-02-08T14:40:47.368Z"
   },
   {
    "duration": 63,
    "start_time": "2024-02-08T14:40:47.374Z"
   },
   {
    "duration": 10,
    "start_time": "2024-02-08T14:40:47.438Z"
   },
   {
    "duration": 51,
    "start_time": "2024-02-08T14:40:47.450Z"
   },
   {
    "duration": 6,
    "start_time": "2024-02-08T14:40:47.503Z"
   },
   {
    "duration": 15,
    "start_time": "2024-02-08T14:40:47.511Z"
   },
   {
    "duration": 31,
    "start_time": "2024-02-08T14:40:47.528Z"
   },
   {
    "duration": 6,
    "start_time": "2024-02-08T14:40:47.560Z"
   },
   {
    "duration": 16,
    "start_time": "2024-02-08T14:40:47.568Z"
   },
   {
    "duration": 22,
    "start_time": "2024-02-08T14:40:47.586Z"
   },
   {
    "duration": 166,
    "start_time": "2024-02-08T14:40:47.610Z"
   },
   {
    "duration": 155,
    "start_time": "2024-02-08T14:40:47.778Z"
   },
   {
    "duration": 164,
    "start_time": "2024-02-08T14:40:47.934Z"
   },
   {
    "duration": 16,
    "start_time": "2024-02-08T14:49:55.164Z"
   },
   {
    "duration": 6,
    "start_time": "2024-02-08T14:53:54.303Z"
   },
   {
    "duration": 5,
    "start_time": "2024-02-08T14:54:12.795Z"
   },
   {
    "duration": 164,
    "start_time": "2024-02-08T14:57:19.926Z"
   },
   {
    "duration": 196,
    "start_time": "2024-02-08T14:57:29.583Z"
   },
   {
    "duration": 1161,
    "start_time": "2024-02-08T14:59:05.831Z"
   },
   {
    "duration": 129,
    "start_time": "2024-02-08T14:59:06.994Z"
   },
   {
    "duration": 12,
    "start_time": "2024-02-08T14:59:07.125Z"
   },
   {
    "duration": 31,
    "start_time": "2024-02-08T14:59:07.140Z"
   },
   {
    "duration": 18,
    "start_time": "2024-02-08T14:59:07.173Z"
   },
   {
    "duration": 17,
    "start_time": "2024-02-08T14:59:07.193Z"
   },
   {
    "duration": 13,
    "start_time": "2024-02-08T14:59:07.211Z"
   },
   {
    "duration": 11,
    "start_time": "2024-02-08T14:59:07.226Z"
   },
   {
    "duration": 13,
    "start_time": "2024-02-08T14:59:07.238Z"
   },
   {
    "duration": 10,
    "start_time": "2024-02-08T14:59:07.254Z"
   },
   {
    "duration": 6,
    "start_time": "2024-02-08T14:59:07.265Z"
   },
   {
    "duration": 25,
    "start_time": "2024-02-08T14:59:07.272Z"
   },
   {
    "duration": 23,
    "start_time": "2024-02-08T14:59:07.299Z"
   },
   {
    "duration": 12,
    "start_time": "2024-02-08T14:59:07.324Z"
   },
   {
    "duration": 6,
    "start_time": "2024-02-08T14:59:07.337Z"
   },
   {
    "duration": 20,
    "start_time": "2024-02-08T14:59:07.344Z"
   },
   {
    "duration": 165,
    "start_time": "2024-02-08T14:59:07.366Z"
   },
   {
    "duration": 173,
    "start_time": "2024-02-08T14:59:07.533Z"
   },
   {
    "duration": 6,
    "start_time": "2024-02-08T14:59:07.708Z"
   },
   {
    "duration": 123,
    "start_time": "2024-02-08T14:59:07.715Z"
   },
   {
    "duration": 91,
    "start_time": "2024-02-08T14:59:07.840Z"
   },
   {
    "duration": 6,
    "start_time": "2024-02-08T14:59:07.932Z"
   },
   {
    "duration": 174,
    "start_time": "2024-02-08T14:59:07.939Z"
   },
   {
    "duration": 13,
    "start_time": "2024-02-08T14:59:08.115Z"
   },
   {
    "duration": 23,
    "start_time": "2024-02-08T14:59:08.130Z"
   },
   {
    "duration": 214,
    "start_time": "2024-02-08T14:59:08.154Z"
   },
   {
    "duration": 378,
    "start_time": "2024-02-08T14:59:08.369Z"
   },
   {
    "duration": 6,
    "start_time": "2024-02-08T14:59:08.750Z"
   },
   {
    "duration": 7,
    "start_time": "2024-02-08T14:59:08.758Z"
   },
   {
    "duration": 14,
    "start_time": "2024-02-08T14:59:08.766Z"
   },
   {
    "duration": 9,
    "start_time": "2024-02-08T14:59:08.782Z"
   },
   {
    "duration": 45,
    "start_time": "2024-02-08T14:59:08.793Z"
   },
   {
    "duration": 111,
    "start_time": "2024-02-08T14:59:08.839Z"
   },
   {
    "duration": 6,
    "start_time": "2024-02-08T14:59:08.951Z"
   },
   {
    "duration": 30,
    "start_time": "2024-02-08T14:59:08.959Z"
   },
   {
    "duration": 16,
    "start_time": "2024-02-08T14:59:08.990Z"
   },
   {
    "duration": 16,
    "start_time": "2024-02-08T14:59:09.008Z"
   },
   {
    "duration": 321,
    "start_time": "2024-02-08T14:59:09.026Z"
   },
   {
    "duration": 338,
    "start_time": "2024-02-08T14:59:09.349Z"
   },
   {
    "duration": 10,
    "start_time": "2024-02-08T14:59:09.688Z"
   },
   {
    "duration": 7,
    "start_time": "2024-02-08T14:59:09.699Z"
   },
   {
    "duration": 56,
    "start_time": "2024-02-08T14:59:09.708Z"
   },
   {
    "duration": 8,
    "start_time": "2024-02-08T14:59:09.766Z"
   },
   {
    "duration": 29,
    "start_time": "2024-02-08T14:59:09.776Z"
   },
   {
    "duration": 5,
    "start_time": "2024-02-08T14:59:09.822Z"
   },
   {
    "duration": 19,
    "start_time": "2024-02-08T14:59:09.829Z"
   },
   {
    "duration": 22,
    "start_time": "2024-02-08T14:59:09.850Z"
   },
   {
    "duration": 10,
    "start_time": "2024-02-08T14:59:09.873Z"
   },
   {
    "duration": 42,
    "start_time": "2024-02-08T14:59:09.885Z"
   },
   {
    "duration": 17,
    "start_time": "2024-02-08T14:59:09.928Z"
   },
   {
    "duration": 178,
    "start_time": "2024-02-08T14:59:09.947Z"
   },
   {
    "duration": 169,
    "start_time": "2024-02-08T14:59:10.127Z"
   },
   {
    "duration": 173,
    "start_time": "2024-02-08T14:59:10.298Z"
   }
  ],
  "kernelspec": {
   "display_name": "Python 3 (ipykernel)",
   "language": "python",
   "name": "python3"
  },
  "language_info": {
   "codemirror_mode": {
    "name": "ipython",
    "version": 3
   },
   "file_extension": ".py",
   "mimetype": "text/x-python",
   "name": "python",
   "nbconvert_exporter": "python",
   "pygments_lexer": "ipython3",
   "version": "3.9.18"
  },
  "toc": {
   "base_numbering": 1,
   "nav_menu": {},
   "number_sections": true,
   "sideBar": true,
   "skip_h1_title": true,
   "title_cell": "Table of Contents",
   "title_sidebar": "Contents",
   "toc_cell": false,
   "toc_position": {},
   "toc_section_display": true,
   "toc_window_display": false
  }
 },
 "nbformat": 4,
 "nbformat_minor": 5
}
